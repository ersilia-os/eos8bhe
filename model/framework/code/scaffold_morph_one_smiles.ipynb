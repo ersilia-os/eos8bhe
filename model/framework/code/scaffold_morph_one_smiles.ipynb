{
 "cells": [
  {
   "cell_type": "code",
   "execution_count": 2,
   "metadata": {},
   "outputs": [
    {
     "name": "stdout",
     "output_type": "stream",
     "text": [
      "RDKit version:  2023.09.3\n",
      "MatplotLib version: 3.8.2\n"
     ]
    }
   ],
   "source": [
    "# import libraries\n",
    "import os\n",
    "os.environ[\"TOKENIZERS_PARALLELISM\"] = \"false\"\n",
    "import safe as sf\n",
    "import datamol as dm\n",
    "from safe.utils import compute_side_chains\n",
    "import csv\n",
    "from rdkit import Chem\n",
    "from rdkit import Chem, rdBase\n",
    "from rdkit.Chem import Draw\n",
    "from rdkit.Chem.Scaffolds import rdScaffoldNetwork\n",
    "from rdkit.Chem import Descriptors\n",
    "import matplotlib as mpl\n",
    "from rdkit import Chem\n",
    "\n",
    "print('RDKit version: ',rdBase.rdkitVersion)\n",
    "print('MatplotLib version:', mpl.__version__)"
   ]
  },
  {
   "cell_type": "markdown",
   "metadata": {},
   "source": [
    "## Scaffold Morphing\n",
    "It requires side chains as input.\n",
    "\n",
    "Steps:\n",
    "* Get SMILES\n",
    "* Extract core from SMILES (convert SMILES to molecule to do this)\n",
    "* Pass in SMILES and core to generate side chain\n",
    "* Finally, pass in side chain to the model to generate the molecules for scaffold morphing.\n",
    "\n",
    "In the rest of this notebook, I'll be playing around with codes to achieve different parts of this."
   ]
  },
  {
   "cell_type": "code",
   "execution_count": 9,
   "metadata": {},
   "outputs": [
    {
     "data": {
      "image/svg+xml": [
       "<svg xmlns=\"http://www.w3.org/2000/svg\" xmlns:rdkit=\"http://www.rdkit.org/xml\" xmlns:xlink=\"http://www.w3.org/1999/xlink\" version=\"1.1\" baseProfile=\"full\" xml:space=\"preserve\" width=\"300px\" height=\"300px\" viewBox=\"0 0 300 300\">\n",
       "<!-- END OF HEADER -->\n",
       "<rect style=\"opacity:1.0;fill:#FFFFFF;stroke:none\" width=\"300.0\" height=\"300.0\" x=\"0.0\" y=\"0.0\"> </rect>\n",
       "<path class=\"bond-0 atom-0 atom-1\" d=\"M 36.1,102.7 L 58.1,89.6\" style=\"fill:none;fill-rule:evenodd;stroke:#000000;stroke-width:2.0px;stroke-linecap:butt;stroke-linejoin:miter;stroke-opacity:1\"/>\n",
       "<path class=\"bond-1 atom-1 atom-2\" d=\"M 58.1,89.6 L 80.2,76.5\" style=\"fill:none;fill-rule:evenodd;stroke:#000000;stroke-width:2.0px;stroke-linecap:butt;stroke-linejoin:miter;stroke-opacity:1\"/>\n",
       "<path class=\"bond-2 atom-1 atom-3\" d=\"M 58.1,89.6 L 45.0,67.5\" style=\"fill:none;fill-rule:evenodd;stroke:#000000;stroke-width:2.0px;stroke-linecap:butt;stroke-linejoin:miter;stroke-opacity:1\"/>\n",
       "<path class=\"bond-3 atom-1 atom-4\" d=\"M 58.1,89.6 L 71.2,111.7\" style=\"fill:none;fill-rule:evenodd;stroke:#000000;stroke-width:2.0px;stroke-linecap:butt;stroke-linejoin:miter;stroke-opacity:1\"/>\n",
       "<path class=\"bond-4 atom-4 atom-5\" d=\"M 71.2,111.7 L 82.2,112.7\" style=\"fill:none;fill-rule:evenodd;stroke:#000000;stroke-width:2.0px;stroke-linecap:butt;stroke-linejoin:miter;stroke-opacity:1\"/>\n",
       "<path class=\"bond-4 atom-4 atom-5\" d=\"M 82.2,112.7 L 93.2,113.7\" style=\"fill:none;fill-rule:evenodd;stroke:#0000FF;stroke-width:2.0px;stroke-linecap:butt;stroke-linejoin:miter;stroke-opacity:1\"/>\n",
       "<path class=\"bond-4 atom-4 atom-5\" d=\"M 73.7,115.8 L 83.2,116.6\" style=\"fill:none;fill-rule:evenodd;stroke:#000000;stroke-width:2.0px;stroke-linecap:butt;stroke-linejoin:miter;stroke-opacity:1\"/>\n",
       "<path class=\"bond-4 atom-4 atom-5\" d=\"M 83.2,116.6 L 92.8,117.5\" style=\"fill:none;fill-rule:evenodd;stroke:#0000FF;stroke-width:2.0px;stroke-linecap:butt;stroke-linejoin:miter;stroke-opacity:1\"/>\n",
       "<path class=\"bond-5 atom-5 atom-6\" d=\"M 97.8,118.5 L 100.1,128.8\" style=\"fill:none;fill-rule:evenodd;stroke:#0000FF;stroke-width:2.0px;stroke-linecap:butt;stroke-linejoin:miter;stroke-opacity:1\"/>\n",
       "<path class=\"bond-5 atom-5 atom-6\" d=\"M 100.1,128.8 L 102.4,139.1\" style=\"fill:none;fill-rule:evenodd;stroke:#000000;stroke-width:2.0px;stroke-linecap:butt;stroke-linejoin:miter;stroke-opacity:1\"/>\n",
       "<path class=\"bond-6 atom-6 atom-7\" d=\"M 102.4,139.1 L 80.4,152.2\" style=\"fill:none;fill-rule:evenodd;stroke:#000000;stroke-width:2.0px;stroke-linecap:butt;stroke-linejoin:miter;stroke-opacity:1\"/>\n",
       "<path class=\"bond-6 atom-6 atom-7\" d=\"M 98.1,137.2 L 80.8,147.4\" style=\"fill:none;fill-rule:evenodd;stroke:#000000;stroke-width:2.0px;stroke-linecap:butt;stroke-linejoin:miter;stroke-opacity:1\"/>\n",
       "<path class=\"bond-7 atom-7 atom-8\" d=\"M 80.4,152.2 L 72.3,145.1\" style=\"fill:none;fill-rule:evenodd;stroke:#000000;stroke-width:2.0px;stroke-linecap:butt;stroke-linejoin:miter;stroke-opacity:1\"/>\n",
       "<path class=\"bond-7 atom-7 atom-8\" d=\"M 72.3,145.1 L 64.3,138.0\" style=\"fill:none;fill-rule:evenodd;stroke:#CCCC00;stroke-width:2.0px;stroke-linecap:butt;stroke-linejoin:miter;stroke-opacity:1\"/>\n",
       "<path class=\"bond-8 atom-7 atom-9\" d=\"M 80.4,152.2 L 78.0,177.7\" style=\"fill:none;fill-rule:evenodd;stroke:#000000;stroke-width:2.0px;stroke-linecap:butt;stroke-linejoin:miter;stroke-opacity:1\"/>\n",
       "<path class=\"bond-9 atom-9 atom-10\" d=\"M 78.0,177.7 L 99.0,192.5\" style=\"fill:none;fill-rule:evenodd;stroke:#000000;stroke-width:2.0px;stroke-linecap:butt;stroke-linejoin:miter;stroke-opacity:1\"/>\n",
       "<path class=\"bond-9 atom-9 atom-10\" d=\"M 77.6,182.1 L 94.9,194.4\" style=\"fill:none;fill-rule:evenodd;stroke:#000000;stroke-width:2.0px;stroke-linecap:butt;stroke-linejoin:miter;stroke-opacity:1\"/>\n",
       "<path class=\"bond-10 atom-10 atom-11\" d=\"M 99.0,192.5 L 96.6,218.1\" style=\"fill:none;fill-rule:evenodd;stroke:#000000;stroke-width:2.0px;stroke-linecap:butt;stroke-linejoin:miter;stroke-opacity:1\"/>\n",
       "<path class=\"bond-11 atom-11 atom-12\" d=\"M 96.6,218.1 L 86.7,222.6\" style=\"fill:none;fill-rule:evenodd;stroke:#000000;stroke-width:2.0px;stroke-linecap:butt;stroke-linejoin:miter;stroke-opacity:1\"/>\n",
       "<path class=\"bond-11 atom-11 atom-12\" d=\"M 86.7,222.6 L 76.9,227.2\" style=\"fill:none;fill-rule:evenodd;stroke:#0000FF;stroke-width:2.0px;stroke-linecap:butt;stroke-linejoin:miter;stroke-opacity:1\"/>\n",
       "<path class=\"bond-11 atom-11 atom-12\" d=\"M 93.0,215.5 L 84.1,219.6\" style=\"fill:none;fill-rule:evenodd;stroke:#000000;stroke-width:2.0px;stroke-linecap:butt;stroke-linejoin:miter;stroke-opacity:1\"/>\n",
       "<path class=\"bond-11 atom-11 atom-12\" d=\"M 84.1,219.6 L 75.3,223.7\" style=\"fill:none;fill-rule:evenodd;stroke:#0000FF;stroke-width:2.0px;stroke-linecap:butt;stroke-linejoin:miter;stroke-opacity:1\"/>\n",
       "<path class=\"bond-12 atom-12 atom-13\" d=\"M 69.7,226.3 L 61.0,220.1\" style=\"fill:none;fill-rule:evenodd;stroke:#0000FF;stroke-width:2.0px;stroke-linecap:butt;stroke-linejoin:miter;stroke-opacity:1\"/>\n",
       "<path class=\"bond-12 atom-12 atom-13\" d=\"M 61.0,220.1 L 52.3,214.0\" style=\"fill:none;fill-rule:evenodd;stroke:#000000;stroke-width:2.0px;stroke-linecap:butt;stroke-linejoin:miter;stroke-opacity:1\"/>\n",
       "<path class=\"bond-13 atom-13 atom-14\" d=\"M 52.3,214.0 L 42.5,218.5\" style=\"fill:none;fill-rule:evenodd;stroke:#000000;stroke-width:2.0px;stroke-linecap:butt;stroke-linejoin:miter;stroke-opacity:1\"/>\n",
       "<path class=\"bond-13 atom-13 atom-14\" d=\"M 42.5,218.5 L 32.6,223.1\" style=\"fill:none;fill-rule:evenodd;stroke:#0000FF;stroke-width:2.0px;stroke-linecap:butt;stroke-linejoin:miter;stroke-opacity:1\"/>\n",
       "<path class=\"bond-14 atom-13 atom-15\" d=\"M 52.3,214.0 L 53.3,203.5\" style=\"fill:none;fill-rule:evenodd;stroke:#000000;stroke-width:2.0px;stroke-linecap:butt;stroke-linejoin:miter;stroke-opacity:1\"/>\n",
       "<path class=\"bond-14 atom-13 atom-15\" d=\"M 53.3,203.5 L 54.3,192.9\" style=\"fill:none;fill-rule:evenodd;stroke:#0000FF;stroke-width:2.0px;stroke-linecap:butt;stroke-linejoin:miter;stroke-opacity:1\"/>\n",
       "<path class=\"bond-14 atom-13 atom-15\" d=\"M 56.4,212.1 L 57.2,202.7\" style=\"fill:none;fill-rule:evenodd;stroke:#000000;stroke-width:2.0px;stroke-linecap:butt;stroke-linejoin:miter;stroke-opacity:1\"/>\n",
       "<path class=\"bond-14 atom-13 atom-15\" d=\"M 57.2,202.7 L 58.1,193.3\" style=\"fill:none;fill-rule:evenodd;stroke:#0000FF;stroke-width:2.0px;stroke-linecap:butt;stroke-linejoin:miter;stroke-opacity:1\"/>\n",
       "<path class=\"bond-15 atom-6 atom-16\" d=\"M 102.4,139.1 L 126.0,149.2\" style=\"fill:none;fill-rule:evenodd;stroke:#000000;stroke-width:2.0px;stroke-linecap:butt;stroke-linejoin:miter;stroke-opacity:1\"/>\n",
       "<path class=\"bond-16 atom-16 atom-17\" d=\"M 126.0,149.2 L 129.0,174.7\" style=\"fill:none;fill-rule:evenodd;stroke:#000000;stroke-width:2.0px;stroke-linecap:butt;stroke-linejoin:miter;stroke-opacity:1\"/>\n",
       "<path class=\"bond-16 atom-16 atom-17\" d=\"M 130.1,151.0 L 132.6,172.0\" style=\"fill:none;fill-rule:evenodd;stroke:#000000;stroke-width:2.0px;stroke-linecap:butt;stroke-linejoin:miter;stroke-opacity:1\"/>\n",
       "<path class=\"bond-17 atom-17 atom-18\" d=\"M 129.0,174.7 L 152.6,184.8\" style=\"fill:none;fill-rule:evenodd;stroke:#000000;stroke-width:2.0px;stroke-linecap:butt;stroke-linejoin:miter;stroke-opacity:1\"/>\n",
       "<path class=\"bond-18 atom-18 atom-19\" d=\"M 152.6,184.8 L 173.1,169.5\" style=\"fill:none;fill-rule:evenodd;stroke:#000000;stroke-width:2.0px;stroke-linecap:butt;stroke-linejoin:miter;stroke-opacity:1\"/>\n",
       "<path class=\"bond-18 atom-18 atom-19\" d=\"M 152.1,180.4 L 169.1,167.7\" style=\"fill:none;fill-rule:evenodd;stroke:#000000;stroke-width:2.0px;stroke-linecap:butt;stroke-linejoin:miter;stroke-opacity:1\"/>\n",
       "<path class=\"bond-19 atom-19 atom-20\" d=\"M 173.1,169.5 L 170.1,144.0\" style=\"fill:none;fill-rule:evenodd;stroke:#000000;stroke-width:2.0px;stroke-linecap:butt;stroke-linejoin:miter;stroke-opacity:1\"/>\n",
       "<path class=\"bond-20 atom-20 atom-21\" d=\"M 170.1,144.0 L 178.6,137.7\" style=\"fill:none;fill-rule:evenodd;stroke:#000000;stroke-width:2.0px;stroke-linecap:butt;stroke-linejoin:miter;stroke-opacity:1\"/>\n",
       "<path class=\"bond-20 atom-20 atom-21\" d=\"M 178.6,137.7 L 187.1,131.3\" style=\"fill:none;fill-rule:evenodd;stroke:#0000FF;stroke-width:2.0px;stroke-linecap:butt;stroke-linejoin:miter;stroke-opacity:1\"/>\n",
       "<path class=\"bond-21 atom-21 atom-22\" d=\"M 194.3,130.2 L 202.7,133.8\" style=\"fill:none;fill-rule:evenodd;stroke:#0000FF;stroke-width:2.0px;stroke-linecap:butt;stroke-linejoin:miter;stroke-opacity:1\"/>\n",
       "<path class=\"bond-21 atom-21 atom-22\" d=\"M 202.7,133.8 L 211.1,137.4\" style=\"fill:none;fill-rule:evenodd;stroke:#CCCC00;stroke-width:2.0px;stroke-linecap:butt;stroke-linejoin:miter;stroke-opacity:1\"/>\n",
       "<path class=\"bond-22 atom-22 atom-23\" d=\"M 210.5,142.7 L 207.4,149.9\" style=\"fill:none;fill-rule:evenodd;stroke:#CCCC00;stroke-width:2.0px;stroke-linecap:butt;stroke-linejoin:miter;stroke-opacity:1\"/>\n",
       "<path class=\"bond-22 atom-22 atom-23\" d=\"M 207.4,149.9 L 204.3,157.1\" style=\"fill:none;fill-rule:evenodd;stroke:#FF0000;stroke-width:2.0px;stroke-linecap:butt;stroke-linejoin:miter;stroke-opacity:1\"/>\n",
       "<path class=\"bond-22 atom-22 atom-23\" d=\"M 214.0,144.2 L 210.9,151.4\" style=\"fill:none;fill-rule:evenodd;stroke:#CCCC00;stroke-width:2.0px;stroke-linecap:butt;stroke-linejoin:miter;stroke-opacity:1\"/>\n",
       "<path class=\"bond-22 atom-22 atom-23\" d=\"M 210.9,151.4 L 207.9,158.6\" style=\"fill:none;fill-rule:evenodd;stroke:#FF0000;stroke-width:2.0px;stroke-linecap:butt;stroke-linejoin:miter;stroke-opacity:1\"/>\n",
       "<path class=\"bond-23 atom-22 atom-24\" d=\"M 218.0,135.1 L 221.1,127.9\" style=\"fill:none;fill-rule:evenodd;stroke:#CCCC00;stroke-width:2.0px;stroke-linecap:butt;stroke-linejoin:miter;stroke-opacity:1\"/>\n",
       "<path class=\"bond-23 atom-22 atom-24\" d=\"M 221.1,127.9 L 224.2,120.6\" style=\"fill:none;fill-rule:evenodd;stroke:#FF0000;stroke-width:2.0px;stroke-linecap:butt;stroke-linejoin:miter;stroke-opacity:1\"/>\n",
       "<path class=\"bond-23 atom-22 atom-24\" d=\"M 214.4,133.6 L 217.6,126.3\" style=\"fill:none;fill-rule:evenodd;stroke:#CCCC00;stroke-width:2.0px;stroke-linecap:butt;stroke-linejoin:miter;stroke-opacity:1\"/>\n",
       "<path class=\"bond-23 atom-22 atom-24\" d=\"M 217.6,126.3 L 220.7,119.1\" style=\"fill:none;fill-rule:evenodd;stroke:#FF0000;stroke-width:2.0px;stroke-linecap:butt;stroke-linejoin:miter;stroke-opacity:1\"/>\n",
       "<path class=\"bond-24 atom-22 atom-25\" d=\"M 217.5,140.2 L 227.7,144.5\" style=\"fill:none;fill-rule:evenodd;stroke:#CCCC00;stroke-width:2.0px;stroke-linecap:butt;stroke-linejoin:miter;stroke-opacity:1\"/>\n",
       "<path class=\"bond-24 atom-22 atom-25\" d=\"M 227.7,144.5 L 237.9,148.9\" style=\"fill:none;fill-rule:evenodd;stroke:#000000;stroke-width:2.0px;stroke-linecap:butt;stroke-linejoin:miter;stroke-opacity:1\"/>\n",
       "<path class=\"bond-25 atom-25 atom-26\" d=\"M 237.9,148.9 L 240.9,174.4\" style=\"fill:none;fill-rule:evenodd;stroke:#000000;stroke-width:2.0px;stroke-linecap:butt;stroke-linejoin:miter;stroke-opacity:1\"/>\n",
       "<path class=\"bond-25 atom-25 atom-26\" d=\"M 241.9,150.7 L 244.4,171.8\" style=\"fill:none;fill-rule:evenodd;stroke:#000000;stroke-width:2.0px;stroke-linecap:butt;stroke-linejoin:miter;stroke-opacity:1\"/>\n",
       "<path class=\"bond-26 atom-26 atom-27\" d=\"M 240.9,174.4 L 232.1,181.0\" style=\"fill:none;fill-rule:evenodd;stroke:#000000;stroke-width:2.0px;stroke-linecap:butt;stroke-linejoin:miter;stroke-opacity:1\"/>\n",
       "<path class=\"bond-26 atom-26 atom-27\" d=\"M 232.1,181.0 L 223.3,187.5\" style=\"fill:none;fill-rule:evenodd;stroke:#33CCCC;stroke-width:2.0px;stroke-linecap:butt;stroke-linejoin:miter;stroke-opacity:1\"/>\n",
       "<path class=\"bond-27 atom-26 atom-28\" d=\"M 240.9,174.4 L 264.4,184.6\" style=\"fill:none;fill-rule:evenodd;stroke:#000000;stroke-width:2.0px;stroke-linecap:butt;stroke-linejoin:miter;stroke-opacity:1\"/>\n",
       "<path class=\"bond-28 atom-28 atom-29\" d=\"M 264.4,184.6 L 285.0,169.2\" style=\"fill:none;fill-rule:evenodd;stroke:#000000;stroke-width:2.0px;stroke-linecap:butt;stroke-linejoin:miter;stroke-opacity:1\"/>\n",
       "<path class=\"bond-28 atom-28 atom-29\" d=\"M 263.9,180.2 L 280.9,167.5\" style=\"fill:none;fill-rule:evenodd;stroke:#000000;stroke-width:2.0px;stroke-linecap:butt;stroke-linejoin:miter;stroke-opacity:1\"/>\n",
       "<path class=\"bond-29 atom-29 atom-30\" d=\"M 285.0,169.2 L 282.0,143.7\" style=\"fill:none;fill-rule:evenodd;stroke:#000000;stroke-width:2.0px;stroke-linecap:butt;stroke-linejoin:miter;stroke-opacity:1\"/>\n",
       "<path class=\"bond-30 atom-30 atom-31\" d=\"M 282.0,143.7 L 258.4,133.6\" style=\"fill:none;fill-rule:evenodd;stroke:#000000;stroke-width:2.0px;stroke-linecap:butt;stroke-linejoin:miter;stroke-opacity:1\"/>\n",
       "<path class=\"bond-30 atom-30 atom-31\" d=\"M 278.4,146.4 L 258.9,138.0\" style=\"fill:none;fill-rule:evenodd;stroke:#000000;stroke-width:2.0px;stroke-linecap:butt;stroke-linejoin:miter;stroke-opacity:1\"/>\n",
       "<path class=\"bond-31 atom-31 atom-32\" d=\"M 258.4,133.6 L 257.2,123.1\" style=\"fill:none;fill-rule:evenodd;stroke:#000000;stroke-width:2.0px;stroke-linecap:butt;stroke-linejoin:miter;stroke-opacity:1\"/>\n",
       "<path class=\"bond-31 atom-31 atom-32\" d=\"M 257.2,123.1 L 255.9,112.6\" style=\"fill:none;fill-rule:evenodd;stroke:#33CCCC;stroke-width:2.0px;stroke-linecap:butt;stroke-linejoin:miter;stroke-opacity:1\"/>\n",
       "<path class=\"bond-32 atom-20 atom-33\" d=\"M 170.1,144.0 L 146.6,133.9\" style=\"fill:none;fill-rule:evenodd;stroke:#000000;stroke-width:2.0px;stroke-linecap:butt;stroke-linejoin:miter;stroke-opacity:1\"/>\n",
       "<path class=\"bond-32 atom-20 atom-33\" d=\"M 166.6,146.7 L 147.1,138.3\" style=\"fill:none;fill-rule:evenodd;stroke:#000000;stroke-width:2.0px;stroke-linecap:butt;stroke-linejoin:miter;stroke-opacity:1\"/>\n",
       "<path class=\"bond-33 atom-33 atom-34\" d=\"M 146.6,133.9 L 145.3,123.4\" style=\"fill:none;fill-rule:evenodd;stroke:#000000;stroke-width:2.0px;stroke-linecap:butt;stroke-linejoin:miter;stroke-opacity:1\"/>\n",
       "<path class=\"bond-33 atom-33 atom-34\" d=\"M 145.3,123.4 L 144.1,112.9\" style=\"fill:none;fill-rule:evenodd;stroke:#33CCCC;stroke-width:2.0px;stroke-linecap:butt;stroke-linejoin:miter;stroke-opacity:1\"/>\n",
       "<path class=\"bond-34 atom-8 atom-4\" d=\"M 63.0,130.8 L 67.1,121.2\" style=\"fill:none;fill-rule:evenodd;stroke:#CCCC00;stroke-width:2.0px;stroke-linecap:butt;stroke-linejoin:miter;stroke-opacity:1\"/>\n",
       "<path class=\"bond-34 atom-8 atom-4\" d=\"M 67.1,121.2 L 71.2,111.7\" style=\"fill:none;fill-rule:evenodd;stroke:#000000;stroke-width:2.0px;stroke-linecap:butt;stroke-linejoin:miter;stroke-opacity:1\"/>\n",
       "<path class=\"bond-35 atom-15 atom-9\" d=\"M 58.3,186.8 L 68.2,182.3\" style=\"fill:none;fill-rule:evenodd;stroke:#0000FF;stroke-width:2.0px;stroke-linecap:butt;stroke-linejoin:miter;stroke-opacity:1\"/>\n",
       "<path class=\"bond-35 atom-15 atom-9\" d=\"M 68.2,182.3 L 78.0,177.7\" style=\"fill:none;fill-rule:evenodd;stroke:#000000;stroke-width:2.0px;stroke-linecap:butt;stroke-linejoin:miter;stroke-opacity:1\"/>\n",
       "<path class=\"bond-36 atom-33 atom-16\" d=\"M 146.6,133.9 L 126.0,149.2\" style=\"fill:none;fill-rule:evenodd;stroke:#000000;stroke-width:2.0px;stroke-linecap:butt;stroke-linejoin:miter;stroke-opacity:1\"/>\n",
       "<path class=\"bond-37 atom-31 atom-25\" d=\"M 258.4,133.6 L 237.9,148.9\" style=\"fill:none;fill-rule:evenodd;stroke:#000000;stroke-width:2.0px;stroke-linecap:butt;stroke-linejoin:miter;stroke-opacity:1\"/>\n",
       "<path d=\"M 97.9,191.8 L 99.0,192.5 L 98.8,193.8\" style=\"fill:none;stroke:#000000;stroke-width:2.0px;stroke-linecap:butt;stroke-linejoin:miter;stroke-opacity:1;\"/>\n",
       "<path d=\"M 96.7,216.8 L 96.6,218.1 L 96.1,218.3\" style=\"fill:none;stroke:#000000;stroke-width:2.0px;stroke-linecap:butt;stroke-linejoin:miter;stroke-opacity:1;\"/>\n",
       "<path d=\"M 128.9,173.4 L 129.0,174.7 L 130.2,175.2\" style=\"fill:none;stroke:#000000;stroke-width:2.0px;stroke-linecap:butt;stroke-linejoin:miter;stroke-opacity:1;\"/>\n",
       "<path d=\"M 151.4,184.3 L 152.6,184.8 L 153.6,184.1\" style=\"fill:none;stroke:#000000;stroke-width:2.0px;stroke-linecap:butt;stroke-linejoin:miter;stroke-opacity:1;\"/>\n",
       "<path d=\"M 172.1,170.2 L 173.1,169.5 L 173.0,168.2\" style=\"fill:none;stroke:#000000;stroke-width:2.0px;stroke-linecap:butt;stroke-linejoin:miter;stroke-opacity:1;\"/>\n",
       "<path d=\"M 263.3,184.1 L 264.4,184.6 L 265.5,183.8\" style=\"fill:none;stroke:#000000;stroke-width:2.0px;stroke-linecap:butt;stroke-linejoin:miter;stroke-opacity:1;\"/>\n",
       "<path d=\"M 284.0,170.0 L 285.0,169.2 L 284.8,167.9\" style=\"fill:none;stroke:#000000;stroke-width:2.0px;stroke-linecap:butt;stroke-linejoin:miter;stroke-opacity:1;\"/>\n",
       "<path d=\"M 282.1,145.0 L 282.0,143.7 L 280.8,143.2\" style=\"fill:none;stroke:#000000;stroke-width:2.0px;stroke-linecap:butt;stroke-linejoin:miter;stroke-opacity:1;\"/>\n",
       "<path class=\"atom-5\" d=\"M 95.2 110.4 L 97.6 114.2 Q 97.8 114.6, 98.2 115.3 Q 98.5 116.0, 98.6 116.0 L 98.6 110.4 L 99.5 110.4 L 99.5 117.7 L 98.5 117.7 L 96.0 113.5 Q 95.7 113.0, 95.4 112.4 Q 95.1 111.8, 95.0 111.7 L 95.0 117.7 L 94.0 117.7 L 94.0 110.4 L 95.2 110.4 \" fill=\"#0000FF\"/>\n",
       "<path class=\"atom-8\" d=\"M 59.0 137.7 Q 59.1 137.8, 59.5 137.9 Q 59.8 138.0, 60.2 138.1 Q 60.5 138.2, 60.9 138.2 Q 61.6 138.2, 62.0 137.9 Q 62.4 137.6, 62.4 137.0 Q 62.4 136.6, 62.2 136.3 Q 62.0 136.1, 61.7 135.9 Q 61.4 135.8, 60.9 135.7 Q 60.2 135.5, 59.8 135.3 Q 59.5 135.1, 59.2 134.7 Q 58.9 134.3, 58.9 133.7 Q 58.9 132.7, 59.5 132.2 Q 60.1 131.6, 61.4 131.6 Q 62.2 131.6, 63.2 132.0 L 62.9 132.8 Q 62.1 132.4, 61.4 132.4 Q 60.7 132.4, 60.3 132.7 Q 59.9 133.0, 59.9 133.5 Q 59.9 133.9, 60.1 134.2 Q 60.3 134.4, 60.6 134.5 Q 60.9 134.7, 61.4 134.8 Q 62.1 135.0, 62.5 135.2 Q 62.8 135.4, 63.1 135.9 Q 63.4 136.3, 63.4 137.0 Q 63.4 138.0, 62.7 138.5 Q 62.1 139.1, 60.9 139.1 Q 60.3 139.1, 59.8 138.9 Q 59.3 138.8, 58.8 138.5 L 59.0 137.7 \" fill=\"#CCCC00\"/>\n",
       "<path class=\"atom-12\" d=\"M 71.7 225.2 L 74.1 229.0 Q 74.3 229.4, 74.7 230.1 Q 75.1 230.8, 75.1 230.8 L 75.1 225.2 L 76.0 225.2 L 76.0 232.5 L 75.0 232.5 L 72.5 228.2 Q 72.2 227.8, 71.9 227.2 Q 71.6 226.6, 71.5 226.5 L 71.5 232.5 L 70.5 232.5 L 70.5 225.2 L 71.7 225.2 \" fill=\"#0000FF\"/>\n",
       "<path class=\"atom-14\" d=\"M 15.0 221.1 L 16.0 221.1 L 16.0 224.2 L 19.7 224.2 L 19.7 221.1 L 20.7 221.1 L 20.7 228.4 L 19.7 228.4 L 19.7 225.0 L 16.0 225.0 L 16.0 228.4 L 15.0 228.4 L 15.0 221.1 \" fill=\"#0000FF\"/>\n",
       "<path class=\"atom-14\" d=\"M 22.1 228.1 Q 22.3 227.7, 22.7 227.4 Q 23.1 227.2, 23.7 227.2 Q 24.4 227.2, 24.8 227.5 Q 25.2 227.9, 25.2 228.6 Q 25.2 229.3, 24.7 230.0 Q 24.2 230.7, 23.1 231.5 L 25.3 231.5 L 25.3 232.0 L 22.1 232.0 L 22.1 231.5 Q 23.0 230.9, 23.5 230.4 Q 24.1 230.0, 24.3 229.5 Q 24.6 229.1, 24.6 228.7 Q 24.6 228.2, 24.3 227.9 Q 24.1 227.7, 23.7 227.7 Q 23.3 227.7, 23.1 227.8 Q 22.8 228.0, 22.6 228.3 L 22.1 228.1 \" fill=\"#0000FF\"/>\n",
       "<path class=\"atom-14\" d=\"M 27.4 221.1 L 29.8 224.9 Q 30.0 225.3, 30.4 226.0 Q 30.8 226.7, 30.8 226.7 L 30.8 221.1 L 31.8 221.1 L 31.8 228.4 L 30.8 228.4 L 28.2 224.2 Q 27.9 223.7, 27.6 223.1 Q 27.3 222.5, 27.2 222.4 L 27.2 228.4 L 26.3 228.4 L 26.3 221.1 L 27.4 221.1 \" fill=\"#0000FF\"/>\n",
       "<path class=\"atom-15\" d=\"M 53.1 184.8 L 55.5 188.7 Q 55.7 189.0, 56.1 189.7 Q 56.5 190.4, 56.5 190.5 L 56.5 184.8 L 57.5 184.8 L 57.5 192.1 L 56.5 192.1 L 53.9 187.9 Q 53.6 187.4, 53.3 186.8 Q 53.0 186.3, 52.9 186.1 L 52.9 192.1 L 51.9 192.1 L 51.9 184.8 L 53.1 184.8 \" fill=\"#0000FF\"/>\n",
       "<path class=\"atom-21\" d=\"M 189.1 125.0 L 191.5 128.9 Q 191.7 129.2, 192.1 129.9 Q 192.5 130.6, 192.5 130.7 L 192.5 125.0 L 193.5 125.0 L 193.5 132.3 L 192.5 132.3 L 189.9 128.1 Q 189.6 127.6, 189.3 127.0 Q 189.0 126.5, 188.9 126.3 L 188.9 132.3 L 188.0 132.3 L 188.0 125.0 L 189.1 125.0 \" fill=\"#0000FF\"/>\n",
       "<path class=\"atom-21\" d=\"M 187.9 117.0 L 188.9 117.0 L 188.9 120.1 L 192.6 120.1 L 192.6 117.0 L 193.6 117.0 L 193.6 124.3 L 192.6 124.3 L 192.6 120.9 L 188.9 120.9 L 188.9 124.3 L 187.9 124.3 L 187.9 117.0 \" fill=\"#0000FF\"/>\n",
       "<path class=\"atom-22\" d=\"M 212.2 141.3 Q 212.3 141.3, 212.7 141.5 Q 213.0 141.6, 213.4 141.7 Q 213.7 141.8, 214.1 141.8 Q 214.8 141.8, 215.2 141.5 Q 215.6 141.1, 215.6 140.5 Q 215.6 140.1, 215.4 139.9 Q 215.2 139.6, 214.9 139.5 Q 214.6 139.4, 214.1 139.2 Q 213.4 139.0, 213.0 138.8 Q 212.7 138.7, 212.4 138.3 Q 212.1 137.9, 212.1 137.2 Q 212.1 136.3, 212.7 135.7 Q 213.3 135.2, 214.6 135.2 Q 215.4 135.2, 216.4 135.6 L 216.1 136.4 Q 215.3 136.0, 214.6 136.0 Q 213.9 136.0, 213.5 136.3 Q 213.1 136.6, 213.1 137.1 Q 213.1 137.5, 213.3 137.7 Q 213.5 138.0, 213.8 138.1 Q 214.1 138.2, 214.6 138.4 Q 215.3 138.6, 215.7 138.8 Q 216.0 139.0, 216.3 139.4 Q 216.6 139.8, 216.6 140.5 Q 216.6 141.5, 215.9 142.1 Q 215.3 142.6, 214.1 142.6 Q 213.5 142.6, 213.0 142.5 Q 212.5 142.3, 212.0 142.1 L 212.2 141.3 \" fill=\"#CCCC00\"/>\n",
       "<path class=\"atom-23\" d=\"M 200.8 162.4 Q 200.8 160.6, 201.7 159.7 Q 202.5 158.7, 204.1 158.7 Q 205.8 158.7, 206.6 159.7 Q 207.5 160.6, 207.5 162.4 Q 207.5 164.2, 206.6 165.2 Q 205.7 166.2, 204.1 166.2 Q 202.5 166.2, 201.7 165.2 Q 200.8 164.2, 200.8 162.4 M 204.1 165.3 Q 205.3 165.3, 205.8 164.6 Q 206.5 163.8, 206.5 162.4 Q 206.5 161.0, 205.8 160.2 Q 205.3 159.5, 204.1 159.5 Q 203.0 159.5, 202.4 160.2 Q 201.8 161.0, 201.8 162.4 Q 201.8 163.9, 202.4 164.6 Q 203.0 165.3, 204.1 165.3 \" fill=\"#FF0000\"/>\n",
       "<path class=\"atom-24\" d=\"M 221.1 115.2 Q 221.1 113.5, 222.0 112.5 Q 222.8 111.5, 224.4 111.5 Q 226.0 111.5, 226.9 112.5 Q 227.8 113.5, 227.8 115.2 Q 227.8 117.0, 226.9 118.0 Q 226.0 119.0, 224.4 119.0 Q 222.8 119.0, 222.0 118.0 Q 221.1 117.0, 221.1 115.2 M 224.4 118.2 Q 225.5 118.2, 226.1 117.5 Q 226.7 116.7, 226.7 115.2 Q 226.7 113.8, 226.1 113.1 Q 225.5 112.4, 224.4 112.4 Q 223.3 112.4, 222.7 113.1 Q 222.1 113.8, 222.1 115.2 Q 222.1 116.7, 222.7 117.5 Q 223.3 118.2, 224.4 118.2 \" fill=\"#FF0000\"/>\n",
       "<path class=\"atom-27\" d=\"M 218.1 186.1 L 222.5 186.1 L 222.5 187.0 L 219.1 187.0 L 219.1 189.2 L 222.1 189.2 L 222.1 190.0 L 219.1 190.0 L 219.1 193.4 L 218.1 193.4 L 218.1 186.1 \" fill=\"#33CCCC\"/>\n",
       "<path class=\"atom-32\" d=\"M 253.3 104.5 L 257.6 104.5 L 257.6 105.3 L 254.2 105.3 L 254.2 107.5 L 257.2 107.5 L 257.2 108.4 L 254.2 108.4 L 254.2 111.7 L 253.3 111.7 L 253.3 104.5 \" fill=\"#33CCCC\"/>\n",
       "<path class=\"atom-34\" d=\"M 141.4 104.7 L 145.7 104.7 L 145.7 105.6 L 142.4 105.6 L 142.4 107.8 L 145.4 107.8 L 145.4 108.6 L 142.4 108.6 L 142.4 112.0 L 141.4 112.0 L 141.4 104.7 \" fill=\"#33CCCC\"/>\n",
       "</svg>"
      ],
      "text/plain": [
       "<IPython.core.display.SVG object>"
      ]
     },
     "execution_count": 9,
     "metadata": {},
     "output_type": "execute_result"
    }
   ],
   "source": [
    "# read SMILES from .csv file, assuming one column with header\n",
    "with open(\"data/my_molecules (copy).csv\", \"r\") as f:\n",
    "    reader = csv.reader(f)\n",
    "    next(reader)  # skip header\n",
    "    smiles_list = [r[0] for r in reader]\n",
    "\n",
    "dm.to_image(smiles_list)"
   ]
  },
  {
   "cell_type": "markdown",
   "metadata": {},
   "source": [
    "# Testing the main.py script"
   ]
  },
  {
   "cell_type": "code",
   "execution_count": 7,
   "metadata": {},
   "outputs": [
    {
     "name": "stderr",
     "output_type": "stream",
     "text": [
      "[12:41:05] Running LargestFragmentChooser\n",
      "[12:41:05] Fragment: CC(C)(C)c1nc(-c2cccc(NS(=O)(=O)c3c(F)cccc3F)c2F)c(-c2ccnc(N)n2)s1\n",
      "[12:41:05] New largest fragment: CC(C)(C)c1nc(-c2cccc(NS(=O)(=O)c3c(F)cccc3F)c2F)c(-c2ccnc(N)n2)s1 (55)\n",
      "  0%|          | 0/1 [00:00<?, ?it/s]/home/affiah/anaconda3/envs/safe/lib/python3.9/site-packages/transformers/generation/configuration_utils.py:430: UserWarning: `num_beams` is set to 1. However, `early_stopping` is set to `True` -- this flag is only used in beam-based generation modes. You should set `num_beams>1` or unset `early_stopping`.\n",
      "  warnings.warn(\n",
      "\u001b[32m2024-01-30 12:42:02.865\u001b[0m | \u001b[1mINFO    \u001b[0m | \u001b[36msafe.sample\u001b[0m:\u001b[36m_fragment_linking\u001b[0m:\u001b[36m397\u001b[0m - \u001b[1mAfter sanitization, 0 / 12 (0.00 %)  generated molecules are valid !\u001b[0m\n",
      "\u001b[32m2024-01-30 12:42:30.324\u001b[0m | \u001b[1mINFO    \u001b[0m | \u001b[36msafe.sample\u001b[0m:\u001b[36m_fragment_linking\u001b[0m:\u001b[36m397\u001b[0m - \u001b[1mAfter sanitization, 0 / 12 (0.00 %)  generated molecules are valid !\u001b[0m\n",
      "  0%|          | 0/1 [00:00<?, ?it/s][12:42:40] \n",
      "\n",
      "****\n",
      "Range Error\n",
      "idx\n",
      "Violation occurred on line 222 in file /project/build/temp.linux-x86_64-cpython-39/rdkit/Code/GraphMol/ROMol.cpp\n",
      "Failed Expression: 21 < 21\n",
      "****\n",
      "\n",
      "\u001b[32m2024-01-30 12:42:40.585\u001b[0m | \u001b[1mINFO    \u001b[0m | \u001b[36msafe.sample\u001b[0m:\u001b[36m_fragment_linking\u001b[0m:\u001b[36m397\u001b[0m - \u001b[1mAfter sanitization, 0 / 12 (0.00 %)  generated molecules are valid !\u001b[0m\n",
      "  0%|          | 0/1 [00:00<?, ?it/s][12:42:54] \n",
      "\n",
      "****\n",
      "Range Error\n",
      "idx\n",
      "Violation occurred on line 222 in file /project/build/temp.linux-x86_64-cpython-39/rdkit/Code/GraphMol/ROMol.cpp\n",
      "Failed Expression: 17 < 17\n",
      "****\n",
      "\n",
      "\u001b[32m2024-01-30 12:42:55.121\u001b[0m | \u001b[1mINFO    \u001b[0m | \u001b[36msafe.sample\u001b[0m:\u001b[36m_fragment_linking\u001b[0m:\u001b[36m397\u001b[0m - \u001b[1mAfter sanitization, 0 / 12 (0.00 %)  generated molecules are valid !\u001b[0m\n"
     ]
    },
    {
     "name": "stdout",
     "output_type": "stream",
     "text": [
      "Length of output: 0\n"
     ]
    },
    {
     "data": {
      "text/plain": [
       "[]"
      ]
     },
     "execution_count": 7,
     "metadata": {},
     "output_type": "execute_result"
    }
   ],
   "source": [
    "# # convert SMILES to SAFE\n",
    "# def smiles_to_safe(smiles):\n",
    "#     try:\n",
    "#         safe = sf.encode(smiles)\n",
    "#         return safe\n",
    "#     # except sf.EncoderError:\n",
    "#     except:\n",
    "#         print(\"Error in SMILES conversion\")\n",
    "\n",
    "\n",
    "def extract_core_structure(SMILES):\n",
    "    # Define scaffold parameter network\n",
    "    params = rdScaffoldNetwork.ScaffoldNetworkParams()\n",
    "    # customize parameter attributes\n",
    "    params.includeScaffoldsWithoutAttachments=False\n",
    "    mol = Chem.MolFromSmiles(SMILES)\n",
    "    net = rdScaffoldNetwork.CreateScaffoldNetwork([mol],params)\n",
    "    nodemols = [Chem.MolFromSmiles(x) for x in net.nodes]\n",
    "\n",
    "    filtered_list = []\n",
    "    for mol in nodemols:\n",
    "        # Check for the presence of attachment points and molecular weight range\n",
    "        if \"*\" in Chem.MolToSmiles(mol) and 60 < Descriptors.MolWt(mol) < 100:\n",
    "            filtered_list.append(mol)\n",
    "    \n",
    "    # If there are no scaffolds within the range, select the closest one\n",
    "    if not filtered_list:\n",
    "        closest_mol = min(nodemols, key=lambda x: abs(Descriptors.MolWt(x) - 80))\n",
    "        filtered_list.append(closest_mol)\n",
    "    \n",
    "    # Sort the filtered list based on the number of heteroatoms (fewer carbons)\n",
    "    filtered_list.sort(key=lambda x: x.GetNumHeavyAtoms())\n",
    "\n",
    "    return filtered_list\n",
    "\n",
    "# generate new smiles\n",
    "def generate_smiles(side_chain):\n",
    "    generated_smiles = designer.scaffold_morphing(\n",
    "        side_chains=side_chain,\n",
    "        n_samples_per_trial=12,\n",
    "        n_trials=1,\n",
    "        sanitize=True,\n",
    "        do_not_fragment_further=False,\n",
    "        random_seed=100,)\n",
    "    return generated_smiles\n",
    "\n",
    "# my model\n",
    "def my_model(SMILES):\n",
    "    generated_smiles = []\n",
    "    for i in SMILES:\n",
    "        # extract the core structures for each SMILES\n",
    "        core_structures = extract_core_structure(i)\n",
    "        # generate new molecules for each side chain of the smile\n",
    "        for core in core_structures:\n",
    "            # compute side chain\n",
    "            side_chain = compute_side_chains(core=core, mol=i)\n",
    "            # generate new molecules for each side chain of the smile\n",
    "            output = generate_smiles(side_chain)\n",
    "            generated_smiles += output\n",
    "\n",
    "    return generated_smiles \n",
    "\n",
    "\n",
    "# read SMILES from .csv file, assuming one column with header\n",
    "with open(\"data/my_molecules (copy).csv\", \"r\") as f:\n",
    "    reader = csv.reader(f)\n",
    "    next(reader)  # skip header\n",
    "    smiles_list = [r[0] for r in reader]\n",
    "\n",
    "# Load pre-trained model\n",
    "designer = sf.SAFEDesign.load_default(verbose=True)\n",
    "designer.model\n",
    "\n",
    "# # convert to SAFE\n",
    "# safe_list = [smiles_to_safe(smi) for smi in smiles_list]\n",
    "\n",
    "# run model\n",
    "outputs = my_model(smiles_list)\n",
    "print(\"Length of output:\", len(outputs))\n",
    "outputs"
   ]
  },
  {
   "cell_type": "code",
   "execution_count": 8,
   "metadata": {},
   "outputs": [
    {
     "name": "stdout",
     "output_type": "stream",
     "text": [
      "Length of output: 0\n"
     ]
    },
    {
     "ename": "ZeroDivisionError",
     "evalue": "integer division or modulo by zero",
     "output_type": "error",
     "traceback": [
      "\u001b[0;31m---------------------------------------------------------------------------\u001b[0m",
      "\u001b[0;31mZeroDivisionError\u001b[0m                         Traceback (most recent call last)",
      "Cell \u001b[0;32mIn[8], line 2\u001b[0m\n\u001b[1;32m      1\u001b[0m \u001b[38;5;28mprint\u001b[39m(\u001b[38;5;124m\"\u001b[39m\u001b[38;5;124mLength of output:\u001b[39m\u001b[38;5;124m\"\u001b[39m, \u001b[38;5;28mlen\u001b[39m(outputs))\n\u001b[0;32m----> 2\u001b[0m \u001b[43mdm\u001b[49m\u001b[38;5;241;43m.\u001b[39;49m\u001b[43mto_image\u001b[49m\u001b[43m(\u001b[49m\u001b[43moutputs\u001b[49m\u001b[43m)\u001b[49m\n",
      "File \u001b[0;32m~/anaconda3/envs/safe/lib/python3.9/site-packages/datamol/viz/_viz.py:123\u001b[0m, in \u001b[0;36mto_image\u001b[0;34m(mols, legends, n_cols, use_svg, mol_size, highlight_atom, highlight_bond, outfile, max_mols, copy, indices, bond_indices, bond_line_width, stereo_annotations, legend_fontsize, kekulize, align, **kwargs)\u001b[0m\n\u001b[1;32m    120\u001b[0m     \u001b[38;5;28;01melse\u001b[39;00m:\n\u001b[1;32m    121\u001b[0m         _kwargs[k] \u001b[38;5;241m=\u001b[39m v\n\u001b[0;32m--> 123\u001b[0m image \u001b[38;5;241m=\u001b[39m \u001b[43mDraw\u001b[49m\u001b[38;5;241;43m.\u001b[39;49m\u001b[43mMolsToGridImage\u001b[49m\u001b[43m(\u001b[49m\n\u001b[1;32m    124\u001b[0m \u001b[43m    \u001b[49m\u001b[43mmols\u001b[49m\u001b[43m,\u001b[49m\n\u001b[1;32m    125\u001b[0m \u001b[43m    \u001b[49m\u001b[43mlegends\u001b[49m\u001b[38;5;241;43m=\u001b[39;49m\u001b[43mlegends\u001b[49m\u001b[43m,\u001b[49m\n\u001b[1;32m    126\u001b[0m \u001b[43m    \u001b[49m\u001b[43mmolsPerRow\u001b[49m\u001b[38;5;241;43m=\u001b[39;49m\u001b[43mn_cols\u001b[49m\u001b[43m,\u001b[49m\n\u001b[1;32m    127\u001b[0m \u001b[43m    \u001b[49m\u001b[43museSVG\u001b[49m\u001b[38;5;241;43m=\u001b[39;49m\u001b[43muse_svg\u001b[49m\u001b[43m,\u001b[49m\n\u001b[1;32m    128\u001b[0m \u001b[43m    \u001b[49m\u001b[43msubImgSize\u001b[49m\u001b[38;5;241;43m=\u001b[39;49m\u001b[43mmol_size\u001b[49m\u001b[43m,\u001b[49m\n\u001b[1;32m    129\u001b[0m \u001b[43m    \u001b[49m\u001b[43mhighlightAtomLists\u001b[49m\u001b[38;5;241;43m=\u001b[39;49m\u001b[43m_highlight_atom\u001b[49m\u001b[43m,\u001b[49m\n\u001b[1;32m    130\u001b[0m \u001b[43m    \u001b[49m\u001b[43mhighlightBondLists\u001b[49m\u001b[38;5;241;43m=\u001b[39;49m\u001b[43m_highlight_bond\u001b[49m\u001b[43m,\u001b[49m\n\u001b[1;32m    131\u001b[0m \u001b[43m    \u001b[49m\u001b[43mdrawOptions\u001b[49m\u001b[38;5;241;43m=\u001b[39;49m\u001b[43mdraw_options\u001b[49m\u001b[43m,\u001b[49m\n\u001b[1;32m    132\u001b[0m \u001b[43m    \u001b[49m\u001b[38;5;241;43m*\u001b[39;49m\u001b[38;5;241;43m*\u001b[39;49m\u001b[43m_kwargs\u001b[49m\u001b[43m,\u001b[49m\n\u001b[1;32m    133\u001b[0m \u001b[43m\u001b[49m\u001b[43m)\u001b[49m\n\u001b[1;32m    135\u001b[0m \u001b[38;5;28;01mif\u001b[39;00m outfile \u001b[38;5;129;01mis\u001b[39;00m \u001b[38;5;129;01mnot\u001b[39;00m \u001b[38;5;28;01mNone\u001b[39;00m:\n\u001b[1;32m    136\u001b[0m     image_to_file(image, outfile, as_svg\u001b[38;5;241m=\u001b[39muse_svg)\n",
      "File \u001b[0;32m~/anaconda3/envs/safe/lib/python3.9/site-packages/rdkit/Chem/Draw/IPythonConsole.py:271\u001b[0m, in \u001b[0;36mShowMols\u001b[0;34m(mols, maxMols, **kwargs)\u001b[0m\n\u001b[1;32m    268\u001b[0m \u001b[38;5;28;01mif\u001b[39;00m \u001b[38;5;124m\"\u001b[39m\u001b[38;5;124mdrawOptions\u001b[39m\u001b[38;5;124m\"\u001b[39m \u001b[38;5;129;01mnot\u001b[39;00m \u001b[38;5;129;01min\u001b[39;00m kwargs:\n\u001b[1;32m    269\u001b[0m   kwargs[\u001b[38;5;124m\"\u001b[39m\u001b[38;5;124mdrawOptions\u001b[39m\u001b[38;5;124m\"\u001b[39m] \u001b[38;5;241m=\u001b[39m drawOptions\n\u001b[0;32m--> 271\u001b[0m res \u001b[38;5;241m=\u001b[39m \u001b[43mfn\u001b[49m\u001b[43m(\u001b[49m\u001b[43mmols\u001b[49m\u001b[43m,\u001b[49m\u001b[43m \u001b[49m\u001b[38;5;241;43m*\u001b[39;49m\u001b[38;5;241;43m*\u001b[39;49m\u001b[43mkwargs\u001b[49m\u001b[43m)\u001b[49m\n\u001b[1;32m    272\u001b[0m \u001b[38;5;28;01mif\u001b[39;00m InteractiveRenderer\u001b[38;5;241m.\u001b[39misEnabled():\n\u001b[1;32m    273\u001b[0m   \u001b[38;5;28;01mreturn\u001b[39;00m HTML(res)\n",
      "File \u001b[0;32m~/anaconda3/envs/safe/lib/python3.9/site-packages/rdkit/Chem/Draw/__init__.py:817\u001b[0m, in \u001b[0;36mMolsToGridImage\u001b[0;34m(mols, molsPerRow, subImgSize, legends, highlightAtomLists, highlightBondLists, useSVG, returnPNG, **kwargs)\u001b[0m\n\u001b[1;32m    814\u001b[0m   highlightBondLists \u001b[38;5;241m=\u001b[39m highlightBondLists[:\u001b[38;5;28mlen\u001b[39m(mols)]\n\u001b[1;32m    816\u001b[0m \u001b[38;5;28;01mif\u001b[39;00m useSVG:\n\u001b[0;32m--> 817\u001b[0m   \u001b[38;5;28;01mreturn\u001b[39;00m \u001b[43m_MolsToGridSVG\u001b[49m\u001b[43m(\u001b[49m\u001b[43mmols\u001b[49m\u001b[43m,\u001b[49m\u001b[43m \u001b[49m\u001b[43mmolsPerRow\u001b[49m\u001b[38;5;241;43m=\u001b[39;49m\u001b[43mmolsPerRow\u001b[49m\u001b[43m,\u001b[49m\u001b[43m \u001b[49m\u001b[43msubImgSize\u001b[49m\u001b[38;5;241;43m=\u001b[39;49m\u001b[43msubImgSize\u001b[49m\u001b[43m,\u001b[49m\u001b[43m \u001b[49m\u001b[43mlegends\u001b[49m\u001b[38;5;241;43m=\u001b[39;49m\u001b[43mlegends\u001b[49m\u001b[43m,\u001b[49m\n\u001b[1;32m    818\u001b[0m \u001b[43m                        \u001b[49m\u001b[43mhighlightAtomLists\u001b[49m\u001b[38;5;241;43m=\u001b[39;49m\u001b[43mhighlightAtomLists\u001b[49m\u001b[43m,\u001b[49m\n\u001b[1;32m    819\u001b[0m \u001b[43m                        \u001b[49m\u001b[43mhighlightBondLists\u001b[49m\u001b[38;5;241;43m=\u001b[39;49m\u001b[43mhighlightBondLists\u001b[49m\u001b[43m,\u001b[49m\u001b[43m \u001b[49m\u001b[38;5;241;43m*\u001b[39;49m\u001b[38;5;241;43m*\u001b[39;49m\u001b[43mkwargs\u001b[49m\u001b[43m)\u001b[49m\n\u001b[1;32m    820\u001b[0m \u001b[38;5;28;01melse\u001b[39;00m:\n\u001b[1;32m    821\u001b[0m   \u001b[38;5;28;01mreturn\u001b[39;00m _MolsToGridImage(mols, molsPerRow\u001b[38;5;241m=\u001b[39mmolsPerRow, subImgSize\u001b[38;5;241m=\u001b[39msubImgSize, legends\u001b[38;5;241m=\u001b[39mlegends,\n\u001b[1;32m    822\u001b[0m                           highlightAtomLists\u001b[38;5;241m=\u001b[39mhighlightAtomLists,\n\u001b[1;32m    823\u001b[0m                           highlightBondLists\u001b[38;5;241m=\u001b[39mhighlightBondLists, returnPNG\u001b[38;5;241m=\u001b[39mreturnPNG, \u001b[38;5;241m*\u001b[39m\u001b[38;5;241m*\u001b[39mkwargs)\n",
      "File \u001b[0;32m~/anaconda3/envs/safe/lib/python3.9/site-packages/rdkit/Chem/Draw/__init__.py:782\u001b[0m, in \u001b[0;36m_MolsToGridSVG\u001b[0;34m(mols, molsPerRow, subImgSize, legends, highlightAtomLists, highlightBondLists, drawOptions, **kwargs)\u001b[0m\n\u001b[1;32m    779\u001b[0m \u001b[38;5;28;01mif\u001b[39;00m legends \u001b[38;5;129;01mis\u001b[39;00m \u001b[38;5;28;01mNone\u001b[39;00m:\n\u001b[1;32m    780\u001b[0m   legends \u001b[38;5;241m=\u001b[39m [\u001b[38;5;124m'\u001b[39m\u001b[38;5;124m'\u001b[39m] \u001b[38;5;241m*\u001b[39m \u001b[38;5;28mlen\u001b[39m(mols)\n\u001b[0;32m--> 782\u001b[0m nRows \u001b[38;5;241m=\u001b[39m \u001b[38;5;28;43mlen\u001b[39;49m\u001b[43m(\u001b[49m\u001b[43mmols\u001b[49m\u001b[43m)\u001b[49m\u001b[43m \u001b[49m\u001b[38;5;241;43m/\u001b[39;49m\u001b[38;5;241;43m/\u001b[39;49m\u001b[43m \u001b[49m\u001b[43mmolsPerRow\u001b[49m\n\u001b[1;32m    783\u001b[0m \u001b[38;5;28;01mif\u001b[39;00m \u001b[38;5;28mlen\u001b[39m(mols) \u001b[38;5;241m%\u001b[39m molsPerRow:\n\u001b[1;32m    784\u001b[0m   nRows \u001b[38;5;241m+\u001b[39m\u001b[38;5;241m=\u001b[39m \u001b[38;5;241m1\u001b[39m\n",
      "\u001b[0;31mZeroDivisionError\u001b[0m: integer division or modulo by zero"
     ]
    }
   ],
   "source": [
    "print(\"Length of output:\", len(outputs))\n",
    "dm.to_image(outputs)"
   ]
  },
  {
   "cell_type": "code",
   "execution_count": null,
   "metadata": {},
   "outputs": [],
   "source": []
  },
  {
   "cell_type": "code",
   "execution_count": null,
   "metadata": {},
   "outputs": [],
   "source": []
  }
 ],
 "metadata": {
  "kernelspec": {
   "display_name": "safe",
   "language": "python",
   "name": "python3"
  },
  "language_info": {
   "codemirror_mode": {
    "name": "ipython",
    "version": 3
   },
   "file_extension": ".py",
   "mimetype": "text/x-python",
   "name": "python",
   "nbconvert_exporter": "python",
   "pygments_lexer": "ipython3",
   "version": "3.9.18"
  }
 },
 "nbformat": 4,
 "nbformat_minor": 2
}
