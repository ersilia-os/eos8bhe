{
 "cells": [
  {
   "cell_type": "code",
   "execution_count": 2,
   "metadata": {},
   "outputs": [
    {
     "name": "stdout",
     "output_type": "stream",
     "text": [
      "RDKit version:  2023.09.3\n",
      "MatplotLib version: 3.8.2\n"
     ]
    }
   ],
   "source": [
    "# import libraries\n",
    "import os\n",
    "os.environ[\"TOKENIZERS_PARALLELISM\"] = \"false\"\n",
    "import safe as sf\n",
    "import datamol as dm\n",
    "from safe.utils import compute_side_chains\n",
    "import csv\n",
    "from rdkit import Chem\n",
    "from rdkit import Chem, rdBase\n",
    "from rdkit.Chem import Draw\n",
    "from rdkit.Chem.Scaffolds import rdScaffoldNetwork\n",
    "from rdkit.Chem import Descriptors\n",
    "import matplotlib as mpl\n",
    "from rdkit import Chem\n",
    "\n",
    "print('RDKit version: ',rdBase.rdkitVersion)\n",
    "print('MatplotLib version:', mpl.__version__)"
   ]
  },
  {
   "cell_type": "markdown",
   "metadata": {},
   "source": [
    "## Scaffold Morphing\n",
    "It requires side chains as input.\n",
    "\n",
    "Steps:\n",
    "* Get SMILES\n",
    "* Extract core from SMILES (convert SMILES to molecule to do this)\n",
    "* Pass in SMILES and core to generate side chain\n",
    "* Finally, pass in side chain to the model to generate the molecules for scaffold morphing.\n",
    "\n",
    "In the rest of this notebook, I'll be playing around with codes to achieve different parts of this."
   ]
  },
  {
   "cell_type": "code",
   "execution_count": 9,
   "metadata": {},
   "outputs": [
    {
     "data": {
      "image/svg+xml": [
       "<svg xmlns=\"http://www.w3.org/2000/svg\" xmlns:rdkit=\"http://www.rdkit.org/xml\" xmlns:xlink=\"http://www.w3.org/1999/xlink\" version=\"1.1\" baseProfile=\"full\" xml:space=\"preserve\" width=\"300px\" height=\"300px\" viewBox=\"0 0 300 300\">\n",
       "<!-- END OF HEADER -->\n",
       "<rect style=\"opacity:1.0;fill:#FFFFFF;stroke:none\" width=\"300.0\" height=\"300.0\" x=\"0.0\" y=\"0.0\"> </rect>\n",
       "<path class=\"bond-0 atom-0 atom-1\" d=\"M 36.1,102.7 L 58.1,89.6\" style=\"fill:none;fill-rule:evenodd;stroke:#000000;stroke-width:2.0px;stroke-linecap:butt;stroke-linejoin:miter;stroke-opacity:1\"/>\n",
       "<path class=\"bond-1 atom-1 atom-2\" d=\"M 58.1,89.6 L 80.2,76.5\" style=\"fill:none;fill-rule:evenodd;stroke:#000000;stroke-width:2.0px;stroke-linecap:butt;stroke-linejoin:miter;stroke-opacity:1\"/>\n",
       "<path class=\"bond-2 atom-1 atom-3\" d=\"M 58.1,89.6 L 45.0,67.5\" style=\"fill:none;fill-rule:evenodd;stroke:#000000;stroke-width:2.0px;stroke-linecap:butt;stroke-linejoin:miter;stroke-opacity:1\"/>\n",
       "<path class=\"bond-3 atom-1 atom-4\" d=\"M 58.1,89.6 L 71.2,111.7\" style=\"fill:none;fill-rule:evenodd;stroke:#000000;stroke-width:2.0px;stroke-linecap:butt;stroke-linejoin:miter;stroke-opacity:1\"/>\n",
       "<path class=\"bond-4 atom-4 atom-5\" d=\"M 71.2,111.7 L 82.2,112.7\" style=\"fill:none;fill-rule:evenodd;stroke:#000000;stroke-width:2.0px;stroke-linecap:butt;stroke-linejoin:miter;stroke-opacity:1\"/>\n",
       "<path class=\"bond-4 atom-4 atom-5\" d=\"M 82.2,112.7 L 93.2,113.7\" style=\"fill:none;fill-rule:evenodd;stroke:#0000FF;stroke-width:2.0px;stroke-linecap:butt;stroke-linejoin:miter;stroke-opacity:1\"/>\n",
       "<path class=\"bond-4 atom-4 atom-5\" d=\"M 73.7,115.8 L 83.2,116.6\" style=\"fill:none;fill-rule:evenodd;stroke:#000000;stroke-width:2.0px;stroke-linecap:butt;stroke-linejoin:miter;stroke-opacity:1\"/>\n",
       "<path class=\"bond-4 atom-4 atom-5\" d=\"M 83.2,116.6 L 92.8,117.5\" style=\"fill:none;fill-rule:evenodd;stroke:#0000FF;stroke-width:2.0px;stroke-linecap:butt;stroke-linejoin:miter;stroke-opacity:1\"/>\n",
       "<path class=\"bond-5 atom-5 atom-6\" d=\"M 97.8,118.5 L 100.1,128.8\" style=\"fill:none;fill-rule:evenodd;stroke:#0000FF;stroke-width:2.0px;stroke-linecap:butt;stroke-linejoin:miter;stroke-opacity:1\"/>\n",
       "<path class=\"bond-5 atom-5 atom-6\" d=\"M 100.1,128.8 L 102.4,139.1\" style=\"fill:none;fill-rule:evenodd;stroke:#000000;stroke-width:2.0px;stroke-linecap:butt;stroke-linejoin:miter;stroke-opacity:1\"/>\n",
       "<path class=\"bond-6 atom-6 atom-7\" d=\"M 102.4,139.1 L 80.4,152.2\" style=\"fill:none;fill-rule:evenodd;stroke:#000000;stroke-width:2.0px;stroke-linecap:butt;stroke-linejoin:miter;stroke-opacity:1\"/>\n",
       "<path class=\"bond-6 atom-6 atom-7\" d=\"M 98.1,137.2 L 80.8,147.4\" style=\"fill:none;fill-rule:evenodd;stroke:#000000;stroke-width:2.0px;stroke-linecap:butt;stroke-linejoin:miter;stroke-opacity:1\"/>\n",
       "<path class=\"bond-7 atom-7 atom-8\" d=\"M 80.4,152.2 L 72.3,145.1\" style=\"fill:none;fill-rule:evenodd;stroke:#000000;stroke-width:2.0px;stroke-linecap:butt;stroke-linejoin:miter;stroke-opacity:1\"/>\n",
       "<path class=\"bond-7 atom-7 atom-8\" d=\"M 72.3,145.1 L 64.3,138.0\" style=\"fill:none;fill-rule:evenodd;stroke:#CCCC00;stroke-width:2.0px;stroke-linecap:butt;stroke-linejoin:miter;stroke-opacity:1\"/>\n",
       "<path class=\"bond-8 atom-7 atom-9\" d=\"M 80.4,152.2 L 78.0,177.7\" style=\"fill:none;fill-rule:evenodd;stroke:#000000;stroke-width:2.0px;stroke-linecap:butt;stroke-linejoin:miter;stroke-opacity:1\"/>\n",
       "<path class=\"bond-9 atom-9 atom-10\" d=\"M 78.0,177.7 L 99.0,192.5\" style=\"fill:none;fill-rule:evenodd;stroke:#000000;stroke-width:2.0px;stroke-linecap:butt;stroke-linejoin:miter;stroke-opacity:1\"/>\n",
       "<path class=\"bond-9 atom-9 atom-10\" d=\"M 77.6,182.1 L 94.9,194.4\" style=\"fill:none;fill-rule:evenodd;stroke:#000000;stroke-width:2.0px;stroke-linecap:butt;stroke-linejoin:miter;stroke-opacity:1\"/>\n",
       "<path class=\"bond-10 atom-10 atom-11\" d=\"M 99.0,192.5 L 96.6,218.1\" style=\"fill:none;fill-rule:evenodd;stroke:#000000;stroke-width:2.0px;stroke-linecap:butt;stroke-linejoin:miter;stroke-opacity:1\"/>\n",
       "<path class=\"bond-11 atom-11 atom-12\" d=\"M 96.6,218.1 L 86.7,222.6\" style=\"fill:none;fill-rule:evenodd;stroke:#000000;stroke-width:2.0px;stroke-linecap:butt;stroke-linejoin:miter;stroke-opacity:1\"/>\n",
       "<path class=\"bond-11 atom-11 atom-12\" d=\"M 86.7,222.6 L 76.9,227.2\" style=\"fill:none;fill-rule:evenodd;stroke:#0000FF;stroke-width:2.0px;stroke-linecap:butt;stroke-linejoin:miter;stroke-opacity:1\"/>\n",
       "<path class=\"bond-11 atom-11 atom-12\" d=\"M 93.0,215.5 L 84.1,219.6\" style=\"fill:none;fill-rule:evenodd;stroke:#000000;stroke-width:2.0px;stroke-linecap:butt;stroke-linejoin:miter;stroke-opacity:1\"/>\n",
       "<path class=\"bond-11 atom-11 atom-12\" d=\"M 84.1,219.6 L 75.3,223.7\" style=\"fill:none;fill-rule:evenodd;stroke:#0000FF;stroke-width:2.0px;stroke-linecap:butt;stroke-linejoin:miter;stroke-opacity:1\"/>\n",
       "<path class=\"bond-12 atom-12 atom-13\" d=\"M 69.7,226.3 L 61.0,220.1\" style=\"fill:none;fill-rule:evenodd;stroke:#0000FF;stroke-width:2.0px;stroke-linecap:butt;stroke-linejoin:miter;stroke-opacity:1\"/>\n",
       "<path class=\"bond-12 atom-12 atom-13\" d=\"M 61.0,220.1 L 52.3,214.0\" style=\"fill:none;fill-rule:evenodd;stroke:#000000;stroke-width:2.0px;stroke-linecap:butt;stroke-linejoin:miter;stroke-opacity:1\"/>\n",
       "<path class=\"bond-13 atom-13 atom-14\" d=\"M 52.3,214.0 L 42.5,218.5\" style=\"fill:none;fill-rule:evenodd;stroke:#000000;stroke-width:2.0px;stroke-linecap:butt;stroke-linejoin:miter;stroke-opacity:1\"/>\n",
       "<path class=\"bond-13 atom-13 atom-14\" d=\"M 42.5,218.5 L 32.6,223.1\" style=\"fill:none;fill-rule:evenodd;stroke:#0000FF;stroke-width:2.0px;stroke-linecap:butt;stroke-linejoin:miter;stroke-opacity:1\"/>\n",
       "<path class=\"bond-14 atom-13 atom-15\" d=\"M 52.3,214.0 L 53.3,203.5\" style=\"fill:none;fill-rule:evenodd;stroke:#000000;stroke-width:2.0px;stroke-linecap:butt;stroke-linejoin:miter;stroke-opacity:1\"/>\n",
       "<path class=\"bond-14 atom-13 atom-15\" d=\"M 53.3,203.5 L 54.3,192.9\" style=\"fill:none;fill-rule:evenodd;stroke:#0000FF;stroke-width:2.0px;stroke-linecap:butt;stroke-linejoin:miter;stroke-opacity:1\"/>\n",
       "<path class=\"bond-14 atom-13 atom-15\" d=\"M 56.4,212.1 L 57.2,202.7\" style=\"fill:none;fill-rule:evenodd;stroke:#000000;stroke-width:2.0px;stroke-linecap:butt;stroke-linejoin:miter;stroke-opacity:1\"/>\n",
       "<path class=\"bond-14 atom-13 atom-15\" d=\"M 57.2,202.7 L 58.1,193.3\" style=\"fill:none;fill-rule:evenodd;stroke:#0000FF;stroke-width:2.0px;stroke-linecap:butt;stroke-linejoin:miter;stroke-opacity:1\"/>\n",
       "<path class=\"bond-15 atom-6 atom-16\" d=\"M 102.4,139.1 L 126.0,149.2\" style=\"fill:none;fill-rule:evenodd;stroke:#000000;stroke-width:2.0px;stroke-linecap:butt;stroke-linejoin:miter;stroke-opacity:1\"/>\n",
       "<path class=\"bond-16 atom-16 atom-17\" d=\"M 126.0,149.2 L 129.0,174.7\" style=\"fill:none;fill-rule:evenodd;stroke:#000000;stroke-width:2.0px;stroke-linecap:butt;stroke-linejoin:miter;stroke-opacity:1\"/>\n",
       "<path class=\"bond-16 atom-16 atom-17\" d=\"M 130.1,151.0 L 132.6,172.0\" style=\"fill:none;fill-rule:evenodd;stroke:#000000;stroke-width:2.0px;stroke-linecap:butt;stroke-linejoin:miter;stroke-opacity:1\"/>\n",
       "<path class=\"bond-17 atom-17 atom-18\" d=\"M 129.0,174.7 L 152.6,184.8\" style=\"fill:none;fill-rule:evenodd;stroke:#000000;stroke-width:2.0px;stroke-linecap:butt;stroke-linejoin:miter;stroke-opacity:1\"/>\n",
       "<path class=\"bond-18 atom-18 atom-19\" d=\"M 152.6,184.8 L 173.1,169.5\" style=\"fill:none;fill-rule:evenodd;stroke:#000000;stroke-width:2.0px;stroke-linecap:butt;stroke-linejoin:miter;stroke-opacity:1\"/>\n",
       "<path class=\"bond-18 atom-18 atom-19\" d=\"M 152.1,180.4 L 169.1,167.7\" style=\"fill:none;fill-rule:evenodd;stroke:#000000;stroke-width:2.0px;stroke-linecap:butt;stroke-linejoin:miter;stroke-opacity:1\"/>\n",
       "<path class=\"bond-19 atom-19 atom-20\" d=\"M 173.1,169.5 L 170.1,144.0\" style=\"fill:none;fill-rule:evenodd;stroke:#000000;stroke-width:2.0px;stroke-linecap:butt;stroke-linejoin:miter;stroke-opacity:1\"/>\n",
       "<path class=\"bond-20 atom-20 atom-21\" d=\"M 170.1,144.0 L 178.6,137.7\" style=\"fill:none;fill-rule:evenodd;stroke:#000000;stroke-width:2.0px;stroke-linecap:butt;stroke-linejoin:miter;stroke-opacity:1\"/>\n",
       "<path class=\"bond-20 atom-20 atom-21\" d=\"M 178.6,137.7 L 187.1,131.3\" style=\"fill:none;fill-rule:evenodd;stroke:#0000FF;stroke-width:2.0px;stroke-linecap:butt;stroke-linejoin:miter;stroke-opacity:1\"/>\n",
       "<path class=\"bond-21 atom-21 atom-22\" d=\"M 194.3,130.2 L 202.7,133.8\" style=\"fill:none;fill-rule:evenodd;stroke:#0000FF;stroke-width:2.0px;stroke-linecap:butt;stroke-linejoin:miter;stroke-opacity:1\"/>\n",
       "<path class=\"bond-21 atom-21 atom-22\" d=\"M 202.7,133.8 L 211.1,137.4\" style=\"fill:none;fill-rule:evenodd;stroke:#CCCC00;stroke-width:2.0px;stroke-linecap:butt;stroke-linejoin:miter;stroke-opacity:1\"/>\n",
       "<path class=\"bond-22 atom-22 atom-23\" d=\"M 210.5,142.7 L 207.4,149.9\" style=\"fill:none;fill-rule:evenodd;stroke:#CCCC00;stroke-width:2.0px;stroke-linecap:butt;stroke-linejoin:miter;stroke-opacity:1\"/>\n",
       "<path class=\"bond-22 atom-22 atom-23\" d=\"M 207.4,149.9 L 204.3,157.1\" style=\"fill:none;fill-rule:evenodd;stroke:#FF0000;stroke-width:2.0px;stroke-linecap:butt;stroke-linejoin:miter;stroke-opacity:1\"/>\n",
       "<path class=\"bond-22 atom-22 atom-23\" d=\"M 214.0,144.2 L 210.9,151.4\" style=\"fill:none;fill-rule:evenodd;stroke:#CCCC00;stroke-width:2.0px;stroke-linecap:butt;stroke-linejoin:miter;stroke-opacity:1\"/>\n",
       "<path class=\"bond-22 atom-22 atom-23\" d=\"M 210.9,151.4 L 207.9,158.6\" style=\"fill:none;fill-rule:evenodd;stroke:#FF0000;stroke-width:2.0px;stroke-linecap:butt;stroke-linejoin:miter;stroke-opacity:1\"/>\n",
       "<path class=\"bond-23 atom-22 atom-24\" d=\"M 218.0,135.1 L 221.1,127.9\" style=\"fill:none;fill-rule:evenodd;stroke:#CCCC00;stroke-width:2.0px;stroke-linecap:butt;stroke-linejoin:miter;stroke-opacity:1\"/>\n",
       "<path class=\"bond-23 atom-22 atom-24\" d=\"M 221.1,127.9 L 224.2,120.6\" style=\"fill:none;fill-rule:evenodd;stroke:#FF0000;stroke-width:2.0px;stroke-linecap:butt;stroke-linejoin:miter;stroke-opacity:1\"/>\n",
       "<path class=\"bond-23 atom-22 atom-24\" d=\"M 214.4,133.6 L 217.6,126.3\" style=\"fill:none;fill-rule:evenodd;stroke:#CCCC00;stroke-width:2.0px;stroke-linecap:butt;stroke-linejoin:miter;stroke-opacity:1\"/>\n",
       "<path class=\"bond-23 atom-22 atom-24\" d=\"M 217.6,126.3 L 220.7,119.1\" style=\"fill:none;fill-rule:evenodd;stroke:#FF0000;stroke-width:2.0px;stroke-linecap:butt;stroke-linejoin:miter;stroke-opacity:1\"/>\n",
       "<path class=\"bond-24 atom-22 atom-25\" d=\"M 217.5,140.2 L 227.7,144.5\" style=\"fill:none;fill-rule:evenodd;stroke:#CCCC00;stroke-width:2.0px;stroke-linecap:butt;stroke-linejoin:miter;stroke-opacity:1\"/>\n",
       "<path class=\"bond-24 atom-22 atom-25\" d=\"M 227.7,144.5 L 237.9,148.9\" style=\"fill:none;fill-rule:evenodd;stroke:#000000;stroke-width:2.0px;stroke-linecap:butt;stroke-linejoin:miter;stroke-opacity:1\"/>\n",
       "<path class=\"bond-25 atom-25 atom-26\" d=\"M 237.9,148.9 L 240.9,174.4\" style=\"fill:none;fill-rule:evenodd;stroke:#000000;stroke-width:2.0px;stroke-linecap:butt;stroke-linejoin:miter;stroke-opacity:1\"/>\n",
       "<path class=\"bond-25 atom-25 atom-26\" d=\"M 241.9,150.7 L 244.4,171.8\" style=\"fill:none;fill-rule:evenodd;stroke:#000000;stroke-width:2.0px;stroke-linecap:butt;stroke-linejoin:miter;stroke-opacity:1\"/>\n",
       "<path class=\"bond-26 atom-26 atom-27\" d=\"M 240.9,174.4 L 232.1,181.0\" style=\"fill:none;fill-rule:evenodd;stroke:#000000;stroke-width:2.0px;stroke-linecap:butt;stroke-linejoin:miter;stroke-opacity:1\"/>\n",
       "<path class=\"bond-26 atom-26 atom-27\" d=\"M 232.1,181.0 L 223.3,187.5\" style=\"fill:none;fill-rule:evenodd;stroke:#33CCCC;stroke-width:2.0px;stroke-linecap:butt;stroke-linejoin:miter;stroke-opacity:1\"/>\n",
       "<path class=\"bond-27 atom-26 atom-28\" d=\"M 240.9,174.4 L 264.4,184.6\" style=\"fill:none;fill-rule:evenodd;stroke:#000000;stroke-width:2.0px;stroke-linecap:butt;stroke-linejoin:miter;stroke-opacity:1\"/>\n",
       "<path class=\"bond-28 atom-28 atom-29\" d=\"M 264.4,184.6 L 285.0,169.2\" style=\"fill:none;fill-rule:evenodd;stroke:#000000;stroke-width:2.0px;stroke-linecap:butt;stroke-linejoin:miter;stroke-opacity:1\"/>\n",
       "<path class=\"bond-28 atom-28 atom-29\" d=\"M 263.9,180.2 L 280.9,167.5\" style=\"fill:none;fill-rule:evenodd;stroke:#000000;stroke-width:2.0px;stroke-linecap:butt;stroke-linejoin:miter;stroke-opacity:1\"/>\n",
       "<path class=\"bond-29 atom-29 atom-30\" d=\"M 285.0,169.2 L 282.0,143.7\" style=\"fill:none;fill-rule:evenodd;stroke:#000000;stroke-width:2.0px;stroke-linecap:butt;stroke-linejoin:miter;stroke-opacity:1\"/>\n",
       "<path class=\"bond-30 atom-30 atom-31\" d=\"M 282.0,143.7 L 258.4,133.6\" style=\"fill:none;fill-rule:evenodd;stroke:#000000;stroke-width:2.0px;stroke-linecap:butt;stroke-linejoin:miter;stroke-opacity:1\"/>\n",
       "<path class=\"bond-30 atom-30 atom-31\" d=\"M 278.4,146.4 L 258.9,138.0\" style=\"fill:none;fill-rule:evenodd;stroke:#000000;stroke-width:2.0px;stroke-linecap:butt;stroke-linejoin:miter;stroke-opacity:1\"/>\n",
       "<path class=\"bond-31 atom-31 atom-32\" d=\"M 258.4,133.6 L 257.2,123.1\" style=\"fill:none;fill-rule:evenodd;stroke:#000000;stroke-width:2.0px;stroke-linecap:butt;stroke-linejoin:miter;stroke-opacity:1\"/>\n",
       "<path class=\"bond-31 atom-31 atom-32\" d=\"M 257.2,123.1 L 255.9,112.6\" style=\"fill:none;fill-rule:evenodd;stroke:#33CCCC;stroke-width:2.0px;stroke-linecap:butt;stroke-linejoin:miter;stroke-opacity:1\"/>\n",
       "<path class=\"bond-32 atom-20 atom-33\" d=\"M 170.1,144.0 L 146.6,133.9\" style=\"fill:none;fill-rule:evenodd;stroke:#000000;stroke-width:2.0px;stroke-linecap:butt;stroke-linejoin:miter;stroke-opacity:1\"/>\n",
       "<path class=\"bond-32 atom-20 atom-33\" d=\"M 166.6,146.7 L 147.1,138.3\" style=\"fill:none;fill-rule:evenodd;stroke:#000000;stroke-width:2.0px;stroke-linecap:butt;stroke-linejoin:miter;stroke-opacity:1\"/>\n",
       "<path class=\"bond-33 atom-33 atom-34\" d=\"M 146.6,133.9 L 145.3,123.4\" style=\"fill:none;fill-rule:evenodd;stroke:#000000;stroke-width:2.0px;stroke-linecap:butt;stroke-linejoin:miter;stroke-opacity:1\"/>\n",
       "<path class=\"bond-33 atom-33 atom-34\" d=\"M 145.3,123.4 L 144.1,112.9\" style=\"fill:none;fill-rule:evenodd;stroke:#33CCCC;stroke-width:2.0px;stroke-linecap:butt;stroke-linejoin:miter;stroke-opacity:1\"/>\n",
       "<path class=\"bond-34 atom-8 atom-4\" d=\"M 63.0,130.8 L 67.1,121.2\" style=\"fill:none;fill-rule:evenodd;stroke:#CCCC00;stroke-width:2.0px;stroke-linecap:butt;stroke-linejoin:miter;stroke-opacity:1\"/>\n",
       "<path class=\"bond-34 atom-8 atom-4\" d=\"M 67.1,121.2 L 71.2,111.7\" style=\"fill:none;fill-rule:evenodd;stroke:#000000;stroke-width:2.0px;stroke-linecap:butt;stroke-linejoin:miter;stroke-opacity:1\"/>\n",
       "<path class=\"bond-35 atom-15 atom-9\" d=\"M 58.3,186.8 L 68.2,182.3\" style=\"fill:none;fill-rule:evenodd;stroke:#0000FF;stroke-width:2.0px;stroke-linecap:butt;stroke-linejoin:miter;stroke-opacity:1\"/>\n",
       "<path class=\"bond-35 atom-15 atom-9\" d=\"M 68.2,182.3 L 78.0,177.7\" style=\"fill:none;fill-rule:evenodd;stroke:#000000;stroke-width:2.0px;stroke-linecap:butt;stroke-linejoin:miter;stroke-opacity:1\"/>\n",
       "<path class=\"bond-36 atom-33 atom-16\" d=\"M 146.6,133.9 L 126.0,149.2\" style=\"fill:none;fill-rule:evenodd;stroke:#000000;stroke-width:2.0px;stroke-linecap:butt;stroke-linejoin:miter;stroke-opacity:1\"/>\n",
       "<path class=\"bond-37 atom-31 atom-25\" d=\"M 258.4,133.6 L 237.9,148.9\" style=\"fill:none;fill-rule:evenodd;stroke:#000000;stroke-width:2.0px;stroke-linecap:butt;stroke-linejoin:miter;stroke-opacity:1\"/>\n",
       "<path d=\"M 97.9,191.8 L 99.0,192.5 L 98.8,193.8\" style=\"fill:none;stroke:#000000;stroke-width:2.0px;stroke-linecap:butt;stroke-linejoin:miter;stroke-opacity:1;\"/>\n",
       "<path d=\"M 96.7,216.8 L 96.6,218.1 L 96.1,218.3\" style=\"fill:none;stroke:#000000;stroke-width:2.0px;stroke-linecap:butt;stroke-linejoin:miter;stroke-opacity:1;\"/>\n",
       "<path d=\"M 128.9,173.4 L 129.0,174.7 L 130.2,175.2\" style=\"fill:none;stroke:#000000;stroke-width:2.0px;stroke-linecap:butt;stroke-linejoin:miter;stroke-opacity:1;\"/>\n",
       "<path d=\"M 151.4,184.3 L 152.6,184.8 L 153.6,184.1\" style=\"fill:none;stroke:#000000;stroke-width:2.0px;stroke-linecap:butt;stroke-linejoin:miter;stroke-opacity:1;\"/>\n",
       "<path d=\"M 172.1,170.2 L 173.1,169.5 L 173.0,168.2\" style=\"fill:none;stroke:#000000;stroke-width:2.0px;stroke-linecap:butt;stroke-linejoin:miter;stroke-opacity:1;\"/>\n",
       "<path d=\"M 263.3,184.1 L 264.4,184.6 L 265.5,183.8\" style=\"fill:none;stroke:#000000;stroke-width:2.0px;stroke-linecap:butt;stroke-linejoin:miter;stroke-opacity:1;\"/>\n",
       "<path d=\"M 284.0,170.0 L 285.0,169.2 L 284.8,167.9\" style=\"fill:none;stroke:#000000;stroke-width:2.0px;stroke-linecap:butt;stroke-linejoin:miter;stroke-opacity:1;\"/>\n",
       "<path d=\"M 282.1,145.0 L 282.0,143.7 L 280.8,143.2\" style=\"fill:none;stroke:#000000;stroke-width:2.0px;stroke-linecap:butt;stroke-linejoin:miter;stroke-opacity:1;\"/>\n",
       "<path class=\"atom-5\" d=\"M 95.2 110.4 L 97.6 114.2 Q 97.8 114.6, 98.2 115.3 Q 98.5 116.0, 98.6 116.0 L 98.6 110.4 L 99.5 110.4 L 99.5 117.7 L 98.5 117.7 L 96.0 113.5 Q 95.7 113.0, 95.4 112.4 Q 95.1 111.8, 95.0 111.7 L 95.0 117.7 L 94.0 117.7 L 94.0 110.4 L 95.2 110.4 \" fill=\"#0000FF\"/>\n",
       "<path class=\"atom-8\" d=\"M 59.0 137.7 Q 59.1 137.8, 59.5 137.9 Q 59.8 138.0, 60.2 138.1 Q 60.5 138.2, 60.9 138.2 Q 61.6 138.2, 62.0 137.9 Q 62.4 137.6, 62.4 137.0 Q 62.4 136.6, 62.2 136.3 Q 62.0 136.1, 61.7 135.9 Q 61.4 135.8, 60.9 135.7 Q 60.2 135.5, 59.8 135.3 Q 59.5 135.1, 59.2 134.7 Q 58.9 134.3, 58.9 133.7 Q 58.9 132.7, 59.5 132.2 Q 60.1 131.6, 61.4 131.6 Q 62.2 131.6, 63.2 132.0 L 62.9 132.8 Q 62.1 132.4, 61.4 132.4 Q 60.7 132.4, 60.3 132.7 Q 59.9 133.0, 59.9 133.5 Q 59.9 133.9, 60.1 134.2 Q 60.3 134.4, 60.6 134.5 Q 60.9 134.7, 61.4 134.8 Q 62.1 135.0, 62.5 135.2 Q 62.8 135.4, 63.1 135.9 Q 63.4 136.3, 63.4 137.0 Q 63.4 138.0, 62.7 138.5 Q 62.1 139.1, 60.9 139.1 Q 60.3 139.1, 59.8 138.9 Q 59.3 138.8, 58.8 138.5 L 59.0 137.7 \" fill=\"#CCCC00\"/>\n",
       "<path class=\"atom-12\" d=\"M 71.7 225.2 L 74.1 229.0 Q 74.3 229.4, 74.7 230.1 Q 75.1 230.8, 75.1 230.8 L 75.1 225.2 L 76.0 225.2 L 76.0 232.5 L 75.0 232.5 L 72.5 228.2 Q 72.2 227.8, 71.9 227.2 Q 71.6 226.6, 71.5 226.5 L 71.5 232.5 L 70.5 232.5 L 70.5 225.2 L 71.7 225.2 \" fill=\"#0000FF\"/>\n",
       "<path class=\"atom-14\" d=\"M 15.0 221.1 L 16.0 221.1 L 16.0 224.2 L 19.7 224.2 L 19.7 221.1 L 20.7 221.1 L 20.7 228.4 L 19.7 228.4 L 19.7 225.0 L 16.0 225.0 L 16.0 228.4 L 15.0 228.4 L 15.0 221.1 \" fill=\"#0000FF\"/>\n",
       "<path class=\"atom-14\" d=\"M 22.1 228.1 Q 22.3 227.7, 22.7 227.4 Q 23.1 227.2, 23.7 227.2 Q 24.4 227.2, 24.8 227.5 Q 25.2 227.9, 25.2 228.6 Q 25.2 229.3, 24.7 230.0 Q 24.2 230.7, 23.1 231.5 L 25.3 231.5 L 25.3 232.0 L 22.1 232.0 L 22.1 231.5 Q 23.0 230.9, 23.5 230.4 Q 24.1 230.0, 24.3 229.5 Q 24.6 229.1, 24.6 228.7 Q 24.6 228.2, 24.3 227.9 Q 24.1 227.7, 23.7 227.7 Q 23.3 227.7, 23.1 227.8 Q 22.8 228.0, 22.6 228.3 L 22.1 228.1 \" fill=\"#0000FF\"/>\n",
       "<path class=\"atom-14\" d=\"M 27.4 221.1 L 29.8 224.9 Q 30.0 225.3, 30.4 226.0 Q 30.8 226.7, 30.8 226.7 L 30.8 221.1 L 31.8 221.1 L 31.8 228.4 L 30.8 228.4 L 28.2 224.2 Q 27.9 223.7, 27.6 223.1 Q 27.3 222.5, 27.2 222.4 L 27.2 228.4 L 26.3 228.4 L 26.3 221.1 L 27.4 221.1 \" fill=\"#0000FF\"/>\n",
       "<path class=\"atom-15\" d=\"M 53.1 184.8 L 55.5 188.7 Q 55.7 189.0, 56.1 189.7 Q 56.5 190.4, 56.5 190.5 L 56.5 184.8 L 57.5 184.8 L 57.5 192.1 L 56.5 192.1 L 53.9 187.9 Q 53.6 187.4, 53.3 186.8 Q 53.0 186.3, 52.9 186.1 L 52.9 192.1 L 51.9 192.1 L 51.9 184.8 L 53.1 184.8 \" fill=\"#0000FF\"/>\n",
       "<path class=\"atom-21\" d=\"M 189.1 125.0 L 191.5 128.9 Q 191.7 129.2, 192.1 129.9 Q 192.5 130.6, 192.5 130.7 L 192.5 125.0 L 193.5 125.0 L 193.5 132.3 L 192.5 132.3 L 189.9 128.1 Q 189.6 127.6, 189.3 127.0 Q 189.0 126.5, 188.9 126.3 L 188.9 132.3 L 188.0 132.3 L 188.0 125.0 L 189.1 125.0 \" fill=\"#0000FF\"/>\n",
       "<path class=\"atom-21\" d=\"M 187.9 117.0 L 188.9 117.0 L 188.9 120.1 L 192.6 120.1 L 192.6 117.0 L 193.6 117.0 L 193.6 124.3 L 192.6 124.3 L 192.6 120.9 L 188.9 120.9 L 188.9 124.3 L 187.9 124.3 L 187.9 117.0 \" fill=\"#0000FF\"/>\n",
       "<path class=\"atom-22\" d=\"M 212.2 141.3 Q 212.3 141.3, 212.7 141.5 Q 213.0 141.6, 213.4 141.7 Q 213.7 141.8, 214.1 141.8 Q 214.8 141.8, 215.2 141.5 Q 215.6 141.1, 215.6 140.5 Q 215.6 140.1, 215.4 139.9 Q 215.2 139.6, 214.9 139.5 Q 214.6 139.4, 214.1 139.2 Q 213.4 139.0, 213.0 138.8 Q 212.7 138.7, 212.4 138.3 Q 212.1 137.9, 212.1 137.2 Q 212.1 136.3, 212.7 135.7 Q 213.3 135.2, 214.6 135.2 Q 215.4 135.2, 216.4 135.6 L 216.1 136.4 Q 215.3 136.0, 214.6 136.0 Q 213.9 136.0, 213.5 136.3 Q 213.1 136.6, 213.1 137.1 Q 213.1 137.5, 213.3 137.7 Q 213.5 138.0, 213.8 138.1 Q 214.1 138.2, 214.6 138.4 Q 215.3 138.6, 215.7 138.8 Q 216.0 139.0, 216.3 139.4 Q 216.6 139.8, 216.6 140.5 Q 216.6 141.5, 215.9 142.1 Q 215.3 142.6, 214.1 142.6 Q 213.5 142.6, 213.0 142.5 Q 212.5 142.3, 212.0 142.1 L 212.2 141.3 \" fill=\"#CCCC00\"/>\n",
       "<path class=\"atom-23\" d=\"M 200.8 162.4 Q 200.8 160.6, 201.7 159.7 Q 202.5 158.7, 204.1 158.7 Q 205.8 158.7, 206.6 159.7 Q 207.5 160.6, 207.5 162.4 Q 207.5 164.2, 206.6 165.2 Q 205.7 166.2, 204.1 166.2 Q 202.5 166.2, 201.7 165.2 Q 200.8 164.2, 200.8 162.4 M 204.1 165.3 Q 205.3 165.3, 205.8 164.6 Q 206.5 163.8, 206.5 162.4 Q 206.5 161.0, 205.8 160.2 Q 205.3 159.5, 204.1 159.5 Q 203.0 159.5, 202.4 160.2 Q 201.8 161.0, 201.8 162.4 Q 201.8 163.9, 202.4 164.6 Q 203.0 165.3, 204.1 165.3 \" fill=\"#FF0000\"/>\n",
       "<path class=\"atom-24\" d=\"M 221.1 115.2 Q 221.1 113.5, 222.0 112.5 Q 222.8 111.5, 224.4 111.5 Q 226.0 111.5, 226.9 112.5 Q 227.8 113.5, 227.8 115.2 Q 227.8 117.0, 226.9 118.0 Q 226.0 119.0, 224.4 119.0 Q 222.8 119.0, 222.0 118.0 Q 221.1 117.0, 221.1 115.2 M 224.4 118.2 Q 225.5 118.2, 226.1 117.5 Q 226.7 116.7, 226.7 115.2 Q 226.7 113.8, 226.1 113.1 Q 225.5 112.4, 224.4 112.4 Q 223.3 112.4, 222.7 113.1 Q 222.1 113.8, 222.1 115.2 Q 222.1 116.7, 222.7 117.5 Q 223.3 118.2, 224.4 118.2 \" fill=\"#FF0000\"/>\n",
       "<path class=\"atom-27\" d=\"M 218.1 186.1 L 222.5 186.1 L 222.5 187.0 L 219.1 187.0 L 219.1 189.2 L 222.1 189.2 L 222.1 190.0 L 219.1 190.0 L 219.1 193.4 L 218.1 193.4 L 218.1 186.1 \" fill=\"#33CCCC\"/>\n",
       "<path class=\"atom-32\" d=\"M 253.3 104.5 L 257.6 104.5 L 257.6 105.3 L 254.2 105.3 L 254.2 107.5 L 257.2 107.5 L 257.2 108.4 L 254.2 108.4 L 254.2 111.7 L 253.3 111.7 L 253.3 104.5 \" fill=\"#33CCCC\"/>\n",
       "<path class=\"atom-34\" d=\"M 141.4 104.7 L 145.7 104.7 L 145.7 105.6 L 142.4 105.6 L 142.4 107.8 L 145.4 107.8 L 145.4 108.6 L 142.4 108.6 L 142.4 112.0 L 141.4 112.0 L 141.4 104.7 \" fill=\"#33CCCC\"/>\n",
       "</svg>"
      ],
      "text/plain": [
       "<IPython.core.display.SVG object>"
      ]
     },
     "execution_count": 9,
     "metadata": {},
     "output_type": "execute_result"
    }
   ],
   "source": [
    "# read SMILES from .csv file, assuming one column with header\n",
    "with open(\"data/my_molecules (copy).csv\", \"r\") as f:\n",
    "    reader = csv.reader(f)\n",
    "    next(reader)  # skip header\n",
    "    smiles_list = [r[0] for r in reader]\n",
    "\n",
    "dm.to_image(smiles_list)"
   ]
  },
  {
   "cell_type": "markdown",
   "metadata": {},
   "source": [
    "# Testing the main.py script"
   ]
  },
  {
   "cell_type": "code",
   "execution_count": 15,
   "metadata": {},
   "outputs": [
    {
     "name": "stderr",
     "output_type": "stream",
     "text": [
      "[13:19:03] Running LargestFragmentChooser\n",
      "[13:19:03] Fragment: CC(C)(C)c1nc(-c2cccc(NS(=O)(=O)c3c(F)cccc3F)c2F)c(-c2ccnc(N)n2)s1\n",
      "[13:19:03] New largest fragment: CC(C)(C)c1nc(-c2cccc(NS(=O)(=O)c3c(F)cccc3F)c2F)c(-c2ccnc(N)n2)s1 (55)\n"
     ]
    },
    {
     "name": "stdout",
     "output_type": "stream",
     "text": [
      "Processing core: *c1ncsc1*\n",
      "Generated side chain: [1*]c1cccc(NS(=O)(=O)c2c(F)cccc2F)c1F.[2*]C(C)(C)C.[3*]c1ccnc(N)n1\n"
     ]
    },
    {
     "name": "stderr",
     "output_type": "stream",
     "text": [
      "\u001b[32m2024-01-30 13:19:35.447\u001b[0m | \u001b[1mINFO    \u001b[0m | \u001b[36msafe.sample\u001b[0m:\u001b[36m_fragment_linking\u001b[0m:\u001b[36m397\u001b[0m - \u001b[1mAfter sanitization, 0 / 12 (0.00 %)  generated molecules are valid !\u001b[0m\n"
     ]
    },
    {
     "name": "stdout",
     "output_type": "stream",
     "text": [
      "Processing core: *c1ccncn1\n",
      "Generated side chain: [1*]c1sc(C(C)(C)C)nc1-c1cccc(NS(=O)(=O)c2c(F)cccc2F)c1F.[2*]N\n"
     ]
    },
    {
     "name": "stderr",
     "output_type": "stream",
     "text": [
      "  0%|          | 0/1 [00:00<?, ?it/s][13:20:09] \n",
      "\n",
      "****\n",
      "Range Error\n",
      "idx\n",
      "Violation occurred on line 222 in file /project/build/temp.linux-x86_64-cpython-39/rdkit/Code/GraphMol/ROMol.cpp\n",
      "Failed Expression: 16 < 16\n",
      "****\n",
      "\n",
      "[13:20:09] \n",
      "\n",
      "****\n",
      "Range Error\n",
      "idx\n",
      "Violation occurred on line 222 in file /project/build/temp.linux-x86_64-cpython-39/rdkit/Code/GraphMol/ROMol.cpp\n",
      "Failed Expression: 26 < 26\n",
      "****\n",
      "\n",
      "[13:20:09] \n",
      "\n",
      "****\n",
      "Range Error\n",
      "idx\n",
      "Violation occurred on line 222 in file /project/build/temp.linux-x86_64-cpython-39/rdkit/Code/GraphMol/ROMol.cpp\n",
      "Failed Expression: 14 < 14\n",
      "****\n",
      "\n",
      "[13:20:09] \n",
      "\n",
      "****\n",
      "Range Error\n",
      "idx\n",
      "Violation occurred on line 222 in file /project/build/temp.linux-x86_64-cpython-39/rdkit/Code/GraphMol/ROMol.cpp\n",
      "Failed Expression: 16 < 16\n",
      "****\n",
      "\n",
      "\u001b[32m2024-01-30 13:20:09.204\u001b[0m | \u001b[1mINFO    \u001b[0m | \u001b[36msafe.sample\u001b[0m:\u001b[36m_fragment_linking\u001b[0m:\u001b[36m397\u001b[0m - \u001b[1mAfter sanitization, 0 / 12 (0.00 %)  generated molecules are valid !\u001b[0m\n"
     ]
    },
    {
     "name": "stdout",
     "output_type": "stream",
     "text": [
      "Processing core: *c1ccccc1\n",
      "Generated side chain: [1*]c1nc(C(C)(C)C)sc1-c1ccnc(N)n1.[2*]NS(=O)(=O)c1c(F)cccc1F.[3*]F\n"
     ]
    },
    {
     "name": "stderr",
     "output_type": "stream",
     "text": [
      "  0%|          | 0/1 [00:00<?, ?it/s][13:20:49] \n",
      "\n",
      "****\n",
      "Range Error\n",
      "idx\n",
      "Violation occurred on line 222 in file /project/build/temp.linux-x86_64-cpython-39/rdkit/Code/GraphMol/ROMol.cpp\n",
      "Failed Expression: 18 < 18\n",
      "****\n",
      "\n",
      "\u001b[32m2024-01-30 13:20:49.831\u001b[0m | \u001b[1mINFO    \u001b[0m | \u001b[36msafe.sample\u001b[0m:\u001b[36m_fragment_linking\u001b[0m:\u001b[36m397\u001b[0m - \u001b[1mAfter sanitization, 0 / 12 (0.00 %)  generated molecules are valid !\u001b[0m\n"
     ]
    },
    {
     "name": "stdout",
     "output_type": "stream",
     "text": [
      "Processing core: *c1cccc(*)c1\n",
      "Generated side chain: [1*]c1nc(C(C)(C)C)sc1-c1ccnc(N)n1.[2*]NS(=O)(=O)c1c(F)cccc1F.[3*]F\n"
     ]
    },
    {
     "name": "stderr",
     "output_type": "stream",
     "text": [
      "  0%|          | 0/1 [00:00<?, ?it/s][13:21:23] \n",
      "\n",
      "****\n",
      "Range Error\n",
      "idx\n",
      "Violation occurred on line 222 in file /project/build/temp.linux-x86_64-cpython-39/rdkit/Code/GraphMol/ROMol.cpp\n",
      "Failed Expression: 17 < 17\n",
      "****\n",
      "\n",
      "[13:21:23] \n",
      "\n",
      "****\n",
      "Range Error\n",
      "idx\n",
      "Violation occurred on line 222 in file /project/build/temp.linux-x86_64-cpython-39/rdkit/Code/GraphMol/ROMol.cpp\n",
      "Failed Expression: 28 < 28\n",
      "****\n",
      "\n",
      "\u001b[32m2024-01-30 13:21:23.683\u001b[0m | \u001b[1mINFO    \u001b[0m | \u001b[36msafe.sample\u001b[0m:\u001b[36m_fragment_linking\u001b[0m:\u001b[36m397\u001b[0m - \u001b[1mAfter sanitization, 0 / 12 (0.00 %)  generated molecules are valid !\u001b[0m\n"
     ]
    },
    {
     "name": "stdout",
     "output_type": "stream",
     "text": [
      "Length of output: 0\n"
     ]
    },
    {
     "data": {
      "text/plain": [
       "[]"
      ]
     },
     "execution_count": 15,
     "metadata": {},
     "output_type": "execute_result"
    }
   ],
   "source": [
    "def smiles_to_safe(smiles):\n",
    "    try:\n",
    "        safe = sf.encode(smiles)\n",
    "        return safe\n",
    "    # except sf.EncoderError:\n",
    "    except:\n",
    "        print(\"Error in SMILES conversion\")\n",
    "\n",
    "def extract_core_structure(SMILES):\n",
    "    # Define scaffold parameter network\n",
    "    params = rdScaffoldNetwork.ScaffoldNetworkParams()\n",
    "    # customize parameter attributes\n",
    "    params.includeScaffoldsWithoutAttachments=False\n",
    "    mol = Chem.MolFromSmiles(SMILES)\n",
    "    net = rdScaffoldNetwork.CreateScaffoldNetwork([mol],params)\n",
    "    nodemols = [Chem.MolFromSmiles(x) for x in net.nodes]\n",
    "\n",
    "    filtered_list = []\n",
    "    for mol in nodemols:\n",
    "        # Check for the presence of attachment points and molecular weight range\n",
    "        if \"*\" in Chem.MolToSmiles(mol) and 60 < Descriptors.MolWt(mol) < 100:\n",
    "            filtered_list.append(mol)\n",
    "    \n",
    "    # If there are no scaffolds within the range, select the closest one\n",
    "    if not filtered_list:\n",
    "        closest_mol = min(nodemols, key=lambda x: abs(Descriptors.MolWt(x) - 80))\n",
    "        filtered_list.append(closest_mol)\n",
    "    \n",
    "    # Sort the filtered list based on the number of heteroatoms (fewer carbons)\n",
    "    filtered_list.sort(key=lambda x: x.GetNumHeavyAtoms())\n",
    "\n",
    "    filtered_list = [Chem.MolToSmiles(i) for i in filtered_list]\n",
    "\n",
    "    return filtered_list\n",
    "\n",
    "# generate new smiles\n",
    "def generate_smiles(side_chain):\n",
    "    generated_smiles = designer.scaffold_morphing(\n",
    "        side_chains=side_chain,\n",
    "        n_samples_per_trial=12,\n",
    "        n_trials=1,\n",
    "        sanitize=True,\n",
    "        do_not_fragment_further=False,\n",
    "        random_seed=100,)\n",
    "    return generated_smiles\n",
    "\n",
    "# my model\n",
    "def my_model(SMILES):\n",
    "    generated_smiles = []\n",
    "    for i in SMILES:\n",
    "        # extract the core structures for each SMILES\n",
    "        core_structures = extract_core_structure(i)\n",
    "        # generate new molecules for each core structure of the smile\n",
    "        for core in core_structures:\n",
    "            print(\"Processing core:\", core)\n",
    "            # compute side chain\n",
    "            side_chain = compute_side_chains(core=core, mol=i)\n",
    "            print(\"Generated side chain:\", Chem.MolToSmiles(side_chain))\n",
    "            # generate new molecules for each side chain of the smile\n",
    "            output = generate_smiles(Chem.MolToSmiles(side_chain))\n",
    "            generated_smiles += output\n",
    "\n",
    "    return generated_smiles \n",
    "\n",
    "\n",
    "# read SMILES from .csv file, assuming one column with header\n",
    "with open(\"data/my_molecules (copy).csv\", \"r\") as f:\n",
    "    reader = csv.reader(f)\n",
    "    next(reader)  # skip header\n",
    "    smiles_list = [r[0] for r in reader]\n",
    "\n",
    "# Load pre-trained model\n",
    "designer = sf.SAFEDesign.load_default(verbose=True)\n",
    "designer.model\n",
    "\n",
    "# # convert to SAFE\n",
    "# safe_list = [smiles_to_safe(smi) for smi in smiles_list]\n",
    "\n",
    "# run model\n",
    "outputs = my_model(smiles_list)\n",
    "# Remove duplicates\n",
    "outputs = list(set(outputs))\n",
    "print(\"Length of output:\", len(outputs))\n",
    "outputs"
   ]
  },
  {
   "cell_type": "code",
   "execution_count": 11,
   "metadata": {},
   "outputs": [
    {
     "name": "stdout",
     "output_type": "stream",
     "text": [
      "Length of output: 0\n"
     ]
    },
    {
     "ename": "ZeroDivisionError",
     "evalue": "integer division or modulo by zero",
     "output_type": "error",
     "traceback": [
      "\u001b[0;31m---------------------------------------------------------------------------\u001b[0m",
      "\u001b[0;31mZeroDivisionError\u001b[0m                         Traceback (most recent call last)",
      "Cell \u001b[0;32mIn[11], line 2\u001b[0m\n\u001b[1;32m      1\u001b[0m \u001b[38;5;28mprint\u001b[39m(\u001b[38;5;124m\"\u001b[39m\u001b[38;5;124mLength of output:\u001b[39m\u001b[38;5;124m\"\u001b[39m, \u001b[38;5;28mlen\u001b[39m(outputs))\n\u001b[0;32m----> 2\u001b[0m \u001b[43mdm\u001b[49m\u001b[38;5;241;43m.\u001b[39;49m\u001b[43mto_image\u001b[49m\u001b[43m(\u001b[49m\u001b[43moutputs\u001b[49m\u001b[43m)\u001b[49m\n",
      "File \u001b[0;32m~/anaconda3/envs/safe/lib/python3.9/site-packages/datamol/viz/_viz.py:123\u001b[0m, in \u001b[0;36mto_image\u001b[0;34m(mols, legends, n_cols, use_svg, mol_size, highlight_atom, highlight_bond, outfile, max_mols, copy, indices, bond_indices, bond_line_width, stereo_annotations, legend_fontsize, kekulize, align, **kwargs)\u001b[0m\n\u001b[1;32m    120\u001b[0m     \u001b[38;5;28;01melse\u001b[39;00m:\n\u001b[1;32m    121\u001b[0m         _kwargs[k] \u001b[38;5;241m=\u001b[39m v\n\u001b[0;32m--> 123\u001b[0m image \u001b[38;5;241m=\u001b[39m \u001b[43mDraw\u001b[49m\u001b[38;5;241;43m.\u001b[39;49m\u001b[43mMolsToGridImage\u001b[49m\u001b[43m(\u001b[49m\n\u001b[1;32m    124\u001b[0m \u001b[43m    \u001b[49m\u001b[43mmols\u001b[49m\u001b[43m,\u001b[49m\n\u001b[1;32m    125\u001b[0m \u001b[43m    \u001b[49m\u001b[43mlegends\u001b[49m\u001b[38;5;241;43m=\u001b[39;49m\u001b[43mlegends\u001b[49m\u001b[43m,\u001b[49m\n\u001b[1;32m    126\u001b[0m \u001b[43m    \u001b[49m\u001b[43mmolsPerRow\u001b[49m\u001b[38;5;241;43m=\u001b[39;49m\u001b[43mn_cols\u001b[49m\u001b[43m,\u001b[49m\n\u001b[1;32m    127\u001b[0m \u001b[43m    \u001b[49m\u001b[43museSVG\u001b[49m\u001b[38;5;241;43m=\u001b[39;49m\u001b[43muse_svg\u001b[49m\u001b[43m,\u001b[49m\n\u001b[1;32m    128\u001b[0m \u001b[43m    \u001b[49m\u001b[43msubImgSize\u001b[49m\u001b[38;5;241;43m=\u001b[39;49m\u001b[43mmol_size\u001b[49m\u001b[43m,\u001b[49m\n\u001b[1;32m    129\u001b[0m \u001b[43m    \u001b[49m\u001b[43mhighlightAtomLists\u001b[49m\u001b[38;5;241;43m=\u001b[39;49m\u001b[43m_highlight_atom\u001b[49m\u001b[43m,\u001b[49m\n\u001b[1;32m    130\u001b[0m \u001b[43m    \u001b[49m\u001b[43mhighlightBondLists\u001b[49m\u001b[38;5;241;43m=\u001b[39;49m\u001b[43m_highlight_bond\u001b[49m\u001b[43m,\u001b[49m\n\u001b[1;32m    131\u001b[0m \u001b[43m    \u001b[49m\u001b[43mdrawOptions\u001b[49m\u001b[38;5;241;43m=\u001b[39;49m\u001b[43mdraw_options\u001b[49m\u001b[43m,\u001b[49m\n\u001b[1;32m    132\u001b[0m \u001b[43m    \u001b[49m\u001b[38;5;241;43m*\u001b[39;49m\u001b[38;5;241;43m*\u001b[39;49m\u001b[43m_kwargs\u001b[49m\u001b[43m,\u001b[49m\n\u001b[1;32m    133\u001b[0m \u001b[43m\u001b[49m\u001b[43m)\u001b[49m\n\u001b[1;32m    135\u001b[0m \u001b[38;5;28;01mif\u001b[39;00m outfile \u001b[38;5;129;01mis\u001b[39;00m \u001b[38;5;129;01mnot\u001b[39;00m \u001b[38;5;28;01mNone\u001b[39;00m:\n\u001b[1;32m    136\u001b[0m     image_to_file(image, outfile, as_svg\u001b[38;5;241m=\u001b[39muse_svg)\n",
      "File \u001b[0;32m~/anaconda3/envs/safe/lib/python3.9/site-packages/rdkit/Chem/Draw/IPythonConsole.py:271\u001b[0m, in \u001b[0;36mShowMols\u001b[0;34m(mols, maxMols, **kwargs)\u001b[0m\n\u001b[1;32m    268\u001b[0m \u001b[38;5;28;01mif\u001b[39;00m \u001b[38;5;124m\"\u001b[39m\u001b[38;5;124mdrawOptions\u001b[39m\u001b[38;5;124m\"\u001b[39m \u001b[38;5;129;01mnot\u001b[39;00m \u001b[38;5;129;01min\u001b[39;00m kwargs:\n\u001b[1;32m    269\u001b[0m   kwargs[\u001b[38;5;124m\"\u001b[39m\u001b[38;5;124mdrawOptions\u001b[39m\u001b[38;5;124m\"\u001b[39m] \u001b[38;5;241m=\u001b[39m drawOptions\n\u001b[0;32m--> 271\u001b[0m res \u001b[38;5;241m=\u001b[39m \u001b[43mfn\u001b[49m\u001b[43m(\u001b[49m\u001b[43mmols\u001b[49m\u001b[43m,\u001b[49m\u001b[43m \u001b[49m\u001b[38;5;241;43m*\u001b[39;49m\u001b[38;5;241;43m*\u001b[39;49m\u001b[43mkwargs\u001b[49m\u001b[43m)\u001b[49m\n\u001b[1;32m    272\u001b[0m \u001b[38;5;28;01mif\u001b[39;00m InteractiveRenderer\u001b[38;5;241m.\u001b[39misEnabled():\n\u001b[1;32m    273\u001b[0m   \u001b[38;5;28;01mreturn\u001b[39;00m HTML(res)\n",
      "File \u001b[0;32m~/anaconda3/envs/safe/lib/python3.9/site-packages/rdkit/Chem/Draw/__init__.py:817\u001b[0m, in \u001b[0;36mMolsToGridImage\u001b[0;34m(mols, molsPerRow, subImgSize, legends, highlightAtomLists, highlightBondLists, useSVG, returnPNG, **kwargs)\u001b[0m\n\u001b[1;32m    814\u001b[0m   highlightBondLists \u001b[38;5;241m=\u001b[39m highlightBondLists[:\u001b[38;5;28mlen\u001b[39m(mols)]\n\u001b[1;32m    816\u001b[0m \u001b[38;5;28;01mif\u001b[39;00m useSVG:\n\u001b[0;32m--> 817\u001b[0m   \u001b[38;5;28;01mreturn\u001b[39;00m \u001b[43m_MolsToGridSVG\u001b[49m\u001b[43m(\u001b[49m\u001b[43mmols\u001b[49m\u001b[43m,\u001b[49m\u001b[43m \u001b[49m\u001b[43mmolsPerRow\u001b[49m\u001b[38;5;241;43m=\u001b[39;49m\u001b[43mmolsPerRow\u001b[49m\u001b[43m,\u001b[49m\u001b[43m \u001b[49m\u001b[43msubImgSize\u001b[49m\u001b[38;5;241;43m=\u001b[39;49m\u001b[43msubImgSize\u001b[49m\u001b[43m,\u001b[49m\u001b[43m \u001b[49m\u001b[43mlegends\u001b[49m\u001b[38;5;241;43m=\u001b[39;49m\u001b[43mlegends\u001b[49m\u001b[43m,\u001b[49m\n\u001b[1;32m    818\u001b[0m \u001b[43m                        \u001b[49m\u001b[43mhighlightAtomLists\u001b[49m\u001b[38;5;241;43m=\u001b[39;49m\u001b[43mhighlightAtomLists\u001b[49m\u001b[43m,\u001b[49m\n\u001b[1;32m    819\u001b[0m \u001b[43m                        \u001b[49m\u001b[43mhighlightBondLists\u001b[49m\u001b[38;5;241;43m=\u001b[39;49m\u001b[43mhighlightBondLists\u001b[49m\u001b[43m,\u001b[49m\u001b[43m \u001b[49m\u001b[38;5;241;43m*\u001b[39;49m\u001b[38;5;241;43m*\u001b[39;49m\u001b[43mkwargs\u001b[49m\u001b[43m)\u001b[49m\n\u001b[1;32m    820\u001b[0m \u001b[38;5;28;01melse\u001b[39;00m:\n\u001b[1;32m    821\u001b[0m   \u001b[38;5;28;01mreturn\u001b[39;00m _MolsToGridImage(mols, molsPerRow\u001b[38;5;241m=\u001b[39mmolsPerRow, subImgSize\u001b[38;5;241m=\u001b[39msubImgSize, legends\u001b[38;5;241m=\u001b[39mlegends,\n\u001b[1;32m    822\u001b[0m                           highlightAtomLists\u001b[38;5;241m=\u001b[39mhighlightAtomLists,\n\u001b[1;32m    823\u001b[0m                           highlightBondLists\u001b[38;5;241m=\u001b[39mhighlightBondLists, returnPNG\u001b[38;5;241m=\u001b[39mreturnPNG, \u001b[38;5;241m*\u001b[39m\u001b[38;5;241m*\u001b[39mkwargs)\n",
      "File \u001b[0;32m~/anaconda3/envs/safe/lib/python3.9/site-packages/rdkit/Chem/Draw/__init__.py:782\u001b[0m, in \u001b[0;36m_MolsToGridSVG\u001b[0;34m(mols, molsPerRow, subImgSize, legends, highlightAtomLists, highlightBondLists, drawOptions, **kwargs)\u001b[0m\n\u001b[1;32m    779\u001b[0m \u001b[38;5;28;01mif\u001b[39;00m legends \u001b[38;5;129;01mis\u001b[39;00m \u001b[38;5;28;01mNone\u001b[39;00m:\n\u001b[1;32m    780\u001b[0m   legends \u001b[38;5;241m=\u001b[39m [\u001b[38;5;124m'\u001b[39m\u001b[38;5;124m'\u001b[39m] \u001b[38;5;241m*\u001b[39m \u001b[38;5;28mlen\u001b[39m(mols)\n\u001b[0;32m--> 782\u001b[0m nRows \u001b[38;5;241m=\u001b[39m \u001b[38;5;28;43mlen\u001b[39;49m\u001b[43m(\u001b[49m\u001b[43mmols\u001b[49m\u001b[43m)\u001b[49m\u001b[43m \u001b[49m\u001b[38;5;241;43m/\u001b[39;49m\u001b[38;5;241;43m/\u001b[39;49m\u001b[43m \u001b[49m\u001b[43mmolsPerRow\u001b[49m\n\u001b[1;32m    783\u001b[0m \u001b[38;5;28;01mif\u001b[39;00m \u001b[38;5;28mlen\u001b[39m(mols) \u001b[38;5;241m%\u001b[39m molsPerRow:\n\u001b[1;32m    784\u001b[0m   nRows \u001b[38;5;241m+\u001b[39m\u001b[38;5;241m=\u001b[39m \u001b[38;5;241m1\u001b[39m\n",
      "\u001b[0;31mZeroDivisionError\u001b[0m: integer division or modulo by zero"
     ]
    }
   ],
   "source": [
    "print(\"Length of output:\", len(outputs))\n",
    "dm.to_image(outputs)"
   ]
  },
  {
   "cell_type": "markdown",
   "metadata": {},
   "source": [
    "# Explore further"
   ]
  },
  {
   "cell_type": "code",
   "execution_count": 24,
   "metadata": {},
   "outputs": [
    {
     "name": "stdout",
     "output_type": "stream",
     "text": [
      "['*c1ncsc1*', '*c1ccccc1', '*c1ccncn1', '*c1cccc(*)c1']\n"
     ]
    },
    {
     "name": "stderr",
     "output_type": "stream",
     "text": [
      "[13:31:40] Running LargestFragmentChooser\n",
      "[13:31:40] Fragment: CC(C)(C)c1nc(-c2cccc(NS(=O)(=O)c3c(F)cccc3F)c2F)c(-c2ccnc(N)n2)s1\n",
      "[13:31:40] New largest fragment: CC(C)(C)c1nc(-c2cccc(NS(=O)(=O)c3c(F)cccc3F)c2F)c(-c2ccnc(N)n2)s1 (55)\n"
     ]
    },
    {
     "data": {
      "image/svg+xml": [
       "<svg xmlns=\"http://www.w3.org/2000/svg\" xmlns:rdkit=\"http://www.rdkit.org/xml\" xmlns:xlink=\"http://www.w3.org/1999/xlink\" version=\"1.1\" baseProfile=\"full\" xml:space=\"preserve\" width=\"1200px\" height=\"300px\" viewBox=\"0 0 1200 300\">\n",
       "<!-- END OF HEADER -->\n",
       "<rect style=\"opacity:1.0;fill:#FFFFFF;stroke:none\" width=\"1200.0\" height=\"300.0\" x=\"0.0\" y=\"0.0\"> </rect>\n",
       "<path class=\"bond-0 atom-0 atom-1\" d=\"M 71.9,232.1 L 98.5,212.8\" style=\"fill:none;fill-rule:evenodd;stroke:#191919;stroke-width:2.0px;stroke-linecap:butt;stroke-linejoin:miter;stroke-opacity:1\"/>\n",
       "<path class=\"bond-0 atom-0 atom-1\" d=\"M 98.5,212.8 L 125.1,193.5\" style=\"fill:none;fill-rule:evenodd;stroke:#000000;stroke-width:2.0px;stroke-linecap:butt;stroke-linejoin:miter;stroke-opacity:1\"/>\n",
       "<path class=\"bond-1 atom-1 atom-2\" d=\"M 125.1,193.5 L 155.5,203.3\" style=\"fill:none;fill-rule:evenodd;stroke:#000000;stroke-width:2.0px;stroke-linecap:butt;stroke-linejoin:miter;stroke-opacity:1\"/>\n",
       "<path class=\"bond-1 atom-1 atom-2\" d=\"M 155.5,203.3 L 186.0,213.2\" style=\"fill:none;fill-rule:evenodd;stroke:#0000FF;stroke-width:2.0px;stroke-linecap:butt;stroke-linejoin:miter;stroke-opacity:1\"/>\n",
       "<path class=\"bond-2 atom-2 atom-3\" d=\"M 206.0,203.5 L 223.3,179.7\" style=\"fill:none;fill-rule:evenodd;stroke:#0000FF;stroke-width:2.0px;stroke-linecap:butt;stroke-linejoin:miter;stroke-opacity:1\"/>\n",
       "<path class=\"bond-2 atom-2 atom-3\" d=\"M 223.3,179.7 L 240.6,155.9\" style=\"fill:none;fill-rule:evenodd;stroke:#000000;stroke-width:2.0px;stroke-linecap:butt;stroke-linejoin:miter;stroke-opacity:1\"/>\n",
       "<path class=\"bond-2 atom-2 atom-3\" d=\"M 196.9,196.9 L 211.8,176.4\" style=\"fill:none;fill-rule:evenodd;stroke:#0000FF;stroke-width:2.0px;stroke-linecap:butt;stroke-linejoin:miter;stroke-opacity:1\"/>\n",
       "<path class=\"bond-2 atom-2 atom-3\" d=\"M 211.8,176.4 L 226.7,155.9\" style=\"fill:none;fill-rule:evenodd;stroke:#000000;stroke-width:2.0px;stroke-linecap:butt;stroke-linejoin:miter;stroke-opacity:1\"/>\n",
       "<path class=\"bond-3 atom-3 atom-4\" d=\"M 240.6,155.9 L 223.2,132.0\" style=\"fill:none;fill-rule:evenodd;stroke:#000000;stroke-width:2.0px;stroke-linecap:butt;stroke-linejoin:miter;stroke-opacity:1\"/>\n",
       "<path class=\"bond-3 atom-3 atom-4\" d=\"M 223.2,132.0 L 205.8,108.0\" style=\"fill:none;fill-rule:evenodd;stroke:#CCCC00;stroke-width:2.0px;stroke-linecap:butt;stroke-linejoin:miter;stroke-opacity:1\"/>\n",
       "<path class=\"bond-4 atom-4 atom-5\" d=\"M 187.2,98.3 L 156.2,108.3\" style=\"fill:none;fill-rule:evenodd;stroke:#CCCC00;stroke-width:2.0px;stroke-linecap:butt;stroke-linejoin:miter;stroke-opacity:1\"/>\n",
       "<path class=\"bond-4 atom-4 atom-5\" d=\"M 156.2,108.3 L 125.1,118.4\" style=\"fill:none;fill-rule:evenodd;stroke:#000000;stroke-width:2.0px;stroke-linecap:butt;stroke-linejoin:miter;stroke-opacity:1\"/>\n",
       "<path class=\"bond-5 atom-5 atom-6\" d=\"M 125.1,118.4 L 95.7,97.1\" style=\"fill:none;fill-rule:evenodd;stroke:#000000;stroke-width:2.0px;stroke-linecap:butt;stroke-linejoin:miter;stroke-opacity:1\"/>\n",
       "<path class=\"bond-5 atom-5 atom-6\" d=\"M 95.7,97.1 L 66.3,75.7\" style=\"fill:none;fill-rule:evenodd;stroke:#191919;stroke-width:2.0px;stroke-linecap:butt;stroke-linejoin:miter;stroke-opacity:1\"/>\n",
       "<path class=\"bond-6 atom-5 atom-1\" d=\"M 125.1,118.4 L 125.1,193.5\" style=\"fill:none;fill-rule:evenodd;stroke:#000000;stroke-width:2.0px;stroke-linecap:butt;stroke-linejoin:miter;stroke-opacity:1\"/>\n",
       "<path class=\"bond-6 atom-5 atom-1\" d=\"M 136.4,126.6 L 136.4,185.3\" style=\"fill:none;fill-rule:evenodd;stroke:#000000;stroke-width:2.0px;stroke-linecap:butt;stroke-linejoin:miter;stroke-opacity:1\"/>\n",
       "<path d=\"M 239.7,157.1 L 240.6,155.9 L 239.7,154.7\" style=\"fill:none;stroke:#000000;stroke-width:2.0px;stroke-linecap:butt;stroke-linejoin:miter;stroke-opacity:1;\"/>\n",
       "<path class=\"atom-0\" d=\"M 60.4 235.2 L 63.5 232.0 L 59.4 231.2 L 60.0 229.0 L 63.8 231.0 L 63.3 226.8 L 65.5 226.8 L 64.9 230.9 L 68.8 229.1 L 69.5 231.2 L 65.2 232.0 L 68.2 235.2 L 66.4 236.5 L 64.3 232.5 L 62.2 236.5 L 60.4 235.2 \" fill=\"#191919\"/>\n",
       "<path class=\"atom-2\" d=\"M 191.8 206.0 L 198.8 217.3 Q 199.5 218.4, 200.6 220.4 Q 201.7 222.4, 201.7 222.5 L 201.7 206.0 L 204.6 206.0 L 204.6 227.3 L 201.6 227.3 L 194.2 215.0 Q 193.3 213.5, 192.4 211.9 Q 191.5 210.2, 191.2 209.7 L 191.2 227.3 L 188.4 227.3 L 188.4 206.0 L 191.8 206.0 \" fill=\"#0000FF\"/>\n",
       "<path class=\"atom-4\" d=\"M 190.5 102.5 Q 190.7 102.6, 191.7 103.0 Q 192.7 103.5, 193.8 103.7 Q 194.9 104.0, 196.0 104.0 Q 198.0 104.0, 199.2 103.0 Q 200.3 102.0, 200.3 100.3 Q 200.3 99.1, 199.7 98.4 Q 199.2 97.7, 198.3 97.3 Q 197.4 96.9, 195.9 96.5 Q 194.0 95.9, 192.8 95.4 Q 191.7 94.8, 190.9 93.7 Q 190.1 92.5, 190.1 90.6 Q 190.1 87.9, 191.9 86.3 Q 193.8 84.6, 197.4 84.6 Q 199.8 84.6, 202.6 85.8 L 201.9 88.1 Q 199.4 87.1, 197.5 87.1 Q 195.4 87.1, 194.2 87.9 Q 193.1 88.8, 193.1 90.3 Q 193.1 91.4, 193.7 92.1 Q 194.3 92.8, 195.1 93.2 Q 196.0 93.6, 197.5 94.0 Q 199.4 94.6, 200.5 95.2 Q 201.7 95.8, 202.5 97.0 Q 203.3 98.2, 203.3 100.3 Q 203.3 103.2, 201.3 104.8 Q 199.4 106.4, 196.1 106.4 Q 194.2 106.4, 192.8 106.0 Q 191.4 105.6, 189.7 104.9 L 190.5 102.5 \" fill=\"#CCCC00\"/>\n",
       "<path class=\"atom-6\" d=\"M 60.4 71.9 L 63.5 68.8 L 59.4 67.9 L 60.0 65.8 L 63.8 67.7 L 63.3 63.5 L 65.5 63.5 L 64.9 67.7 L 68.8 65.9 L 69.5 67.9 L 65.2 68.7 L 68.2 71.9 L 66.4 73.2 L 64.3 69.3 L 62.2 73.2 L 60.4 71.9 \" fill=\"#191919\"/>\n",
       "<path class=\"bond-0 atom-0 atom-1\" d=\"M 552.5,150.0 L 518.8,150.0\" style=\"fill:none;fill-rule:evenodd;stroke:#191919;stroke-width:2.0px;stroke-linecap:butt;stroke-linejoin:miter;stroke-opacity:1\"/>\n",
       "<path class=\"bond-0 atom-0 atom-1\" d=\"M 518.8,150.0 L 485.0,150.0\" style=\"fill:none;fill-rule:evenodd;stroke:#000000;stroke-width:2.0px;stroke-linecap:butt;stroke-linejoin:miter;stroke-opacity:1\"/>\n",
       "<path class=\"bond-1 atom-1 atom-2\" d=\"M 485.0,150.0 L 447.5,215.0\" style=\"fill:none;fill-rule:evenodd;stroke:#000000;stroke-width:2.0px;stroke-linecap:butt;stroke-linejoin:miter;stroke-opacity:1\"/>\n",
       "<path class=\"bond-1 atom-1 atom-2\" d=\"M 472.0,150.0 L 441.0,203.7\" style=\"fill:none;fill-rule:evenodd;stroke:#000000;stroke-width:2.0px;stroke-linecap:butt;stroke-linejoin:miter;stroke-opacity:1\"/>\n",
       "<path class=\"bond-2 atom-2 atom-3\" d=\"M 447.5,215.0 L 372.4,215.0\" style=\"fill:none;fill-rule:evenodd;stroke:#000000;stroke-width:2.0px;stroke-linecap:butt;stroke-linejoin:miter;stroke-opacity:1\"/>\n",
       "<path class=\"bond-3 atom-3 atom-4\" d=\"M 372.4,215.0 L 334.9,150.0\" style=\"fill:none;fill-rule:evenodd;stroke:#000000;stroke-width:2.0px;stroke-linecap:butt;stroke-linejoin:miter;stroke-opacity:1\"/>\n",
       "<path class=\"bond-3 atom-3 atom-4\" d=\"M 378.9,203.7 L 347.9,150.0\" style=\"fill:none;fill-rule:evenodd;stroke:#000000;stroke-width:2.0px;stroke-linecap:butt;stroke-linejoin:miter;stroke-opacity:1\"/>\n",
       "<path class=\"bond-4 atom-4 atom-5\" d=\"M 334.9,150.0 L 372.4,85.0\" style=\"fill:none;fill-rule:evenodd;stroke:#000000;stroke-width:2.0px;stroke-linecap:butt;stroke-linejoin:miter;stroke-opacity:1\"/>\n",
       "<path class=\"bond-5 atom-5 atom-6\" d=\"M 372.4,85.0 L 447.5,85.0\" style=\"fill:none;fill-rule:evenodd;stroke:#000000;stroke-width:2.0px;stroke-linecap:butt;stroke-linejoin:miter;stroke-opacity:1\"/>\n",
       "<path class=\"bond-5 atom-5 atom-6\" d=\"M 378.9,96.3 L 441.0,96.3\" style=\"fill:none;fill-rule:evenodd;stroke:#000000;stroke-width:2.0px;stroke-linecap:butt;stroke-linejoin:miter;stroke-opacity:1\"/>\n",
       "<path class=\"bond-6 atom-6 atom-1\" d=\"M 447.5,85.0 L 485.0,150.0\" style=\"fill:none;fill-rule:evenodd;stroke:#000000;stroke-width:2.0px;stroke-linecap:butt;stroke-linejoin:miter;stroke-opacity:1\"/>\n",
       "<path d=\"M 449.4,211.7 L 447.5,215.0 L 443.7,215.0\" style=\"fill:none;stroke:#000000;stroke-width:2.0px;stroke-linecap:butt;stroke-linejoin:miter;stroke-opacity:1;\"/>\n",
       "<path d=\"M 376.2,215.0 L 372.4,215.0 L 370.6,211.7\" style=\"fill:none;stroke:#000000;stroke-width:2.0px;stroke-linecap:butt;stroke-linejoin:miter;stroke-opacity:1;\"/>\n",
       "<path d=\"M 336.8,153.2 L 334.9,150.0 L 336.8,146.8\" style=\"fill:none;stroke:#000000;stroke-width:2.0px;stroke-linecap:butt;stroke-linejoin:miter;stroke-opacity:1;\"/>\n",
       "<path d=\"M 370.6,88.3 L 372.4,85.0 L 376.2,85.0\" style=\"fill:none;stroke:#000000;stroke-width:2.0px;stroke-linecap:butt;stroke-linejoin:miter;stroke-opacity:1;\"/>\n",
       "<path d=\"M 443.7,85.0 L 447.5,85.0 L 449.4,88.3\" style=\"fill:none;stroke:#000000;stroke-width:2.0px;stroke-linecap:butt;stroke-linejoin:miter;stroke-opacity:1;\"/>\n",
       "<path class=\"atom-0\" d=\"M 556.0 147.6 L 559.2 144.4 L 555.0 143.6 L 555.6 141.5 L 559.5 143.4 L 558.9 139.2 L 561.2 139.2 L 560.5 143.4 L 564.4 141.6 L 565.1 143.6 L 560.9 144.4 L 563.9 147.6 L 562.0 148.9 L 560.0 145.0 L 557.9 148.9 L 556.0 147.6 \" fill=\"#191919\"/>\n",
       "<path class=\"bond-0 atom-0 atom-1\" d=\"M 856.6,155.3 L 822.8,155.3\" style=\"fill:none;fill-rule:evenodd;stroke:#191919;stroke-width:2.0px;stroke-linecap:butt;stroke-linejoin:miter;stroke-opacity:1\"/>\n",
       "<path class=\"bond-0 atom-0 atom-1\" d=\"M 822.8,155.3 L 789.0,155.3\" style=\"fill:none;fill-rule:evenodd;stroke:#000000;stroke-width:2.0px;stroke-linecap:butt;stroke-linejoin:miter;stroke-opacity:1\"/>\n",
       "<path class=\"bond-1 atom-1 atom-2\" d=\"M 789.0,155.3 L 751.5,220.3\" style=\"fill:none;fill-rule:evenodd;stroke:#000000;stroke-width:2.0px;stroke-linecap:butt;stroke-linejoin:miter;stroke-opacity:1\"/>\n",
       "<path class=\"bond-1 atom-1 atom-2\" d=\"M 776.0,155.3 L 745.0,209.0\" style=\"fill:none;fill-rule:evenodd;stroke:#000000;stroke-width:2.0px;stroke-linecap:butt;stroke-linejoin:miter;stroke-opacity:1\"/>\n",
       "<path class=\"bond-2 atom-2 atom-3\" d=\"M 751.5,220.3 L 676.5,220.3\" style=\"fill:none;fill-rule:evenodd;stroke:#000000;stroke-width:2.0px;stroke-linecap:butt;stroke-linejoin:miter;stroke-opacity:1\"/>\n",
       "<path class=\"bond-3 atom-3 atom-4\" d=\"M 676.5,220.3 L 661.5,194.4\" style=\"fill:none;fill-rule:evenodd;stroke:#000000;stroke-width:2.0px;stroke-linecap:butt;stroke-linejoin:miter;stroke-opacity:1\"/>\n",
       "<path class=\"bond-3 atom-3 atom-4\" d=\"M 661.5,194.4 L 646.5,168.4\" style=\"fill:none;fill-rule:evenodd;stroke:#0000FF;stroke-width:2.0px;stroke-linecap:butt;stroke-linejoin:miter;stroke-opacity:1\"/>\n",
       "<path class=\"bond-3 atom-3 atom-4\" d=\"M 683.0,209.0 L 669.6,185.9\" style=\"fill:none;fill-rule:evenodd;stroke:#000000;stroke-width:2.0px;stroke-linecap:butt;stroke-linejoin:miter;stroke-opacity:1\"/>\n",
       "<path class=\"bond-3 atom-3 atom-4\" d=\"M 669.6,185.9 L 656.3,162.8\" style=\"fill:none;fill-rule:evenodd;stroke:#0000FF;stroke-width:2.0px;stroke-linecap:butt;stroke-linejoin:miter;stroke-opacity:1\"/>\n",
       "<path class=\"bond-4 atom-4 atom-5\" d=\"M 646.5,142.2 L 661.5,116.3\" style=\"fill:none;fill-rule:evenodd;stroke:#0000FF;stroke-width:2.0px;stroke-linecap:butt;stroke-linejoin:miter;stroke-opacity:1\"/>\n",
       "<path class=\"bond-4 atom-4 atom-5\" d=\"M 661.5,116.3 L 676.5,90.3\" style=\"fill:none;fill-rule:evenodd;stroke:#000000;stroke-width:2.0px;stroke-linecap:butt;stroke-linejoin:miter;stroke-opacity:1\"/>\n",
       "<path class=\"bond-5 atom-5 atom-6\" d=\"M 676.5,90.3 L 708.7,90.3\" style=\"fill:none;fill-rule:evenodd;stroke:#000000;stroke-width:2.0px;stroke-linecap:butt;stroke-linejoin:miter;stroke-opacity:1\"/>\n",
       "<path class=\"bond-5 atom-5 atom-6\" d=\"M 708.7,90.3 L 741.0,90.3\" style=\"fill:none;fill-rule:evenodd;stroke:#0000FF;stroke-width:2.0px;stroke-linecap:butt;stroke-linejoin:miter;stroke-opacity:1\"/>\n",
       "<path class=\"bond-5 atom-5 atom-6\" d=\"M 683.0,101.6 L 712.0,101.6\" style=\"fill:none;fill-rule:evenodd;stroke:#000000;stroke-width:2.0px;stroke-linecap:butt;stroke-linejoin:miter;stroke-opacity:1\"/>\n",
       "<path class=\"bond-5 atom-5 atom-6\" d=\"M 712.0,101.6 L 741.0,101.6\" style=\"fill:none;fill-rule:evenodd;stroke:#0000FF;stroke-width:2.0px;stroke-linecap:butt;stroke-linejoin:miter;stroke-opacity:1\"/>\n",
       "<path class=\"bond-6 atom-6 atom-1\" d=\"M 759.1,103.4 L 774.1,129.4\" style=\"fill:none;fill-rule:evenodd;stroke:#0000FF;stroke-width:2.0px;stroke-linecap:butt;stroke-linejoin:miter;stroke-opacity:1\"/>\n",
       "<path class=\"bond-6 atom-6 atom-1\" d=\"M 774.1,129.4 L 789.0,155.3\" style=\"fill:none;fill-rule:evenodd;stroke:#000000;stroke-width:2.0px;stroke-linecap:butt;stroke-linejoin:miter;stroke-opacity:1\"/>\n",
       "<path d=\"M 753.4,217.0 L 751.5,220.3 L 747.8,220.3\" style=\"fill:none;stroke:#000000;stroke-width:2.0px;stroke-linecap:butt;stroke-linejoin:miter;stroke-opacity:1;\"/>\n",
       "<path d=\"M 680.2,220.3 L 676.5,220.3 L 675.7,219.0\" style=\"fill:none;stroke:#000000;stroke-width:2.0px;stroke-linecap:butt;stroke-linejoin:miter;stroke-opacity:1;\"/>\n",
       "<path d=\"M 675.7,91.6 L 676.5,90.3 L 678.1,90.3\" style=\"fill:none;stroke:#000000;stroke-width:2.0px;stroke-linecap:butt;stroke-linejoin:miter;stroke-opacity:1;\"/>\n",
       "<path class=\"atom-0\" d=\"M 860.1 152.9 L 863.2 149.8 L 859.0 148.9 L 859.7 146.8 L 863.5 148.7 L 862.9 144.5 L 865.2 144.5 L 864.6 148.7 L 868.4 146.9 L 869.1 148.9 L 864.9 149.7 L 867.9 152.9 L 866.1 154.2 L 864.0 150.3 L 861.9 154.2 L 860.1 152.9 \" fill=\"#191919\"/>\n",
       "<path class=\"atom-4\" d=\"M 634.3 144.7 L 641.2 155.9 Q 641.9 157.1, 643.0 159.1 Q 644.1 161.1, 644.2 161.2 L 644.2 144.7 L 647.0 144.7 L 647.0 165.9 L 644.1 165.9 L 636.6 153.6 Q 635.8 152.2, 634.8 150.5 Q 633.9 148.9, 633.7 148.4 L 633.7 165.9 L 630.9 165.9 L 630.9 144.7 L 634.3 144.7 \" fill=\"#0000FF\"/>\n",
       "<path class=\"atom-6\" d=\"M 746.8 79.7 L 753.8 91.0 Q 754.5 92.1, 755.6 94.1 Q 756.7 96.1, 756.8 96.2 L 756.8 79.7 L 759.6 79.7 L 759.6 101.0 L 756.7 101.0 L 749.2 88.6 Q 748.3 87.2, 747.4 85.6 Q 746.5 83.9, 746.2 83.4 L 746.2 101.0 L 743.5 101.0 L 743.5 79.7 L 746.8 79.7 \" fill=\"#0000FF\"/>\n",
       "<path class=\"bond-0 atom-0 atom-1\" d=\"M 927.5,220.7 L 956.3,204.1\" style=\"fill:none;fill-rule:evenodd;stroke:#191919;stroke-width:2.0px;stroke-linecap:butt;stroke-linejoin:miter;stroke-opacity:1\"/>\n",
       "<path class=\"bond-0 atom-0 atom-1\" d=\"M 956.3,204.1 L 985.0,187.5\" style=\"fill:none;fill-rule:evenodd;stroke:#000000;stroke-width:2.0px;stroke-linecap:butt;stroke-linejoin:miter;stroke-opacity:1\"/>\n",
       "<path class=\"bond-1 atom-1 atom-2\" d=\"M 985.0,187.5 L 985.0,112.5\" style=\"fill:none;fill-rule:evenodd;stroke:#000000;stroke-width:2.0px;stroke-linecap:butt;stroke-linejoin:miter;stroke-opacity:1\"/>\n",
       "<path class=\"bond-1 atom-1 atom-2\" d=\"M 996.3,181.0 L 996.3,119.0\" style=\"fill:none;fill-rule:evenodd;stroke:#000000;stroke-width:2.0px;stroke-linecap:butt;stroke-linejoin:miter;stroke-opacity:1\"/>\n",
       "<path class=\"bond-2 atom-2 atom-3\" d=\"M 985.0,112.5 L 1050.0,75.0\" style=\"fill:none;fill-rule:evenodd;stroke:#000000;stroke-width:2.0px;stroke-linecap:butt;stroke-linejoin:miter;stroke-opacity:1\"/>\n",
       "<path class=\"bond-3 atom-3 atom-4\" d=\"M 1050.0,75.0 L 1115.0,112.5\" style=\"fill:none;fill-rule:evenodd;stroke:#000000;stroke-width:2.0px;stroke-linecap:butt;stroke-linejoin:miter;stroke-opacity:1\"/>\n",
       "<path class=\"bond-3 atom-3 atom-4\" d=\"M 1050.0,88.0 L 1103.7,119.0\" style=\"fill:none;fill-rule:evenodd;stroke:#000000;stroke-width:2.0px;stroke-linecap:butt;stroke-linejoin:miter;stroke-opacity:1\"/>\n",
       "<path class=\"bond-4 atom-4 atom-5\" d=\"M 1115.0,112.5 L 1115.0,187.5\" style=\"fill:none;fill-rule:evenodd;stroke:#000000;stroke-width:2.0px;stroke-linecap:butt;stroke-linejoin:miter;stroke-opacity:1\"/>\n",
       "<path class=\"bond-5 atom-5 atom-6\" d=\"M 1115.0,187.5 L 1143.7,204.1\" style=\"fill:none;fill-rule:evenodd;stroke:#000000;stroke-width:2.0px;stroke-linecap:butt;stroke-linejoin:miter;stroke-opacity:1\"/>\n",
       "<path class=\"bond-5 atom-5 atom-6\" d=\"M 1143.7,204.1 L 1172.5,220.7\" style=\"fill:none;fill-rule:evenodd;stroke:#191919;stroke-width:2.0px;stroke-linecap:butt;stroke-linejoin:miter;stroke-opacity:1\"/>\n",
       "<path class=\"bond-6 atom-5 atom-7\" d=\"M 1115.0,187.5 L 1050.0,225.0\" style=\"fill:none;fill-rule:evenodd;stroke:#000000;stroke-width:2.0px;stroke-linecap:butt;stroke-linejoin:miter;stroke-opacity:1\"/>\n",
       "<path class=\"bond-6 atom-5 atom-7\" d=\"M 1103.7,181.0 L 1050.0,212.0\" style=\"fill:none;fill-rule:evenodd;stroke:#000000;stroke-width:2.0px;stroke-linecap:butt;stroke-linejoin:miter;stroke-opacity:1\"/>\n",
       "<path class=\"bond-7 atom-7 atom-1\" d=\"M 1050.0,225.0 L 985.0,187.5\" style=\"fill:none;fill-rule:evenodd;stroke:#000000;stroke-width:2.0px;stroke-linecap:butt;stroke-linejoin:miter;stroke-opacity:1\"/>\n",
       "<path d=\"M 985.0,116.2 L 985.0,112.5 L 988.3,110.6\" style=\"fill:none;stroke:#000000;stroke-width:2.0px;stroke-linecap:butt;stroke-linejoin:miter;stroke-opacity:1;\"/>\n",
       "<path d=\"M 1046.8,76.8 L 1050.0,75.0 L 1053.2,76.8\" style=\"fill:none;stroke:#000000;stroke-width:2.0px;stroke-linecap:butt;stroke-linejoin:miter;stroke-opacity:1;\"/>\n",
       "<path d=\"M 1111.7,110.6 L 1115.0,112.5 L 1115.0,116.2\" style=\"fill:none;stroke:#000000;stroke-width:2.0px;stroke-linecap:butt;stroke-linejoin:miter;stroke-opacity:1;\"/>\n",
       "<path d=\"M 1053.2,223.2 L 1050.0,225.0 L 1046.8,223.2\" style=\"fill:none;stroke:#000000;stroke-width:2.0px;stroke-linecap:butt;stroke-linejoin:miter;stroke-opacity:1;\"/>\n",
       "<path class=\"atom-0\" d=\"M 916.0 222.7 L 919.1 219.5 L 915.0 218.6 L 915.6 216.5 L 919.4 218.4 L 918.9 214.3 L 921.2 214.2 L 920.5 218.4 L 924.4 216.6 L 925.1 218.6 L 920.9 219.4 L 923.9 222.6 L 922.0 224.0 L 920.0 220.0 L 917.9 224.0 L 916.0 222.7 \" fill=\"#191919\"/>\n",
       "<path class=\"atom-6\" d=\"M 1176.0 222.7 L 1179.1 219.5 L 1174.9 218.6 L 1175.6 216.5 L 1179.4 218.4 L 1178.8 214.3 L 1181.1 214.2 L 1180.5 218.4 L 1184.3 216.6 L 1185.0 218.6 L 1180.8 219.4 L 1183.8 222.6 L 1182.0 224.0 L 1179.9 220.0 L 1177.8 224.0 L 1176.0 222.7 \" fill=\"#191919\"/>\n",
       "</svg>"
      ],
      "text/plain": [
       "<IPython.core.display.SVG object>"
      ]
     },
     "execution_count": 24,
     "metadata": {},
     "output_type": "execute_result"
    }
   ],
   "source": [
    "smiles = \"CC(C)(C)c1nc(c(s1)-c1ccnc(N)n1)-c1cccc(NS(=O)(=O)c2c(F)cccc2F)c1F\"\n",
    "safe = smiles_to_safe(smiles)\n",
    "\n",
    "core_structures = extract_core_structure(safe)\n",
    "print(core_structures)\n",
    "dm.to_image(core_structures)"
   ]
  },
  {
   "cell_type": "code",
   "execution_count": 25,
   "metadata": {},
   "outputs": [
    {
     "name": "stdout",
     "output_type": "stream",
     "text": [
      "<rdkit.Chem.rdchem.Mol object at 0x7fd478774660>\n"
     ]
    },
    {
     "data": {
      "image/svg+xml": [
       "<svg xmlns=\"http://www.w3.org/2000/svg\" xmlns:rdkit=\"http://www.rdkit.org/xml\" xmlns:xlink=\"http://www.w3.org/1999/xlink\" version=\"1.1\" baseProfile=\"full\" xml:space=\"preserve\" width=\"300px\" height=\"300px\" viewBox=\"0 0 300 300\">\n",
       "<!-- END OF HEADER -->\n",
       "<rect style=\"opacity:1.0;fill:#FFFFFF;stroke:none\" width=\"300.0\" height=\"300.0\" x=\"0.0\" y=\"0.0\"> </rect>\n",
       "<path class=\"bond-0 atom-0 atom-1\" d=\"M 285.0,212.7 L 252.6,231.4\" style=\"fill:none;fill-rule:evenodd;stroke:#000000;stroke-width:2.0px;stroke-linecap:butt;stroke-linejoin:miter;stroke-opacity:1\"/>\n",
       "<path class=\"bond-1 atom-1 atom-2\" d=\"M 252.6,231.4 L 271.3,263.9\" style=\"fill:none;fill-rule:evenodd;stroke:#000000;stroke-width:2.0px;stroke-linecap:butt;stroke-linejoin:miter;stroke-opacity:1\"/>\n",
       "<path class=\"bond-2 atom-1 atom-3\" d=\"M 252.6,231.4 L 233.9,199.0\" style=\"fill:none;fill-rule:evenodd;stroke:#000000;stroke-width:2.0px;stroke-linecap:butt;stroke-linejoin:miter;stroke-opacity:1\"/>\n",
       "<path class=\"bond-3 atom-4 atom-5\" d=\"M 98.0,240.8 L 98.0,203.4\" style=\"fill:none;fill-rule:evenodd;stroke:#000000;stroke-width:2.0px;stroke-linecap:butt;stroke-linejoin:miter;stroke-opacity:1\"/>\n",
       "<path class=\"bond-3 atom-4 atom-5\" d=\"M 103.6,237.6 L 103.6,206.6\" style=\"fill:none;fill-rule:evenodd;stroke:#000000;stroke-width:2.0px;stroke-linecap:butt;stroke-linejoin:miter;stroke-opacity:1\"/>\n",
       "<path class=\"bond-4 atom-5 atom-6\" d=\"M 98.0,203.4 L 130.4,184.7\" style=\"fill:none;fill-rule:evenodd;stroke:#000000;stroke-width:2.0px;stroke-linecap:butt;stroke-linejoin:miter;stroke-opacity:1\"/>\n",
       "<path class=\"bond-5 atom-6 atom-7\" d=\"M 130.4,184.7 L 144.0,192.5\" style=\"fill:none;fill-rule:evenodd;stroke:#000000;stroke-width:2.0px;stroke-linecap:butt;stroke-linejoin:miter;stroke-opacity:1\"/>\n",
       "<path class=\"bond-5 atom-6 atom-7\" d=\"M 144.0,192.5 L 157.6,200.3\" style=\"fill:none;fill-rule:evenodd;stroke:#0000FF;stroke-width:2.0px;stroke-linecap:butt;stroke-linejoin:miter;stroke-opacity:1\"/>\n",
       "<path class=\"bond-5 atom-6 atom-7\" d=\"M 130.4,191.2 L 142.6,198.2\" style=\"fill:none;fill-rule:evenodd;stroke:#000000;stroke-width:2.0px;stroke-linecap:butt;stroke-linejoin:miter;stroke-opacity:1\"/>\n",
       "<path class=\"bond-5 atom-6 atom-7\" d=\"M 142.6,198.2 L 154.8,205.2\" style=\"fill:none;fill-rule:evenodd;stroke:#0000FF;stroke-width:2.0px;stroke-linecap:butt;stroke-linejoin:miter;stroke-opacity:1\"/>\n",
       "<path class=\"bond-6 atom-7 atom-8\" d=\"M 162.8,209.9 L 162.8,225.4\" style=\"fill:none;fill-rule:evenodd;stroke:#0000FF;stroke-width:2.0px;stroke-linecap:butt;stroke-linejoin:miter;stroke-opacity:1\"/>\n",
       "<path class=\"bond-6 atom-7 atom-8\" d=\"M 162.8,225.4 L 162.8,240.8\" style=\"fill:none;fill-rule:evenodd;stroke:#000000;stroke-width:2.0px;stroke-linecap:butt;stroke-linejoin:miter;stroke-opacity:1\"/>\n",
       "<path class=\"bond-7 atom-8 atom-9\" d=\"M 162.8,240.8 L 176.4,248.6\" style=\"fill:none;fill-rule:evenodd;stroke:#000000;stroke-width:2.0px;stroke-linecap:butt;stroke-linejoin:miter;stroke-opacity:1\"/>\n",
       "<path class=\"bond-7 atom-8 atom-9\" d=\"M 176.4,248.6 L 190.0,256.5\" style=\"fill:none;fill-rule:evenodd;stroke:#0000FF;stroke-width:2.0px;stroke-linecap:butt;stroke-linejoin:miter;stroke-opacity:1\"/>\n",
       "<path class=\"bond-8 atom-8 atom-10\" d=\"M 162.8,240.8 L 149.3,248.6\" style=\"fill:none;fill-rule:evenodd;stroke:#000000;stroke-width:2.0px;stroke-linecap:butt;stroke-linejoin:miter;stroke-opacity:1\"/>\n",
       "<path class=\"bond-8 atom-8 atom-10\" d=\"M 149.3,248.6 L 135.7,256.5\" style=\"fill:none;fill-rule:evenodd;stroke:#0000FF;stroke-width:2.0px;stroke-linecap:butt;stroke-linejoin:miter;stroke-opacity:1\"/>\n",
       "<path class=\"bond-8 atom-8 atom-10\" d=\"M 157.2,237.6 L 145.0,244.6\" style=\"fill:none;fill-rule:evenodd;stroke:#000000;stroke-width:2.0px;stroke-linecap:butt;stroke-linejoin:miter;stroke-opacity:1\"/>\n",
       "<path class=\"bond-8 atom-8 atom-10\" d=\"M 145.0,244.6 L 132.9,251.6\" style=\"fill:none;fill-rule:evenodd;stroke:#0000FF;stroke-width:2.0px;stroke-linecap:butt;stroke-linejoin:miter;stroke-opacity:1\"/>\n",
       "<path class=\"bond-9 atom-11 atom-12\" d=\"M 46.6,122.3 L 15.0,102.4\" style=\"fill:none;fill-rule:evenodd;stroke:#000000;stroke-width:2.0px;stroke-linecap:butt;stroke-linejoin:miter;stroke-opacity:1\"/>\n",
       "<path class=\"bond-9 atom-11 atom-12\" d=\"M 46.9,115.9 L 20.7,99.4\" style=\"fill:none;fill-rule:evenodd;stroke:#000000;stroke-width:2.0px;stroke-linecap:butt;stroke-linejoin:miter;stroke-opacity:1\"/>\n",
       "<path class=\"bond-10 atom-12 atom-13\" d=\"M 15.0,102.4 L 16.5,65.0\" style=\"fill:none;fill-rule:evenodd;stroke:#000000;stroke-width:2.0px;stroke-linecap:butt;stroke-linejoin:miter;stroke-opacity:1\"/>\n",
       "<path class=\"bond-11 atom-13 atom-14\" d=\"M 16.5,65.0 L 49.6,47.6\" style=\"fill:none;fill-rule:evenodd;stroke:#000000;stroke-width:2.0px;stroke-linecap:butt;stroke-linejoin:miter;stroke-opacity:1\"/>\n",
       "<path class=\"bond-11 atom-13 atom-14\" d=\"M 21.9,68.4 L 49.3,54.0\" style=\"fill:none;fill-rule:evenodd;stroke:#000000;stroke-width:2.0px;stroke-linecap:butt;stroke-linejoin:miter;stroke-opacity:1\"/>\n",
       "<path class=\"bond-12 atom-14 atom-15\" d=\"M 49.6,47.6 L 81.2,67.5\" style=\"fill:none;fill-rule:evenodd;stroke:#000000;stroke-width:2.0px;stroke-linecap:butt;stroke-linejoin:miter;stroke-opacity:1\"/>\n",
       "<path class=\"bond-13 atom-15 atom-16\" d=\"M 81.2,67.5 L 95.2,60.2\" style=\"fill:none;fill-rule:evenodd;stroke:#000000;stroke-width:2.0px;stroke-linecap:butt;stroke-linejoin:miter;stroke-opacity:1\"/>\n",
       "<path class=\"bond-13 atom-15 atom-16\" d=\"M 95.2,60.2 L 109.1,52.9\" style=\"fill:none;fill-rule:evenodd;stroke:#0000FF;stroke-width:2.0px;stroke-linecap:butt;stroke-linejoin:miter;stroke-opacity:1\"/>\n",
       "<path class=\"bond-14 atom-16 atom-17\" d=\"M 119.6,53.4 L 130.5,60.3\" style=\"fill:none;fill-rule:evenodd;stroke:#0000FF;stroke-width:2.0px;stroke-linecap:butt;stroke-linejoin:miter;stroke-opacity:1\"/>\n",
       "<path class=\"bond-14 atom-16 atom-17\" d=\"M 130.5,60.3 L 141.4,67.1\" style=\"fill:none;fill-rule:evenodd;stroke:#CCCC00;stroke-width:2.0px;stroke-linecap:butt;stroke-linejoin:miter;stroke-opacity:1\"/>\n",
       "<path class=\"bond-15 atom-17 atom-18\" d=\"M 139.3,75.4 L 133.6,84.5\" style=\"fill:none;fill-rule:evenodd;stroke:#CCCC00;stroke-width:2.0px;stroke-linecap:butt;stroke-linejoin:miter;stroke-opacity:1\"/>\n",
       "<path class=\"bond-15 atom-17 atom-18\" d=\"M 133.6,84.5 L 127.8,93.6\" style=\"fill:none;fill-rule:evenodd;stroke:#FF0000;stroke-width:2.0px;stroke-linecap:butt;stroke-linejoin:miter;stroke-opacity:1\"/>\n",
       "<path class=\"bond-15 atom-17 atom-18\" d=\"M 144.1,78.3 L 138.3,87.5\" style=\"fill:none;fill-rule:evenodd;stroke:#CCCC00;stroke-width:2.0px;stroke-linecap:butt;stroke-linejoin:miter;stroke-opacity:1\"/>\n",
       "<path class=\"bond-15 atom-17 atom-18\" d=\"M 138.3,87.5 L 132.6,96.6\" style=\"fill:none;fill-rule:evenodd;stroke:#FF0000;stroke-width:2.0px;stroke-linecap:butt;stroke-linejoin:miter;stroke-opacity:1\"/>\n",
       "<path class=\"bond-16 atom-17 atom-19\" d=\"M 152.5,65.0 L 158.3,55.8\" style=\"fill:none;fill-rule:evenodd;stroke:#CCCC00;stroke-width:2.0px;stroke-linecap:butt;stroke-linejoin:miter;stroke-opacity:1\"/>\n",
       "<path class=\"bond-16 atom-17 atom-19\" d=\"M 158.3,55.8 L 164.1,46.7\" style=\"fill:none;fill-rule:evenodd;stroke:#FF0000;stroke-width:2.0px;stroke-linecap:butt;stroke-linejoin:miter;stroke-opacity:1\"/>\n",
       "<path class=\"bond-16 atom-17 atom-19\" d=\"M 147.7,62.0 L 153.5,52.8\" style=\"fill:none;fill-rule:evenodd;stroke:#CCCC00;stroke-width:2.0px;stroke-linecap:butt;stroke-linejoin:miter;stroke-opacity:1\"/>\n",
       "<path class=\"bond-16 atom-17 atom-19\" d=\"M 153.5,52.8 L 159.3,43.7\" style=\"fill:none;fill-rule:evenodd;stroke:#FF0000;stroke-width:2.0px;stroke-linecap:butt;stroke-linejoin:miter;stroke-opacity:1\"/>\n",
       "<path class=\"bond-17 atom-17 atom-20\" d=\"M 150.6,73.0 L 164.1,81.5\" style=\"fill:none;fill-rule:evenodd;stroke:#CCCC00;stroke-width:2.0px;stroke-linecap:butt;stroke-linejoin:miter;stroke-opacity:1\"/>\n",
       "<path class=\"bond-17 atom-17 atom-20\" d=\"M 164.1,81.5 L 177.6,90.0\" style=\"fill:none;fill-rule:evenodd;stroke:#000000;stroke-width:2.0px;stroke-linecap:butt;stroke-linejoin:miter;stroke-opacity:1\"/>\n",
       "<path class=\"bond-18 atom-20 atom-21\" d=\"M 177.6,90.0 L 176.2,127.4\" style=\"fill:none;fill-rule:evenodd;stroke:#000000;stroke-width:2.0px;stroke-linecap:butt;stroke-linejoin:miter;stroke-opacity:1\"/>\n",
       "<path class=\"bond-18 atom-20 atom-21\" d=\"M 183.1,93.5 L 181.9,124.4\" style=\"fill:none;fill-rule:evenodd;stroke:#000000;stroke-width:2.0px;stroke-linecap:butt;stroke-linejoin:miter;stroke-opacity:1\"/>\n",
       "<path class=\"bond-19 atom-21 atom-22\" d=\"M 176.2,127.4 L 161.8,135.0\" style=\"fill:none;fill-rule:evenodd;stroke:#000000;stroke-width:2.0px;stroke-linecap:butt;stroke-linejoin:miter;stroke-opacity:1\"/>\n",
       "<path class=\"bond-19 atom-21 atom-22\" d=\"M 161.8,135.0 L 147.4,142.5\" style=\"fill:none;fill-rule:evenodd;stroke:#33CCCC;stroke-width:2.0px;stroke-linecap:butt;stroke-linejoin:miter;stroke-opacity:1\"/>\n",
       "<path class=\"bond-20 atom-21 atom-23\" d=\"M 176.2,127.4 L 207.8,147.4\" style=\"fill:none;fill-rule:evenodd;stroke:#000000;stroke-width:2.0px;stroke-linecap:butt;stroke-linejoin:miter;stroke-opacity:1\"/>\n",
       "<path class=\"bond-21 atom-23 atom-24\" d=\"M 207.8,147.4 L 240.9,129.9\" style=\"fill:none;fill-rule:evenodd;stroke:#000000;stroke-width:2.0px;stroke-linecap:butt;stroke-linejoin:miter;stroke-opacity:1\"/>\n",
       "<path class=\"bond-21 atom-23 atom-24\" d=\"M 208.1,140.9 L 235.5,126.5\" style=\"fill:none;fill-rule:evenodd;stroke:#000000;stroke-width:2.0px;stroke-linecap:butt;stroke-linejoin:miter;stroke-opacity:1\"/>\n",
       "<path class=\"bond-22 atom-24 atom-25\" d=\"M 240.9,129.9 L 242.4,92.5\" style=\"fill:none;fill-rule:evenodd;stroke:#000000;stroke-width:2.0px;stroke-linecap:butt;stroke-linejoin:miter;stroke-opacity:1\"/>\n",
       "<path class=\"bond-23 atom-25 atom-26\" d=\"M 242.4,92.5 L 210.8,72.6\" style=\"fill:none;fill-rule:evenodd;stroke:#000000;stroke-width:2.0px;stroke-linecap:butt;stroke-linejoin:miter;stroke-opacity:1\"/>\n",
       "<path class=\"bond-23 atom-25 atom-26\" d=\"M 236.7,95.6 L 210.5,79.1\" style=\"fill:none;fill-rule:evenodd;stroke:#000000;stroke-width:2.0px;stroke-linecap:butt;stroke-linejoin:miter;stroke-opacity:1\"/>\n",
       "<path class=\"bond-24 atom-26 atom-27\" d=\"M 210.8,72.6 L 211.4,57.2\" style=\"fill:none;fill-rule:evenodd;stroke:#000000;stroke-width:2.0px;stroke-linecap:butt;stroke-linejoin:miter;stroke-opacity:1\"/>\n",
       "<path class=\"bond-24 atom-26 atom-27\" d=\"M 211.4,57.2 L 212.0,41.7\" style=\"fill:none;fill-rule:evenodd;stroke:#33CCCC;stroke-width:2.0px;stroke-linecap:butt;stroke-linejoin:miter;stroke-opacity:1\"/>\n",
       "<path class=\"bond-25 atom-15 atom-28\" d=\"M 81.2,67.5 L 79.8,104.9\" style=\"fill:none;fill-rule:evenodd;stroke:#000000;stroke-width:2.0px;stroke-linecap:butt;stroke-linejoin:miter;stroke-opacity:1\"/>\n",
       "<path class=\"bond-25 atom-15 atom-28\" d=\"M 75.5,70.5 L 74.3,101.4\" style=\"fill:none;fill-rule:evenodd;stroke:#000000;stroke-width:2.0px;stroke-linecap:butt;stroke-linejoin:miter;stroke-opacity:1\"/>\n",
       "<path class=\"bond-26 atom-28 atom-29\" d=\"M 79.8,104.9 L 93.4,113.5\" style=\"fill:none;fill-rule:evenodd;stroke:#000000;stroke-width:2.0px;stroke-linecap:butt;stroke-linejoin:miter;stroke-opacity:1\"/>\n",
       "<path class=\"bond-26 atom-28 atom-29\" d=\"M 93.4,113.5 L 107.0,122.1\" style=\"fill:none;fill-rule:evenodd;stroke:#33CCCC;stroke-width:2.0px;stroke-linecap:butt;stroke-linejoin:miter;stroke-opacity:1\"/>\n",
       "<path class=\"bond-27 atom-10 atom-4\" d=\"M 125.2,256.5 L 111.6,248.6\" style=\"fill:none;fill-rule:evenodd;stroke:#0000FF;stroke-width:2.0px;stroke-linecap:butt;stroke-linejoin:miter;stroke-opacity:1\"/>\n",
       "<path class=\"bond-27 atom-10 atom-4\" d=\"M 111.6,248.6 L 98.0,240.8\" style=\"fill:none;fill-rule:evenodd;stroke:#000000;stroke-width:2.0px;stroke-linecap:butt;stroke-linejoin:miter;stroke-opacity:1\"/>\n",
       "<path class=\"bond-28 atom-28 atom-11\" d=\"M 79.8,104.9 L 46.6,122.3\" style=\"fill:none;fill-rule:evenodd;stroke:#000000;stroke-width:2.0px;stroke-linecap:butt;stroke-linejoin:miter;stroke-opacity:1\"/>\n",
       "<path class=\"bond-29 atom-26 atom-20\" d=\"M 210.8,72.6 L 177.6,90.0\" style=\"fill:none;fill-rule:evenodd;stroke:#000000;stroke-width:2.0px;stroke-linecap:butt;stroke-linejoin:miter;stroke-opacity:1\"/>\n",
       "<path class=\"bond-30 atom-1 atom-30\" d=\"M 252.6,231.4 L 238.3,239.7\" style=\"fill:none;fill-rule:evenodd;stroke:#000000;stroke-width:2.0px;stroke-linecap:butt;stroke-linejoin:miter;stroke-opacity:1\"/>\n",
       "<path class=\"bond-30 atom-1 atom-30\" d=\"M 238.3,239.7 L 223.9,248.0\" style=\"fill:none;fill-rule:evenodd;stroke:#191919;stroke-width:2.0px;stroke-linecap:butt;stroke-linejoin:miter;stroke-opacity:1\"/>\n",
       "<path class=\"bond-31 atom-31 atom-11\" d=\"M 45.4,153.1 L 46.0,137.7\" style=\"fill:none;fill-rule:evenodd;stroke:#191919;stroke-width:2.0px;stroke-linecap:butt;stroke-linejoin:miter;stroke-opacity:1\"/>\n",
       "<path class=\"bond-31 atom-31 atom-11\" d=\"M 46.0,137.7 L 46.6,122.3\" style=\"fill:none;fill-rule:evenodd;stroke:#000000;stroke-width:2.0px;stroke-linecap:butt;stroke-linejoin:miter;stroke-opacity:1\"/>\n",
       "<path class=\"bond-32 atom-32 atom-4\" d=\"M 69.4,257.3 L 83.7,249.1\" style=\"fill:none;fill-rule:evenodd;stroke:#191919;stroke-width:2.0px;stroke-linecap:butt;stroke-linejoin:miter;stroke-opacity:1\"/>\n",
       "<path class=\"bond-32 atom-32 atom-4\" d=\"M 83.7,249.1 L 98.0,240.8\" style=\"fill:none;fill-rule:evenodd;stroke:#000000;stroke-width:2.0px;stroke-linecap:butt;stroke-linejoin:miter;stroke-opacity:1\"/>\n",
       "<path d=\"M 98.0,205.3 L 98.0,203.4 L 99.6,202.4\" style=\"fill:none;stroke:#000000;stroke-width:2.0px;stroke-linecap:butt;stroke-linejoin:miter;stroke-opacity:1;\"/>\n",
       "<path d=\"M 128.8,185.6 L 130.4,184.7 L 131.1,185.1\" style=\"fill:none;stroke:#000000;stroke-width:2.0px;stroke-linecap:butt;stroke-linejoin:miter;stroke-opacity:1;\"/>\n",
       "<path d=\"M 16.6,103.4 L 15.0,102.4 L 15.1,100.5\" style=\"fill:none;stroke:#000000;stroke-width:2.0px;stroke-linecap:butt;stroke-linejoin:miter;stroke-opacity:1;\"/>\n",
       "<path d=\"M 16.4,66.8 L 16.5,65.0 L 18.1,64.1\" style=\"fill:none;stroke:#000000;stroke-width:2.0px;stroke-linecap:butt;stroke-linejoin:miter;stroke-opacity:1;\"/>\n",
       "<path d=\"M 47.9,48.4 L 49.6,47.6 L 51.2,48.5\" style=\"fill:none;stroke:#000000;stroke-width:2.0px;stroke-linecap:butt;stroke-linejoin:miter;stroke-opacity:1;\"/>\n",
       "<path d=\"M 206.2,146.4 L 207.8,147.4 L 209.5,146.5\" style=\"fill:none;stroke:#000000;stroke-width:2.0px;stroke-linecap:butt;stroke-linejoin:miter;stroke-opacity:1;\"/>\n",
       "<path d=\"M 239.3,130.8 L 240.9,129.9 L 241.0,128.1\" style=\"fill:none;stroke:#000000;stroke-width:2.0px;stroke-linecap:butt;stroke-linejoin:miter;stroke-opacity:1;\"/>\n",
       "<path d=\"M 242.3,94.4 L 242.4,92.5 L 240.8,91.5\" style=\"fill:none;stroke:#000000;stroke-width:2.0px;stroke-linecap:butt;stroke-linejoin:miter;stroke-opacity:1;\"/>\n",
       "<path class=\"atom-7\" d=\"M 160.5 198.1 L 164.0 203.7 Q 164.3 204.2, 164.9 205.3 Q 165.4 206.3, 165.4 206.3 L 165.4 198.1 L 166.9 198.1 L 166.9 208.7 L 165.4 208.7 L 161.7 202.5 Q 161.2 201.8, 160.8 201.0 Q 160.3 200.2, 160.2 199.9 L 160.2 208.7 L 158.8 208.7 L 158.8 198.1 L 160.5 198.1 \" fill=\"#0000FF\"/>\n",
       "<path class=\"atom-9\" d=\"M 192.9 254.2 L 196.4 259.8 Q 196.7 260.4, 197.3 261.4 Q 197.8 262.4, 197.9 262.4 L 197.9 254.2 L 199.3 254.2 L 199.3 264.8 L 197.8 264.8 L 194.1 258.7 Q 193.6 258.0, 193.2 257.1 Q 192.7 256.3, 192.6 256.1 L 192.6 264.8 L 191.2 264.8 L 191.2 254.2 L 192.9 254.2 \" fill=\"#0000FF\"/>\n",
       "<path class=\"atom-9\" d=\"M 201.3 254.2 L 202.7 254.2 L 202.7 258.7 L 208.1 258.7 L 208.1 254.2 L 209.6 254.2 L 209.6 264.8 L 208.1 264.8 L 208.1 259.9 L 202.7 259.9 L 202.7 264.8 L 201.3 264.8 L 201.3 254.2 \" fill=\"#0000FF\"/>\n",
       "<path class=\"atom-9\" d=\"M 211.7 264.4 Q 211.9 263.8, 212.5 263.4 Q 213.1 263.0, 214.0 263.0 Q 215.0 263.0, 215.6 263.6 Q 216.2 264.2, 216.2 265.2 Q 216.2 266.2, 215.5 267.2 Q 214.7 268.2, 213.1 269.3 L 216.3 269.3 L 216.3 270.1 L 211.6 270.1 L 211.6 269.4 Q 212.9 268.5, 213.7 267.8 Q 214.5 267.1, 214.9 266.5 Q 215.2 265.9, 215.2 265.2 Q 215.2 264.6, 214.9 264.2 Q 214.6 263.8, 214.0 263.8 Q 213.4 263.8, 213.0 264.1 Q 212.7 264.3, 212.4 264.8 L 211.7 264.4 \" fill=\"#0000FF\"/>\n",
       "<path class=\"atom-10\" d=\"M 128.1 254.2 L 131.6 259.8 Q 131.9 260.4, 132.5 261.4 Q 133.0 262.4, 133.0 262.4 L 133.0 254.2 L 134.4 254.2 L 134.4 264.8 L 133.0 264.8 L 129.3 258.7 Q 128.8 258.0, 128.4 257.1 Q 127.9 256.3, 127.8 256.1 L 127.8 264.8 L 126.4 264.8 L 126.4 254.2 L 128.1 254.2 \" fill=\"#0000FF\"/>\n",
       "<path class=\"atom-16\" d=\"M 112.0 44.8 L 115.5 50.4 Q 115.8 51.0, 116.4 52.0 Q 116.9 53.0, 117.0 53.0 L 117.0 44.8 L 118.4 44.8 L 118.4 55.4 L 116.9 55.4 L 113.2 49.2 Q 112.7 48.5, 112.3 47.7 Q 111.8 46.9, 111.7 46.6 L 111.7 55.4 L 110.3 55.4 L 110.3 44.8 L 112.0 44.8 \" fill=\"#0000FF\"/>\n",
       "<path class=\"atom-16\" d=\"M 110.2 33.1 L 111.6 33.1 L 111.6 37.6 L 117.0 37.6 L 117.0 33.1 L 118.5 33.1 L 118.5 43.7 L 117.0 43.7 L 117.0 38.8 L 111.6 38.8 L 111.6 43.7 L 110.2 43.7 L 110.2 33.1 \" fill=\"#0000FF\"/>\n",
       "<path class=\"atom-17\" d=\"M 143.0 73.7 Q 143.1 73.7, 143.6 73.9 Q 144.1 74.2, 144.6 74.3 Q 145.2 74.4, 145.7 74.4 Q 146.7 74.4, 147.3 73.9 Q 147.9 73.4, 147.9 72.6 Q 147.9 72.0, 147.6 71.6 Q 147.3 71.3, 146.9 71.1 Q 146.4 70.9, 145.7 70.7 Q 144.7 70.4, 144.2 70.1 Q 143.6 69.8, 143.2 69.3 Q 142.8 68.7, 142.8 67.7 Q 142.8 66.4, 143.7 65.6 Q 144.6 64.8, 146.4 64.8 Q 147.7 64.8, 149.0 65.3 L 148.7 66.5 Q 147.4 66.0, 146.5 66.0 Q 145.4 66.0, 144.9 66.4 Q 144.3 66.8, 144.3 67.6 Q 144.3 68.1, 144.6 68.5 Q 144.9 68.8, 145.3 69.0 Q 145.7 69.2, 146.5 69.4 Q 147.4 69.7, 148.0 70.0 Q 148.6 70.3, 149.0 70.9 Q 149.4 71.5, 149.4 72.6 Q 149.4 74.0, 148.4 74.8 Q 147.4 75.6, 145.8 75.6 Q 144.9 75.6, 144.1 75.4 Q 143.4 75.2, 142.6 74.9 L 143.0 73.7 \" fill=\"#CCCC00\"/>\n",
       "<path class=\"atom-18\" d=\"M 121.2 101.7 Q 121.2 99.2, 122.4 97.8 Q 123.7 96.3, 126.0 96.3 Q 128.4 96.3, 129.6 97.8 Q 130.9 99.2, 130.9 101.7 Q 130.9 104.3, 129.6 105.8 Q 128.3 107.2, 126.0 107.2 Q 123.7 107.2, 122.4 105.8 Q 121.2 104.3, 121.2 101.7 M 126.0 106.0 Q 127.6 106.0, 128.5 104.9 Q 129.4 103.9, 129.4 101.7 Q 129.4 99.6, 128.5 98.6 Q 127.6 97.5, 126.0 97.5 Q 124.4 97.5, 123.5 98.6 Q 122.7 99.6, 122.7 101.7 Q 122.7 103.9, 123.5 104.9 Q 124.4 106.0, 126.0 106.0 \" fill=\"#FF0000\"/>\n",
       "<path class=\"atom-19\" d=\"M 161.1 38.4 Q 161.1 35.9, 162.3 34.5 Q 163.6 33.0, 166.0 33.0 Q 168.3 33.0, 169.6 34.5 Q 170.8 35.9, 170.8 38.4 Q 170.8 41.0, 169.5 42.5 Q 168.3 43.9, 166.0 43.9 Q 163.6 43.9, 162.3 42.5 Q 161.1 41.0, 161.1 38.4 M 166.0 42.7 Q 167.6 42.7, 168.4 41.6 Q 169.3 40.6, 169.3 38.4 Q 169.3 36.3, 168.4 35.3 Q 167.6 34.2, 166.0 34.2 Q 164.3 34.2, 163.5 35.3 Q 162.6 36.3, 162.6 38.4 Q 162.6 40.6, 163.5 41.6 Q 164.3 42.7, 166.0 42.7 \" fill=\"#FF0000\"/>\n",
       "<path class=\"atom-22\" d=\"M 139.9 139.5 L 146.2 139.5 L 146.2 140.7 L 141.3 140.7 L 141.3 144.0 L 145.7 144.0 L 145.7 145.2 L 141.3 145.2 L 141.3 150.1 L 139.9 150.1 L 139.9 139.5 \" fill=\"#33CCCC\"/>\n",
       "<path class=\"atom-27\" d=\"M 209.1 29.9 L 215.4 29.9 L 215.4 31.1 L 210.5 31.1 L 210.5 34.3 L 214.8 34.3 L 214.8 35.6 L 210.5 35.6 L 210.5 40.5 L 209.1 40.5 L 209.1 29.9 \" fill=\"#33CCCC\"/>\n",
       "<path class=\"atom-29\" d=\"M 108.3 119.6 L 114.6 119.6 L 114.6 120.8 L 109.7 120.8 L 109.7 124.0 L 114.0 124.0 L 114.0 125.2 L 109.7 125.2 L 109.7 130.2 L 108.3 130.2 L 108.3 119.6 \" fill=\"#33CCCC\"/>\n",
       "<path class=\"atom-30\" d=\"M 211.8 247.4 Q 212.0 246.8, 212.7 246.4 Q 213.3 246.0, 214.1 246.0 Q 215.2 246.0, 215.8 246.6 Q 216.4 247.2, 216.4 248.2 Q 216.4 249.2, 215.6 250.2 Q 214.8 251.2, 213.2 252.3 L 216.5 252.3 L 216.5 253.1 L 211.8 253.1 L 211.8 252.5 Q 213.1 251.5, 213.8 250.8 Q 214.6 250.1, 215.0 249.5 Q 215.4 248.9, 215.4 248.3 Q 215.4 247.6, 215.0 247.2 Q 214.7 246.8, 214.1 246.8 Q 213.6 246.8, 213.2 247.1 Q 212.8 247.3, 212.5 247.8 L 211.8 247.4 \" fill=\"#191919\"/>\n",
       "<path class=\"atom-30\" d=\"M 218.2 249.0 L 219.7 247.4 L 217.7 247.0 L 218.0 245.9 L 219.9 246.9 L 219.6 244.8 L 220.7 244.8 L 220.4 246.8 L 222.4 245.9 L 222.7 247.0 L 220.6 247.4 L 222.1 249.0 L 221.2 249.6 L 220.2 247.6 L 219.1 249.6 L 218.2 249.0 \" fill=\"#191919\"/>\n",
       "<path class=\"atom-31\" d=\"M 37.9 161.9 L 39.4 161.9 L 39.4 156.7 L 37.7 157.2 L 37.5 156.6 L 39.6 155.7 L 40.3 155.8 L 40.3 161.9 L 41.7 161.9 L 41.7 162.7 L 37.9 162.7 L 37.9 161.9 \" fill=\"#191919\"/>\n",
       "<path class=\"atom-31\" d=\"M 43.2 158.5 L 44.7 157.0 L 42.7 156.5 L 43.0 155.5 L 44.9 156.4 L 44.6 154.4 L 45.7 154.3 L 45.4 156.4 L 47.4 155.5 L 47.7 156.5 L 45.6 156.9 L 47.1 158.5 L 46.2 159.2 L 45.1 157.2 L 44.1 159.2 L 43.2 158.5 \" fill=\"#191919\"/>\n",
       "<path class=\"atom-32\" d=\"M 60.6 258.8 Q 61.3 259.0, 61.6 259.4 Q 61.9 259.9, 61.9 260.6 Q 61.9 261.1, 61.6 261.6 Q 61.3 262.1, 60.8 262.3 Q 60.2 262.6, 59.5 262.6 Q 58.8 262.6, 58.2 262.3 Q 57.7 262.0, 57.2 261.5 L 57.8 260.9 Q 58.2 261.4, 58.6 261.6 Q 58.9 261.8, 59.5 261.8 Q 60.2 261.8, 60.5 261.4 Q 60.9 261.1, 60.9 260.5 Q 60.9 259.8, 60.5 259.5 Q 60.1 259.2, 59.3 259.2 L 58.8 259.2 L 58.8 258.5 L 59.2 258.5 Q 60.0 258.5, 60.4 258.1 Q 60.8 257.8, 60.8 257.2 Q 60.8 256.7, 60.4 256.5 Q 60.1 256.2, 59.5 256.2 Q 59.0 256.2, 58.6 256.4 Q 58.2 256.6, 58.0 257.1 L 57.3 256.8 Q 57.5 256.2, 58.1 255.8 Q 58.7 255.4, 59.5 255.4 Q 60.6 255.4, 61.2 255.9 Q 61.8 256.4, 61.8 257.2 Q 61.8 257.8, 61.5 258.2 Q 61.2 258.6, 60.6 258.8 \" fill=\"#191919\"/>\n",
       "<path class=\"atom-32\" d=\"M 63.6 258.3 L 65.2 256.7 L 63.1 256.3 L 63.4 255.3 L 65.3 256.2 L 65.1 254.1 L 66.2 254.1 L 65.9 256.2 L 67.8 255.3 L 68.1 256.3 L 66.0 256.7 L 67.5 258.3 L 66.6 259.0 L 65.6 257.0 L 64.5 259.0 L 63.6 258.3 \" fill=\"#191919\"/>\n",
       "</svg>"
      ],
      "text/plain": [
       "<IPython.core.display.SVG object>"
      ]
     },
     "execution_count": 25,
     "metadata": {},
     "output_type": "execute_result"
    }
   ],
   "source": [
    "# Use the first core structure to compute side chain\n",
    "side_chains = compute_side_chains(core=core_structures[0], mol=smiles)\n",
    "print(side_chains)\n",
    "dm.to_image(side_chains)"
   ]
  },
  {
   "cell_type": "code",
   "execution_count": 26,
   "metadata": {},
   "outputs": [
    {
     "name": "stderr",
     "output_type": "stream",
     "text": [
      "  0%|          | 0/1 [00:00<?, ?it/s]/home/affiah/anaconda3/envs/safe/lib/python3.9/site-packages/transformers/generation/configuration_utils.py:430: UserWarning: `num_beams` is set to 1. However, `early_stopping` is set to `True` -- this flag is only used in beam-based generation modes. You should set `num_beams>1` or unset `early_stopping`.\n",
      "  warnings.warn(\n",
      "\u001b[32m2024-01-30 13:32:22.045\u001b[0m | \u001b[1mINFO    \u001b[0m | \u001b[36msafe.sample\u001b[0m:\u001b[36m_fragment_linking\u001b[0m:\u001b[36m397\u001b[0m - \u001b[1mAfter sanitization, 0 / 12 (0.00 %)  generated molecules are valid !\u001b[0m\n"
     ]
    },
    {
     "data": {
      "text/plain": [
       "[]"
      ]
     },
     "execution_count": 26,
     "metadata": {},
     "output_type": "execute_result"
    }
   ],
   "source": [
    "# generate smiles\n",
    "generated_smiles = designer.scaffold_morphing(\n",
    "    side_chains=side_chains,\n",
    "    n_samples_per_trial=12,\n",
    "    n_trials=1,\n",
    "    sanitize=True,\n",
    "    do_not_fragment_further=False,\n",
    "    random_seed=100,\n",
    ")\n",
    "\n",
    "generated_smiles"
   ]
  },
  {
   "cell_type": "code",
   "execution_count": 27,
   "metadata": {},
   "outputs": [
    {
     "ename": "ZeroDivisionError",
     "evalue": "integer division or modulo by zero",
     "output_type": "error",
     "traceback": [
      "\u001b[0;31m---------------------------------------------------------------------------\u001b[0m",
      "\u001b[0;31mZeroDivisionError\u001b[0m                         Traceback (most recent call last)",
      "Cell \u001b[0;32mIn[27], line 1\u001b[0m\n\u001b[0;32m----> 1\u001b[0m \u001b[43mdm\u001b[49m\u001b[38;5;241;43m.\u001b[39;49m\u001b[43mto_image\u001b[49m\u001b[43m(\u001b[49m\u001b[43mgenerated_smiles\u001b[49m\u001b[43m[\u001b[49m\u001b[43m:\u001b[49m\u001b[38;5;241;43m12\u001b[39;49m\u001b[43m]\u001b[49m\u001b[43m,\u001b[49m\u001b[43m \u001b[49m\u001b[43mmol_size\u001b[49m\u001b[38;5;241;43m=\u001b[39;49m\u001b[43m(\u001b[49m\u001b[38;5;241;43m350\u001b[39;49m\u001b[43m,\u001b[49m\u001b[43m \u001b[49m\u001b[38;5;241;43m200\u001b[39;49m\u001b[43m)\u001b[49m\u001b[43m)\u001b[49m\n",
      "File \u001b[0;32m~/anaconda3/envs/safe/lib/python3.9/site-packages/datamol/viz/_viz.py:123\u001b[0m, in \u001b[0;36mto_image\u001b[0;34m(mols, legends, n_cols, use_svg, mol_size, highlight_atom, highlight_bond, outfile, max_mols, copy, indices, bond_indices, bond_line_width, stereo_annotations, legend_fontsize, kekulize, align, **kwargs)\u001b[0m\n\u001b[1;32m    120\u001b[0m     \u001b[38;5;28;01melse\u001b[39;00m:\n\u001b[1;32m    121\u001b[0m         _kwargs[k] \u001b[38;5;241m=\u001b[39m v\n\u001b[0;32m--> 123\u001b[0m image \u001b[38;5;241m=\u001b[39m \u001b[43mDraw\u001b[49m\u001b[38;5;241;43m.\u001b[39;49m\u001b[43mMolsToGridImage\u001b[49m\u001b[43m(\u001b[49m\n\u001b[1;32m    124\u001b[0m \u001b[43m    \u001b[49m\u001b[43mmols\u001b[49m\u001b[43m,\u001b[49m\n\u001b[1;32m    125\u001b[0m \u001b[43m    \u001b[49m\u001b[43mlegends\u001b[49m\u001b[38;5;241;43m=\u001b[39;49m\u001b[43mlegends\u001b[49m\u001b[43m,\u001b[49m\n\u001b[1;32m    126\u001b[0m \u001b[43m    \u001b[49m\u001b[43mmolsPerRow\u001b[49m\u001b[38;5;241;43m=\u001b[39;49m\u001b[43mn_cols\u001b[49m\u001b[43m,\u001b[49m\n\u001b[1;32m    127\u001b[0m \u001b[43m    \u001b[49m\u001b[43museSVG\u001b[49m\u001b[38;5;241;43m=\u001b[39;49m\u001b[43muse_svg\u001b[49m\u001b[43m,\u001b[49m\n\u001b[1;32m    128\u001b[0m \u001b[43m    \u001b[49m\u001b[43msubImgSize\u001b[49m\u001b[38;5;241;43m=\u001b[39;49m\u001b[43mmol_size\u001b[49m\u001b[43m,\u001b[49m\n\u001b[1;32m    129\u001b[0m \u001b[43m    \u001b[49m\u001b[43mhighlightAtomLists\u001b[49m\u001b[38;5;241;43m=\u001b[39;49m\u001b[43m_highlight_atom\u001b[49m\u001b[43m,\u001b[49m\n\u001b[1;32m    130\u001b[0m \u001b[43m    \u001b[49m\u001b[43mhighlightBondLists\u001b[49m\u001b[38;5;241;43m=\u001b[39;49m\u001b[43m_highlight_bond\u001b[49m\u001b[43m,\u001b[49m\n\u001b[1;32m    131\u001b[0m \u001b[43m    \u001b[49m\u001b[43mdrawOptions\u001b[49m\u001b[38;5;241;43m=\u001b[39;49m\u001b[43mdraw_options\u001b[49m\u001b[43m,\u001b[49m\n\u001b[1;32m    132\u001b[0m \u001b[43m    \u001b[49m\u001b[38;5;241;43m*\u001b[39;49m\u001b[38;5;241;43m*\u001b[39;49m\u001b[43m_kwargs\u001b[49m\u001b[43m,\u001b[49m\n\u001b[1;32m    133\u001b[0m \u001b[43m\u001b[49m\u001b[43m)\u001b[49m\n\u001b[1;32m    135\u001b[0m \u001b[38;5;28;01mif\u001b[39;00m outfile \u001b[38;5;129;01mis\u001b[39;00m \u001b[38;5;129;01mnot\u001b[39;00m \u001b[38;5;28;01mNone\u001b[39;00m:\n\u001b[1;32m    136\u001b[0m     image_to_file(image, outfile, as_svg\u001b[38;5;241m=\u001b[39muse_svg)\n",
      "File \u001b[0;32m~/anaconda3/envs/safe/lib/python3.9/site-packages/rdkit/Chem/Draw/IPythonConsole.py:271\u001b[0m, in \u001b[0;36mShowMols\u001b[0;34m(mols, maxMols, **kwargs)\u001b[0m\n\u001b[1;32m    268\u001b[0m \u001b[38;5;28;01mif\u001b[39;00m \u001b[38;5;124m\"\u001b[39m\u001b[38;5;124mdrawOptions\u001b[39m\u001b[38;5;124m\"\u001b[39m \u001b[38;5;129;01mnot\u001b[39;00m \u001b[38;5;129;01min\u001b[39;00m kwargs:\n\u001b[1;32m    269\u001b[0m   kwargs[\u001b[38;5;124m\"\u001b[39m\u001b[38;5;124mdrawOptions\u001b[39m\u001b[38;5;124m\"\u001b[39m] \u001b[38;5;241m=\u001b[39m drawOptions\n\u001b[0;32m--> 271\u001b[0m res \u001b[38;5;241m=\u001b[39m \u001b[43mfn\u001b[49m\u001b[43m(\u001b[49m\u001b[43mmols\u001b[49m\u001b[43m,\u001b[49m\u001b[43m \u001b[49m\u001b[38;5;241;43m*\u001b[39;49m\u001b[38;5;241;43m*\u001b[39;49m\u001b[43mkwargs\u001b[49m\u001b[43m)\u001b[49m\n\u001b[1;32m    272\u001b[0m \u001b[38;5;28;01mif\u001b[39;00m InteractiveRenderer\u001b[38;5;241m.\u001b[39misEnabled():\n\u001b[1;32m    273\u001b[0m   \u001b[38;5;28;01mreturn\u001b[39;00m HTML(res)\n",
      "File \u001b[0;32m~/anaconda3/envs/safe/lib/python3.9/site-packages/rdkit/Chem/Draw/__init__.py:817\u001b[0m, in \u001b[0;36mMolsToGridImage\u001b[0;34m(mols, molsPerRow, subImgSize, legends, highlightAtomLists, highlightBondLists, useSVG, returnPNG, **kwargs)\u001b[0m\n\u001b[1;32m    814\u001b[0m   highlightBondLists \u001b[38;5;241m=\u001b[39m highlightBondLists[:\u001b[38;5;28mlen\u001b[39m(mols)]\n\u001b[1;32m    816\u001b[0m \u001b[38;5;28;01mif\u001b[39;00m useSVG:\n\u001b[0;32m--> 817\u001b[0m   \u001b[38;5;28;01mreturn\u001b[39;00m \u001b[43m_MolsToGridSVG\u001b[49m\u001b[43m(\u001b[49m\u001b[43mmols\u001b[49m\u001b[43m,\u001b[49m\u001b[43m \u001b[49m\u001b[43mmolsPerRow\u001b[49m\u001b[38;5;241;43m=\u001b[39;49m\u001b[43mmolsPerRow\u001b[49m\u001b[43m,\u001b[49m\u001b[43m \u001b[49m\u001b[43msubImgSize\u001b[49m\u001b[38;5;241;43m=\u001b[39;49m\u001b[43msubImgSize\u001b[49m\u001b[43m,\u001b[49m\u001b[43m \u001b[49m\u001b[43mlegends\u001b[49m\u001b[38;5;241;43m=\u001b[39;49m\u001b[43mlegends\u001b[49m\u001b[43m,\u001b[49m\n\u001b[1;32m    818\u001b[0m \u001b[43m                        \u001b[49m\u001b[43mhighlightAtomLists\u001b[49m\u001b[38;5;241;43m=\u001b[39;49m\u001b[43mhighlightAtomLists\u001b[49m\u001b[43m,\u001b[49m\n\u001b[1;32m    819\u001b[0m \u001b[43m                        \u001b[49m\u001b[43mhighlightBondLists\u001b[49m\u001b[38;5;241;43m=\u001b[39;49m\u001b[43mhighlightBondLists\u001b[49m\u001b[43m,\u001b[49m\u001b[43m \u001b[49m\u001b[38;5;241;43m*\u001b[39;49m\u001b[38;5;241;43m*\u001b[39;49m\u001b[43mkwargs\u001b[49m\u001b[43m)\u001b[49m\n\u001b[1;32m    820\u001b[0m \u001b[38;5;28;01melse\u001b[39;00m:\n\u001b[1;32m    821\u001b[0m   \u001b[38;5;28;01mreturn\u001b[39;00m _MolsToGridImage(mols, molsPerRow\u001b[38;5;241m=\u001b[39mmolsPerRow, subImgSize\u001b[38;5;241m=\u001b[39msubImgSize, legends\u001b[38;5;241m=\u001b[39mlegends,\n\u001b[1;32m    822\u001b[0m                           highlightAtomLists\u001b[38;5;241m=\u001b[39mhighlightAtomLists,\n\u001b[1;32m    823\u001b[0m                           highlightBondLists\u001b[38;5;241m=\u001b[39mhighlightBondLists, returnPNG\u001b[38;5;241m=\u001b[39mreturnPNG, \u001b[38;5;241m*\u001b[39m\u001b[38;5;241m*\u001b[39mkwargs)\n",
      "File \u001b[0;32m~/anaconda3/envs/safe/lib/python3.9/site-packages/rdkit/Chem/Draw/__init__.py:782\u001b[0m, in \u001b[0;36m_MolsToGridSVG\u001b[0;34m(mols, molsPerRow, subImgSize, legends, highlightAtomLists, highlightBondLists, drawOptions, **kwargs)\u001b[0m\n\u001b[1;32m    779\u001b[0m \u001b[38;5;28;01mif\u001b[39;00m legends \u001b[38;5;129;01mis\u001b[39;00m \u001b[38;5;28;01mNone\u001b[39;00m:\n\u001b[1;32m    780\u001b[0m   legends \u001b[38;5;241m=\u001b[39m [\u001b[38;5;124m'\u001b[39m\u001b[38;5;124m'\u001b[39m] \u001b[38;5;241m*\u001b[39m \u001b[38;5;28mlen\u001b[39m(mols)\n\u001b[0;32m--> 782\u001b[0m nRows \u001b[38;5;241m=\u001b[39m \u001b[38;5;28;43mlen\u001b[39;49m\u001b[43m(\u001b[49m\u001b[43mmols\u001b[49m\u001b[43m)\u001b[49m\u001b[43m \u001b[49m\u001b[38;5;241;43m/\u001b[39;49m\u001b[38;5;241;43m/\u001b[39;49m\u001b[43m \u001b[49m\u001b[43mmolsPerRow\u001b[49m\n\u001b[1;32m    783\u001b[0m \u001b[38;5;28;01mif\u001b[39;00m \u001b[38;5;28mlen\u001b[39m(mols) \u001b[38;5;241m%\u001b[39m molsPerRow:\n\u001b[1;32m    784\u001b[0m   nRows \u001b[38;5;241m+\u001b[39m\u001b[38;5;241m=\u001b[39m \u001b[38;5;241m1\u001b[39m\n",
      "\u001b[0;31mZeroDivisionError\u001b[0m: integer division or modulo by zero"
     ]
    }
   ],
   "source": [
    "dm.to_image(generated_smiles[:12], mol_size=(350, 200))"
   ]
  },
  {
   "cell_type": "code",
   "execution_count": null,
   "metadata": {},
   "outputs": [],
   "source": []
  }
 ],
 "metadata": {
  "kernelspec": {
   "display_name": "safe",
   "language": "python",
   "name": "python3"
  },
  "language_info": {
   "codemirror_mode": {
    "name": "ipython",
    "version": 3
   },
   "file_extension": ".py",
   "mimetype": "text/x-python",
   "name": "python",
   "nbconvert_exporter": "python",
   "pygments_lexer": "ipython3",
   "version": "3.9.18"
  }
 },
 "nbformat": 4,
 "nbformat_minor": 2
}
