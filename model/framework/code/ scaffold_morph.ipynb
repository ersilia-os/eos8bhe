{
 "cells": [
  {
   "cell_type": "code",
   "execution_count": 1,
   "metadata": {},
   "outputs": [
    {
     "name": "stderr",
     "output_type": "stream",
     "text": [
      "/home/affiah/anaconda3/envs/safe/lib/python3.9/site-packages/tqdm/auto.py:21: TqdmWarning: IProgress not found. Please update jupyter and ipywidgets. See https://ipywidgets.readthedocs.io/en/stable/user_install.html\n",
      "  from .autonotebook import tqdm as notebook_tqdm\n"
     ]
    },
    {
     "data": {
      "text/plain": [
       "SAFEDoubleHeadsModel(\n",
       "  (transformer): GPT2Model(\n",
       "    (wte): Embedding(1880, 768)\n",
       "    (wpe): Embedding(1024, 768)\n",
       "    (drop): Dropout(p=0.1, inplace=False)\n",
       "    (h): ModuleList(\n",
       "      (0-11): 12 x GPT2Block(\n",
       "        (ln_1): LayerNorm((768,), eps=1e-05, elementwise_affine=True)\n",
       "        (attn): GPT2Attention(\n",
       "          (c_attn): Conv1D()\n",
       "          (c_proj): Conv1D()\n",
       "          (attn_dropout): Dropout(p=0.1, inplace=False)\n",
       "          (resid_dropout): Dropout(p=0.1, inplace=False)\n",
       "        )\n",
       "        (ln_2): LayerNorm((768,), eps=1e-05, elementwise_affine=True)\n",
       "        (mlp): GPT2MLP(\n",
       "          (c_fc): Conv1D()\n",
       "          (c_proj): Conv1D()\n",
       "          (act): NewGELUActivation()\n",
       "          (dropout): Dropout(p=0.1, inplace=False)\n",
       "        )\n",
       "      )\n",
       "    )\n",
       "    (ln_f): LayerNorm((768,), eps=1e-05, elementwise_affine=True)\n",
       "  )\n",
       "  (lm_head): Linear(in_features=768, out_features=1880, bias=False)\n",
       "  (multiple_choice_head): PropertyHead(\n",
       "    (summary): Linear(in_features=768, out_features=64, bias=True)\n",
       "    (activation): ReLU()\n",
       "    (out): Linear(in_features=64, out_features=1, bias=True)\n",
       "  )\n",
       ")"
      ]
     },
     "execution_count": 1,
     "metadata": {},
     "output_type": "execute_result"
    }
   ],
   "source": [
    "# import libraries\n",
    "import os\n",
    "os.environ[\"TOKENIZERS_PARALLELISM\"] = \"false\"\n",
    "import safe as sf\n",
    "import datamol as dm\n",
    "\n",
    "# Load pre-trained model\n",
    "designer = sf.SAFEDesign.load_default(verbose=True)\n",
    "designer.model"
   ]
  },
  {
   "cell_type": "code",
   "execution_count": null,
   "metadata": {},
   "outputs": [],
   "source": [
    "### Scaffold Morphing\n",
    "side_chains = \"[1*]C(=O)C#CCN1CCCCC1.[2*]c1cccc(Br)c1\"\n",
    "dm.to_image(side_chains)"
   ]
  },
  {
   "cell_type": "code",
   "execution_count": null,
   "metadata": {},
   "outputs": [],
   "source": [
    "generated_smiles = designer.scaffold_morphing(\n",
    "    side_chains=side_chains,\n",
    "    n_samples_per_trial=12,\n",
    "    n_trials=1,\n",
    "    sanitize=True,\n",
    "    do_not_fragment_further=False,\n",
    "    random_seed=100,\n",
    ")\n",
    "\n",
    "generated_smiles"
   ]
  },
  {
   "cell_type": "code",
   "execution_count": null,
   "metadata": {},
   "outputs": [],
   "source": [
    "dm.to_image(generated_smiles[:12], mol_size=(350, 200))"
   ]
  },
  {
   "cell_type": "markdown",
   "metadata": {},
   "source": [
    "## Testing core structure"
   ]
  },
  {
   "cell_type": "code",
   "execution_count": 3,
   "metadata": {},
   "outputs": [
    {
     "ename": "ArgumentError",
     "evalue": "Python argument types in\n    rdkit.Chem.rdmolops.ReplaceCore(NoneType, Mol)\ndid not match C++ signature:\n    ReplaceCore(RDKit::ROMol mol, RDKit::ROMol coreQuery, bool replaceDummies=True, bool labelByIndex=False, bool requireDummyMatch=False, bool useChirality=False)\n    ReplaceCore(RDKit::ROMol mol, RDKit::ROMol core, boost::python::api::object matches, bool replaceDummies=True, bool labelByIndex=False, bool requireDummyMatch=False)",
     "output_type": "error",
     "traceback": [
      "\u001b[0;31m---------------------------------------------------------------------------\u001b[0m",
      "\u001b[0;31mArgumentError\u001b[0m                             Traceback (most recent call last)",
      "Cell \u001b[0;32mIn[3], line 5\u001b[0m\n\u001b[1;32m      2\u001b[0m core_structure \u001b[38;5;241m=\u001b[39m \u001b[38;5;124m\"\u001b[39m\u001b[38;5;124mN1=CC=N[N]1\u001b[39m\u001b[38;5;124m\"\u001b[39m\n\u001b[1;32m      4\u001b[0m \u001b[38;5;66;03m# Generate scaffold morphing\u001b[39;00m\n\u001b[0;32m----> 5\u001b[0m generated_smiles \u001b[38;5;241m=\u001b[39m \u001b[43mdesigner\u001b[49m\u001b[38;5;241;43m.\u001b[39;49m\u001b[43mscaffold_morphing\u001b[49m\u001b[43m(\u001b[49m\n\u001b[1;32m      6\u001b[0m \u001b[43m    \u001b[49m\u001b[43mcore\u001b[49m\u001b[38;5;241;43m=\u001b[39;49m\u001b[43mcore_structure\u001b[49m\u001b[43m,\u001b[49m\n\u001b[1;32m      7\u001b[0m \u001b[43m    \u001b[49m\u001b[43mn_samples_per_trial\u001b[49m\u001b[38;5;241;43m=\u001b[39;49m\u001b[38;5;241;43m12\u001b[39;49m\u001b[43m,\u001b[49m\n\u001b[1;32m      8\u001b[0m \u001b[43m    \u001b[49m\u001b[43mn_trials\u001b[49m\u001b[38;5;241;43m=\u001b[39;49m\u001b[38;5;241;43m1\u001b[39;49m\u001b[43m,\u001b[49m\n\u001b[1;32m      9\u001b[0m \u001b[43m    \u001b[49m\u001b[43msanitize\u001b[49m\u001b[38;5;241;43m=\u001b[39;49m\u001b[38;5;28;43;01mTrue\u001b[39;49;00m\u001b[43m,\u001b[49m\n\u001b[1;32m     10\u001b[0m \u001b[43m    \u001b[49m\u001b[43mdo_not_fragment_further\u001b[49m\u001b[38;5;241;43m=\u001b[39;49m\u001b[38;5;28;43;01mFalse\u001b[39;49;00m\u001b[43m,\u001b[49m\n\u001b[1;32m     11\u001b[0m \u001b[43m    \u001b[49m\u001b[43mrandom_seed\u001b[49m\u001b[38;5;241;43m=\u001b[39;49m\u001b[38;5;241;43m100\u001b[39;49m\u001b[43m,\u001b[49m\n\u001b[1;32m     12\u001b[0m \u001b[43m)\u001b[49m\n\u001b[1;32m     14\u001b[0m \u001b[38;5;66;03m# Display the generated SMILES\u001b[39;00m\n\u001b[1;32m     15\u001b[0m \u001b[38;5;28mprint\u001b[39m(generated_smiles)\n",
      "File \u001b[0;32m~/anaconda3/envs/safe/lib/python3.9/site-packages/safe/sample.py:172\u001b[0m, in \u001b[0;36mSAFEDesign.scaffold_morphing\u001b[0;34m(self, side_chains, mol, core, n_samples_per_trial, n_trials, sanitize, do_not_fragment_further, random_seed, **kwargs)\u001b[0m\n\u001b[1;32m    137\u001b[0m \u001b[38;5;28;01mdef\u001b[39;00m \u001b[38;5;21mscaffold_morphing\u001b[39m(\n\u001b[1;32m    138\u001b[0m     \u001b[38;5;28mself\u001b[39m,\n\u001b[1;32m    139\u001b[0m     side_chains: Optional[Union[dm\u001b[38;5;241m.\u001b[39mMol, \u001b[38;5;28mstr\u001b[39m, List[Union[\u001b[38;5;28mstr\u001b[39m, dm\u001b[38;5;241m.\u001b[39mMol]]]] \u001b[38;5;241m=\u001b[39m \u001b[38;5;28;01mNone\u001b[39;00m,\n\u001b[0;32m   (...)\u001b[0m\n\u001b[1;32m    147\u001b[0m     \u001b[38;5;241m*\u001b[39m\u001b[38;5;241m*\u001b[39mkwargs,\n\u001b[1;32m    148\u001b[0m ):\n\u001b[1;32m    149\u001b[0m \u001b[38;5;250m    \u001b[39m\u001b[38;5;124;03m\"\"\"Perform scaffold morphing decoration using the pretrained SAFE model\u001b[39;00m\n\u001b[1;32m    150\u001b[0m \n\u001b[1;32m    151\u001b[0m \u001b[38;5;124;03m    For scaffold morphing, we try to replace the core by a new one. If the side_chains are provided, we use them.\u001b[39;00m\n\u001b[0;32m   (...)\u001b[0m\n\u001b[1;32m    169\u001b[0m \u001b[38;5;124;03m        kwargs: any argument to provide to the underlying generation function\u001b[39;00m\n\u001b[1;32m    170\u001b[0m \u001b[38;5;124;03m    \"\"\"\u001b[39;00m\n\u001b[0;32m--> 172\u001b[0m     \u001b[38;5;28;01mreturn\u001b[39;00m \u001b[38;5;28;43mself\u001b[39;49m\u001b[38;5;241;43m.\u001b[39;49m\u001b[43m_fragment_linking\u001b[49m\u001b[43m(\u001b[49m\n\u001b[1;32m    173\u001b[0m \u001b[43m        \u001b[49m\u001b[43mside_chains\u001b[49m\u001b[38;5;241;43m=\u001b[39;49m\u001b[43mside_chains\u001b[49m\u001b[43m,\u001b[49m\n\u001b[1;32m    174\u001b[0m \u001b[43m        \u001b[49m\u001b[43mmol\u001b[49m\u001b[38;5;241;43m=\u001b[39;49m\u001b[43mmol\u001b[49m\u001b[43m,\u001b[49m\n\u001b[1;32m    175\u001b[0m \u001b[43m        \u001b[49m\u001b[43mcore\u001b[49m\u001b[38;5;241;43m=\u001b[39;49m\u001b[43mcore\u001b[49m\u001b[43m,\u001b[49m\n\u001b[1;32m    176\u001b[0m \u001b[43m        \u001b[49m\u001b[43mn_samples_per_trial\u001b[49m\u001b[38;5;241;43m=\u001b[39;49m\u001b[43mn_samples_per_trial\u001b[49m\u001b[43m,\u001b[49m\n\u001b[1;32m    177\u001b[0m \u001b[43m        \u001b[49m\u001b[43mn_trials\u001b[49m\u001b[38;5;241;43m=\u001b[39;49m\u001b[43mn_trials\u001b[49m\u001b[43m,\u001b[49m\n\u001b[1;32m    178\u001b[0m \u001b[43m        \u001b[49m\u001b[43msanitize\u001b[49m\u001b[38;5;241;43m=\u001b[39;49m\u001b[43msanitize\u001b[49m\u001b[43m,\u001b[49m\n\u001b[1;32m    179\u001b[0m \u001b[43m        \u001b[49m\u001b[43mdo_not_fragment_further\u001b[49m\u001b[38;5;241;43m=\u001b[39;49m\u001b[43mdo_not_fragment_further\u001b[49m\u001b[43m,\u001b[49m\n\u001b[1;32m    180\u001b[0m \u001b[43m        \u001b[49m\u001b[43mrandom_seed\u001b[49m\u001b[38;5;241;43m=\u001b[39;49m\u001b[43mrandom_seed\u001b[49m\u001b[43m,\u001b[49m\n\u001b[1;32m    181\u001b[0m \u001b[43m        \u001b[49m\u001b[43mis_linking\u001b[49m\u001b[38;5;241;43m=\u001b[39;49m\u001b[38;5;28;43;01mFalse\u001b[39;49;00m\u001b[43m,\u001b[49m\n\u001b[1;32m    182\u001b[0m \u001b[43m        \u001b[49m\u001b[38;5;241;43m*\u001b[39;49m\u001b[38;5;241;43m*\u001b[39;49m\u001b[43mkwargs\u001b[49m\u001b[43m,\u001b[49m\n\u001b[1;32m    183\u001b[0m \u001b[43m    \u001b[49m\u001b[43m)\u001b[49m\n",
      "File \u001b[0;32m~/anaconda3/envs/safe/lib/python3.9/site-packages/safe/sample.py:229\u001b[0m, in \u001b[0;36mSAFEDesign._fragment_linking\u001b[0;34m(self, side_chains, mol, core, n_samples_per_trial, n_trials, sanitize, do_not_fragment_further, random_seed, is_linking, model_only, **kwargs)\u001b[0m\n\u001b[1;32m    225\u001b[0m     \u001b[38;5;28;01mif\u001b[39;00m mol \u001b[38;5;129;01mis\u001b[39;00m \u001b[38;5;28;01mNone\u001b[39;00m \u001b[38;5;129;01mand\u001b[39;00m core \u001b[38;5;129;01mis\u001b[39;00m \u001b[38;5;28;01mNone\u001b[39;00m:\n\u001b[1;32m    226\u001b[0m         \u001b[38;5;28;01mraise\u001b[39;00m \u001b[38;5;167;01mValueError\u001b[39;00m(\n\u001b[1;32m    227\u001b[0m             \u001b[38;5;124m\"\u001b[39m\u001b[38;5;124mEither side_chains OR mol+core should be provided for scaffold morphing\u001b[39m\u001b[38;5;124m\"\u001b[39m\n\u001b[1;32m    228\u001b[0m         )\n\u001b[0;32m--> 229\u001b[0m     side_chains \u001b[38;5;241m=\u001b[39m \u001b[43msf\u001b[49m\u001b[38;5;241;43m.\u001b[39;49m\u001b[43mtrainer\u001b[49m\u001b[38;5;241;43m.\u001b[39;49m\u001b[43mutils\u001b[49m\u001b[38;5;241;43m.\u001b[39;49m\u001b[43mcompute_side_chains\u001b[49m\u001b[43m(\u001b[49m\u001b[43mmol\u001b[49m\u001b[43m,\u001b[49m\u001b[43m \u001b[49m\u001b[43mcore\u001b[49m\u001b[43m)\u001b[49m\n\u001b[1;32m    230\u001b[0m side_chains \u001b[38;5;241m=\u001b[39m (\n\u001b[1;32m    231\u001b[0m     [dm\u001b[38;5;241m.\u001b[39mto_mol(x) \u001b[38;5;28;01mfor\u001b[39;00m x \u001b[38;5;129;01min\u001b[39;00m side_chains]\n\u001b[1;32m    232\u001b[0m     \u001b[38;5;28;01mif\u001b[39;00m \u001b[38;5;28misinstance\u001b[39m(side_chains, \u001b[38;5;28mlist\u001b[39m)\n\u001b[1;32m    233\u001b[0m     \u001b[38;5;28;01melse\u001b[39;00m [dm\u001b[38;5;241m.\u001b[39mto_mol(side_chains)]\n\u001b[1;32m    234\u001b[0m )\n\u001b[1;32m    236\u001b[0m side_chains \u001b[38;5;241m=\u001b[39m \u001b[38;5;124m\"\u001b[39m\u001b[38;5;124m.\u001b[39m\u001b[38;5;124m\"\u001b[39m\u001b[38;5;241m.\u001b[39mjoin([dm\u001b[38;5;241m.\u001b[39mto_smiles(x) \u001b[38;5;28;01mfor\u001b[39;00m x \u001b[38;5;129;01min\u001b[39;00m side_chains])\n",
      "File \u001b[0;32m~/anaconda3/envs/safe/lib/python3.9/site-packages/safe/utils.py:515\u001b[0m, in \u001b[0;36mcompute_side_chains\u001b[0;34m(mol, core, label_by_index)\u001b[0m\n\u001b[1;32m    513\u001b[0m core_query_param\u001b[38;5;241m.\u001b[39mmakeBondsGeneric \u001b[38;5;241m=\u001b[39m \u001b[38;5;28;01mFalse\u001b[39;00m\n\u001b[1;32m    514\u001b[0m core_query \u001b[38;5;241m=\u001b[39m AdjustQueryProperties(core, core_query_param)\n\u001b[0;32m--> 515\u001b[0m \u001b[38;5;28;01mreturn\u001b[39;00m \u001b[43mReplaceCore\u001b[49m\u001b[43m(\u001b[49m\n\u001b[1;32m    516\u001b[0m \u001b[43m    \u001b[49m\u001b[43mmol\u001b[49m\u001b[43m,\u001b[49m\u001b[43m \u001b[49m\u001b[43mcore_query\u001b[49m\u001b[43m,\u001b[49m\u001b[43m \u001b[49m\u001b[43mlabelByIndex\u001b[49m\u001b[38;5;241;43m=\u001b[39;49m\u001b[43mlabel_by_index\u001b[49m\u001b[43m,\u001b[49m\u001b[43m \u001b[49m\u001b[43mreplaceDummies\u001b[49m\u001b[38;5;241;43m=\u001b[39;49m\u001b[38;5;28;43;01mFalse\u001b[39;49;00m\u001b[43m,\u001b[49m\u001b[43m \u001b[49m\u001b[43mrequireDummyMatch\u001b[49m\u001b[38;5;241;43m=\u001b[39;49m\u001b[38;5;28;43;01mFalse\u001b[39;49;00m\n\u001b[1;32m    517\u001b[0m \u001b[43m\u001b[49m\u001b[43m)\u001b[49m\n",
      "\u001b[0;31mArgumentError\u001b[0m: Python argument types in\n    rdkit.Chem.rdmolops.ReplaceCore(NoneType, Mol)\ndid not match C++ signature:\n    ReplaceCore(RDKit::ROMol mol, RDKit::ROMol coreQuery, bool replaceDummies=True, bool labelByIndex=False, bool requireDummyMatch=False, bool useChirality=False)\n    ReplaceCore(RDKit::ROMol mol, RDKit::ROMol core, boost::python::api::object matches, bool replaceDummies=True, bool labelByIndex=False, bool requireDummyMatch=False)"
     ]
    }
   ],
   "source": [
    "# Define the core structure of triazolopyrazine\n",
    "core_structure = \"N1=CC=N[N]1\"\n",
    "\n",
    "# Generate scaffold morphing\n",
    "generated_smiles = designer.scaffold_morphing(\n",
    "    core=core_structure,\n",
    "    n_samples_per_trial=12,\n",
    "    n_trials=1,\n",
    "    sanitize=True,\n",
    "    do_not_fragment_further=False,\n",
    "    random_seed=100,\n",
    ")\n",
    "\n",
    "# Display the generated SMILES\n",
    "print(generated_smiles)"
   ]
  },
  {
   "cell_type": "markdown",
   "metadata": {},
   "source": [
    "### Convert Molecule to Side Chain"
   ]
  },
  {
   "cell_type": "code",
   "execution_count": null,
   "metadata": {},
   "outputs": [],
   "source": [
    "mol = \"CC1=C(C(=NO1)C2=CC=CC=C2Cl)C(=O)NC3C4N(C3=O)C(C(S4)(C)C)C(=O)O\"\n",
    "core0 = \"CC1(C)CN2C(CC2=O)S1\"\n",
    "core1 = \"CC1(C)SC2C(-*)C(=O)N2C1-*\"\n",
    "core2 = \"CC1N2C(SC1(C)C)C(N)C2=O\"\n",
    "side_chain = compute_side_chain(core=core0, mol=mol)\n",
    "dm.to_image([side_chain, core0, mol])"
   ]
  },
  {
   "cell_type": "markdown",
   "metadata": {},
   "source": [
    "## Testing the main.py script"
   ]
  },
  {
   "cell_type": "code",
   "execution_count": 3,
   "metadata": {},
   "outputs": [
    {
     "name": "stderr",
     "output_type": "stream",
     "text": [
      "\u001b[32m2024-01-17 14:42:37.121\u001b[0m | \u001b[33m\u001b[1mWARNING \u001b[0m | \u001b[36msafe.sample\u001b[0m:\u001b[36m_fragment_linking\u001b[0m:\u001b[36m239\u001b[0m - \u001b[33m\u001b[1mSide chain NCCS does not contain any dummy atoms, this might not be what you want\u001b[0m\n"
     ]
    },
    {
     "name": "stdout",
     "output_type": "stream",
     "text": [
      "Error in SMILES conversion\n"
     ]
    },
    {
     "name": "stderr",
     "output_type": "stream",
     "text": [
      "                                     \r"
     ]
    },
    {
     "ename": "IndexError",
     "evalue": "list index out of range",
     "output_type": "error",
     "traceback": [
      "\u001b[0;31m---------------------------------------------------------------------------\u001b[0m",
      "\u001b[0;31mIndexError\u001b[0m                                Traceback (most recent call last)",
      "Cell \u001b[0;32mIn[3], line 58\u001b[0m\n\u001b[1;32m     55\u001b[0m side_chains_list \u001b[38;5;241m=\u001b[39m [side_chains(sf) \u001b[38;5;28;01mfor\u001b[39;00m sf \u001b[38;5;129;01min\u001b[39;00m safe_list]\n\u001b[1;32m     57\u001b[0m \u001b[38;5;66;03m# run model\u001b[39;00m\n\u001b[0;32m---> 58\u001b[0m outputs \u001b[38;5;241m=\u001b[39m \u001b[43mmy_model\u001b[49m\u001b[43m(\u001b[49m\u001b[43msmiles_list\u001b[49m\u001b[43m)\u001b[49m\n\u001b[1;32m     59\u001b[0m outputs\n",
      "Cell \u001b[0;32mIn[3], line 38\u001b[0m, in \u001b[0;36mmy_model\u001b[0;34m(side_chains_list)\u001b[0m\n\u001b[1;32m     37\u001b[0m \u001b[38;5;28;01mdef\u001b[39;00m \u001b[38;5;21mmy_model\u001b[39m(side_chains_list):\n\u001b[0;32m---> 38\u001b[0m     \u001b[38;5;28;01mreturn\u001b[39;00m [generate_smiles(side_chains) \u001b[38;5;28;01mfor\u001b[39;00m side_chains \u001b[38;5;129;01min\u001b[39;00m side_chains_list]\n",
      "Cell \u001b[0;32mIn[3], line 38\u001b[0m, in \u001b[0;36m<listcomp>\u001b[0;34m(.0)\u001b[0m\n\u001b[1;32m     37\u001b[0m \u001b[38;5;28;01mdef\u001b[39;00m \u001b[38;5;21mmy_model\u001b[39m(side_chains_list):\n\u001b[0;32m---> 38\u001b[0m     \u001b[38;5;28;01mreturn\u001b[39;00m [\u001b[43mgenerate_smiles\u001b[49m\u001b[43m(\u001b[49m\u001b[43mside_chains\u001b[49m\u001b[43m)\u001b[49m \u001b[38;5;28;01mfor\u001b[39;00m side_chains \u001b[38;5;129;01min\u001b[39;00m side_chains_list]\n",
      "Cell \u001b[0;32mIn[3], line 27\u001b[0m, in \u001b[0;36mgenerate_smiles\u001b[0;34m(side_chains)\u001b[0m\n\u001b[1;32m     26\u001b[0m \u001b[38;5;28;01mdef\u001b[39;00m \u001b[38;5;21mgenerate_smiles\u001b[39m(side_chains):\n\u001b[0;32m---> 27\u001b[0m     generated_smiles \u001b[38;5;241m=\u001b[39m \u001b[43mdesigner\u001b[49m\u001b[38;5;241;43m.\u001b[39;49m\u001b[43mscaffold_morphing\u001b[49m\u001b[43m(\u001b[49m\n\u001b[1;32m     28\u001b[0m \u001b[43m        \u001b[49m\u001b[43mside_chains\u001b[49m\u001b[38;5;241;43m=\u001b[39;49m\u001b[43mside_chains\u001b[49m\u001b[43m,\u001b[49m\n\u001b[1;32m     29\u001b[0m \u001b[43m        \u001b[49m\u001b[43mn_samples_per_trial\u001b[49m\u001b[38;5;241;43m=\u001b[39;49m\u001b[38;5;241;43m12\u001b[39;49m\u001b[43m,\u001b[49m\n\u001b[1;32m     30\u001b[0m \u001b[43m        \u001b[49m\u001b[43mn_trials\u001b[49m\u001b[38;5;241;43m=\u001b[39;49m\u001b[38;5;241;43m1\u001b[39;49m\u001b[43m,\u001b[49m\n\u001b[1;32m     31\u001b[0m \u001b[43m        \u001b[49m\u001b[43msanitize\u001b[49m\u001b[38;5;241;43m=\u001b[39;49m\u001b[38;5;28;43;01mTrue\u001b[39;49;00m\u001b[43m,\u001b[49m\n\u001b[1;32m     32\u001b[0m \u001b[43m        \u001b[49m\u001b[43mdo_not_fragment_further\u001b[49m\u001b[38;5;241;43m=\u001b[39;49m\u001b[38;5;28;43;01mFalse\u001b[39;49;00m\u001b[43m,\u001b[49m\n\u001b[1;32m     33\u001b[0m \u001b[43m        \u001b[49m\u001b[43mrandom_seed\u001b[49m\u001b[38;5;241;43m=\u001b[39;49m\u001b[38;5;241;43m100\u001b[39;49m\u001b[43m,\u001b[49m\u001b[43m)\u001b[49m\n\u001b[1;32m     34\u001b[0m     \u001b[38;5;28;01mreturn\u001b[39;00m generated_smiles\n",
      "File \u001b[0;32m~/anaconda3/envs/safe/lib/python3.9/site-packages/safe/sample.py:172\u001b[0m, in \u001b[0;36mSAFEDesign.scaffold_morphing\u001b[0;34m(self, side_chains, mol, core, n_samples_per_trial, n_trials, sanitize, do_not_fragment_further, random_seed, **kwargs)\u001b[0m\n\u001b[1;32m    137\u001b[0m \u001b[38;5;28;01mdef\u001b[39;00m \u001b[38;5;21mscaffold_morphing\u001b[39m(\n\u001b[1;32m    138\u001b[0m     \u001b[38;5;28mself\u001b[39m,\n\u001b[1;32m    139\u001b[0m     side_chains: Optional[Union[dm\u001b[38;5;241m.\u001b[39mMol, \u001b[38;5;28mstr\u001b[39m, List[Union[\u001b[38;5;28mstr\u001b[39m, dm\u001b[38;5;241m.\u001b[39mMol]]]] \u001b[38;5;241m=\u001b[39m \u001b[38;5;28;01mNone\u001b[39;00m,\n\u001b[0;32m   (...)\u001b[0m\n\u001b[1;32m    147\u001b[0m     \u001b[38;5;241m*\u001b[39m\u001b[38;5;241m*\u001b[39mkwargs,\n\u001b[1;32m    148\u001b[0m ):\n\u001b[1;32m    149\u001b[0m \u001b[38;5;250m    \u001b[39m\u001b[38;5;124;03m\"\"\"Perform scaffold morphing decoration using the pretrained SAFE model\u001b[39;00m\n\u001b[1;32m    150\u001b[0m \n\u001b[1;32m    151\u001b[0m \u001b[38;5;124;03m    For scaffold morphing, we try to replace the core by a new one. If the side_chains are provided, we use them.\u001b[39;00m\n\u001b[0;32m   (...)\u001b[0m\n\u001b[1;32m    169\u001b[0m \u001b[38;5;124;03m        kwargs: any argument to provide to the underlying generation function\u001b[39;00m\n\u001b[1;32m    170\u001b[0m \u001b[38;5;124;03m    \"\"\"\u001b[39;00m\n\u001b[0;32m--> 172\u001b[0m     \u001b[38;5;28;01mreturn\u001b[39;00m \u001b[38;5;28;43mself\u001b[39;49m\u001b[38;5;241;43m.\u001b[39;49m\u001b[43m_fragment_linking\u001b[49m\u001b[43m(\u001b[49m\n\u001b[1;32m    173\u001b[0m \u001b[43m        \u001b[49m\u001b[43mside_chains\u001b[49m\u001b[38;5;241;43m=\u001b[39;49m\u001b[43mside_chains\u001b[49m\u001b[43m,\u001b[49m\n\u001b[1;32m    174\u001b[0m \u001b[43m        \u001b[49m\u001b[43mmol\u001b[49m\u001b[38;5;241;43m=\u001b[39;49m\u001b[43mmol\u001b[49m\u001b[43m,\u001b[49m\n\u001b[1;32m    175\u001b[0m \u001b[43m        \u001b[49m\u001b[43mcore\u001b[49m\u001b[38;5;241;43m=\u001b[39;49m\u001b[43mcore\u001b[49m\u001b[43m,\u001b[49m\n\u001b[1;32m    176\u001b[0m \u001b[43m        \u001b[49m\u001b[43mn_samples_per_trial\u001b[49m\u001b[38;5;241;43m=\u001b[39;49m\u001b[43mn_samples_per_trial\u001b[49m\u001b[43m,\u001b[49m\n\u001b[1;32m    177\u001b[0m \u001b[43m        \u001b[49m\u001b[43mn_trials\u001b[49m\u001b[38;5;241;43m=\u001b[39;49m\u001b[43mn_trials\u001b[49m\u001b[43m,\u001b[49m\n\u001b[1;32m    178\u001b[0m \u001b[43m        \u001b[49m\u001b[43msanitize\u001b[49m\u001b[38;5;241;43m=\u001b[39;49m\u001b[43msanitize\u001b[49m\u001b[43m,\u001b[49m\n\u001b[1;32m    179\u001b[0m \u001b[43m        \u001b[49m\u001b[43mdo_not_fragment_further\u001b[49m\u001b[38;5;241;43m=\u001b[39;49m\u001b[43mdo_not_fragment_further\u001b[49m\u001b[43m,\u001b[49m\n\u001b[1;32m    180\u001b[0m \u001b[43m        \u001b[49m\u001b[43mrandom_seed\u001b[49m\u001b[38;5;241;43m=\u001b[39;49m\u001b[43mrandom_seed\u001b[49m\u001b[43m,\u001b[49m\n\u001b[1;32m    181\u001b[0m \u001b[43m        \u001b[49m\u001b[43mis_linking\u001b[49m\u001b[38;5;241;43m=\u001b[39;49m\u001b[38;5;28;43;01mFalse\u001b[39;49;00m\u001b[43m,\u001b[49m\n\u001b[1;32m    182\u001b[0m \u001b[43m        \u001b[49m\u001b[38;5;241;43m*\u001b[39;49m\u001b[38;5;241;43m*\u001b[39;49m\u001b[43mkwargs\u001b[49m\u001b[43m,\u001b[49m\n\u001b[1;32m    183\u001b[0m \u001b[43m    \u001b[49m\u001b[43m)\u001b[49m\n",
      "File \u001b[0;32m~/anaconda3/envs/safe/lib/python3.9/site-packages/safe/sample.py:285\u001b[0m, in \u001b[0;36mSAFEDesign._fragment_linking\u001b[0;34m(self, side_chains, mol, core, n_samples_per_trial, n_trials, sanitize, do_not_fragment_further, random_seed, is_linking, model_only, **kwargs)\u001b[0m\n\u001b[1;32m    283\u001b[0m fragment_pos \u001b[38;5;241m=\u001b[39m [m\u001b[38;5;241m.\u001b[39mstart() \u001b[38;5;28;01mfor\u001b[39;00m m \u001b[38;5;129;01min\u001b[39;00m re\u001b[38;5;241m.\u001b[39mfinditer(\u001b[38;5;124mr\u001b[39m\u001b[38;5;124m\"\u001b[39m\u001b[38;5;124m\\\u001b[39m\u001b[38;5;124m.\u001b[39m\u001b[38;5;124m\"\u001b[39m, encoded_fragment)]\n\u001b[1;32m    284\u001b[0m min_pos \u001b[38;5;241m=\u001b[39m \u001b[38;5;241m0\u001b[39m\n\u001b[0;32m--> 285\u001b[0m \u001b[38;5;28;01mwhile\u001b[39;00m \u001b[43mfragment_pos\u001b[49m\u001b[43m[\u001b[49m\u001b[43mmin_pos\u001b[49m\u001b[43m]\u001b[49m \u001b[38;5;241m<\u001b[39m closure_pos[\u001b[38;5;241m0\u001b[39m] \u001b[38;5;129;01mand\u001b[39;00m min_pos \u001b[38;5;241m<\u001b[39m \u001b[38;5;28mlen\u001b[39m(fragment_pos):\n\u001b[1;32m    286\u001b[0m     min_pos \u001b[38;5;241m+\u001b[39m\u001b[38;5;241m=\u001b[39m \u001b[38;5;241m1\u001b[39m\n\u001b[1;32m    287\u001b[0m min_pos \u001b[38;5;241m+\u001b[39m\u001b[38;5;241m=\u001b[39m \u001b[38;5;241m1\u001b[39m\n",
      "\u001b[0;31mIndexError\u001b[0m: list index out of range"
     ]
    }
   ],
   "source": [
    "# imports\n",
    "import os\n",
    "import csv\n",
    "# from rdkit import Chem\n",
    "# from rdkit.Chem.Descriptors import MolWt\n",
    "os.environ[\"TOKENIZERS_PARALLELISM\"] = \"false\"\n",
    "import safe as sf\n",
    "\n",
    "\n",
    "# convert SMILES to SAFE\n",
    "def smiles_to_safe(smiles):\n",
    "    try:\n",
    "        safe = sf.encode(smiles)\n",
    "        return safe\n",
    "    # except sf.EncoderError:\n",
    "    except:\n",
    "        print(\"Error in SMILES conversion\")\n",
    "\n",
    "\n",
    "#  convert core structure to side chain\n",
    "def side_chains(core_structure):\n",
    "    return core_structure\n",
    "\n",
    "\n",
    "# generate new smiles\n",
    "def generate_smiles(side_chains):\n",
    "    generated_smiles = designer.scaffold_morphing(\n",
    "        side_chains=side_chains,\n",
    "        n_samples_per_trial=12,\n",
    "        n_trials=1,\n",
    "        sanitize=True,\n",
    "        do_not_fragment_further=False,\n",
    "        random_seed=100,)\n",
    "    return generated_smiles\n",
    "\n",
    "# my model\n",
    "def my_model(side_chains_list):\n",
    "    return [generate_smiles(side_chains) for side_chains in side_chains_list]\n",
    "\n",
    "\n",
    "# read SMILES from .csv file, assuming one column with header\n",
    "with open(\"data/my_molecules.csv\", \"r\") as f:\n",
    "    reader = csv.reader(f)\n",
    "    next(reader)  # skip header\n",
    "    smiles_list = [r[0] for r in reader]\n",
    "\n",
    "# Load pre-trained model\n",
    "designer = sf.SAFEDesign.load_default(verbose=True)\n",
    "designer.model\n",
    "\n",
    "# convert to SAFE\n",
    "safe_list = [smiles_to_safe(smi) for smi in smiles_list]\n",
    "\n",
    "# convert molecule to side chains\n",
    "side_chains_list = [side_chains(sf) for sf in safe_list]\n",
    "\n",
    "# run model\n",
    "outputs = my_model(smiles_list)\n",
    "outputs"
   ]
  },
  {
   "cell_type": "code",
   "execution_count": null,
   "metadata": {},
   "outputs": [],
   "source": []
  }
 ],
 "metadata": {
  "kernelspec": {
   "display_name": "safe",
   "language": "python",
   "name": "python3"
  },
  "language_info": {
   "codemirror_mode": {
    "name": "ipython",
    "version": 3
   },
   "file_extension": ".py",
   "mimetype": "text/x-python",
   "name": "python",
   "nbconvert_exporter": "python",
   "pygments_lexer": "ipython3",
   "version": "3.9.18"
  }
 },
 "nbformat": 4,
 "nbformat_minor": 2
}
